{
  "nbformat": 4,
  "nbformat_minor": 0,
  "metadata": {
    "colab": {
      "name": "pre_make_full.ipynb",
      "provenance": [],
      "collapsed_sections": [],
      "machine_shape": "hm"
    },
    "kernelspec": {
      "name": "python3",
      "display_name": "Python 3"
    }
  },
  "cells": [
    {
      "cell_type": "markdown",
      "metadata": {
        "id": "QDPTBPTD11t2"
      },
      "source": [
        "# Fake News Detection with Adversarial Normalization\n",
        "\n",
        "Notebook with implemenation and testing for applying Adversarial Neural Networks to the task of Fake News Detection. Part of the project for Northeastern University's Khoury College course on Practical Neural Networks (DS 4440), during Fall 2020.\n",
        "\n",
        "This notebook preprocess the data generating usable datasets as `.csv` files\n",
        "\n",
        "\n",
        "Note: this notebook expects the data to be used to be located on a Google Drive account on a specific path. This *can* be modified.\n",
        "\n",
        "See README at https://github.com/pablokvitca/ds4440-project for more details."
      ]
    },
    {
      "cell_type": "code",
      "metadata": {
        "id": "su80ZP7Umk24"
      },
      "source": [
        "# Imports\n",
        "import pandas as pd\n",
        "import numpy as np\n",
        "import ast\n",
        "from time import time\n",
        "from sklearn.model_selection import train_test_split\n",
        "from collections import Counter\n",
        "import seaborn as sns\n",
        "import matplotlib.pyplot as plt"
      ],
      "execution_count": null,
      "outputs": []
    },
    {
      "cell_type": "code",
      "metadata": {
        "colab": {
          "base_uri": "https://localhost:8080/"
        },
        "id": "rBP9OY5SniV9",
        "outputId": "0fca532d-d870-4347-c106-102036e4e3e0"
      },
      "source": [
        "from google.colab import drive\n",
        "drive.mount('/content/drive')"
      ],
      "execution_count": null,
      "outputs": [
        {
          "output_type": "stream",
          "text": [
            "Drive already mounted at /content/drive; to attempt to forcibly remount, call drive.mount(\"/content/drive\", force_remount=True).\n"
          ],
          "name": "stdout"
        }
      ]
    },
    {
      "cell_type": "code",
      "metadata": {
        "id": "RbhDkOQ0njvz"
      },
      "source": [
        "source_folder = '/content/drive/My Drive/Projects/Academic/NN/data/'"
      ],
      "execution_count": null,
      "outputs": []
    },
    {
      "cell_type": "code",
      "metadata": {
        "id": "pDMHhEfinscz"
      },
      "source": [
        "raw_data_path = source_folder + \"news_wkta_all.csv.zip\""
      ],
      "execution_count": null,
      "outputs": []
    },
    {
      "cell_type": "code",
      "metadata": {
        "colab": {
          "base_uri": "https://localhost:8080/"
        },
        "id": "81sQTEcCn4mW",
        "outputId": "6abc1c01-ebd5-47fb-eb13-91aee1908d8c"
      },
      "source": [
        "df_raw = pd.read_csv(\n",
        "    raw_data_path, \n",
        "    nrows=2_000_000,\n",
        "    encoding=\"utf-8\", quotechar='\"',\n",
        "    low_memory=True, memory_map=True,\n",
        "    engine=\"c\", compression=\"zip\", \n",
        "    error_bad_lines=False, warn_bad_lines=True\n",
        ")\n",
        "df_raw.shape"
      ],
      "execution_count": null,
      "outputs": [
        {
          "output_type": "execute_result",
          "data": {
            "text/plain": [
              "(2000000, 307)"
            ]
          },
          "metadata": {
            "tags": []
          },
          "execution_count": 5
        }
      ]
    },
    {
      "cell_type": "code",
      "metadata": {
        "id": "wtTecj2GoIwj"
      },
      "source": [
        "metadata_counts_path = source_folder + \"metadata_counts.python_output\""
      ],
      "execution_count": null,
      "outputs": []
    },
    {
      "cell_type": "code",
      "metadata": {
        "id": "1iWoMV02oZ7O"
      },
      "source": [
        "counts_keywords = Counter()\n",
        "counts_tags = Counter()\n",
        "counts_authors = Counter()\n",
        "with open(metadata_counts_path, 'r') as file:\n",
        "    data = file.read().split(\"Counter(\")\n",
        "    \n",
        "    counts_keywords.update(ast.literal_eval(data[1][:-2]))\n",
        "    counts_tags.update(ast.literal_eval(data[2][:-2]))\n",
        "    counts_authors.update(ast.literal_eval(data[3][:-2]))\n",
        "\n"
      ],
      "execution_count": null,
      "outputs": []
    },
    {
      "cell_type": "code",
      "metadata": {
        "colab": {
          "base_uri": "https://localhost:8080/"
        },
        "id": "9x6Se7E9wIYt",
        "outputId": "9ec89d1c-2c92-45ef-fa9b-2b27479f8cae"
      },
      "source": [
        "counts_keywords.most_common(25)"
      ],
      "execution_count": null,
      "outputs": [
        {
          "output_type": "execute_result",
          "data": {
            "text/plain": [
              "[('climate change', 313727),\n",
              " ('business', 258123),\n",
              " ('energy', 220365),\n",
              " ('renewables', 192477),\n",
              " ('health', 105349),\n",
              " ('food', 100328),\n",
              " ('biodiversity', 98606),\n",
              " ('sustainable business', 97040),\n",
              " ('coal', 75628),\n",
              " ('fracking', 74660),\n",
              " ('politics', 73086),\n",
              " ('science', 66711),\n",
              " ('china', 42220),\n",
              " ('ebola', 33690),\n",
              " ('cuba', 33528),\n",
              " ('cop21', 32877),\n",
              " ('pipelines', 32852),\n",
              " ('russia', 32836),\n",
              " ('tips', 32300),\n",
              " ('transportation', 31966),\n",
              " ('donald trump', 26632),\n",
              " ('united states', 23972),\n",
              " ('barack obama', 20173),\n",
              " ('hillary clinton', 17902),\n",
              " ('economics', 17598)]"
            ]
          },
          "metadata": {
            "tags": []
          },
          "execution_count": 8
        }
      ]
    },
    {
      "cell_type": "code",
      "metadata": {
        "colab": {
          "base_uri": "https://localhost:8080/"
        },
        "id": "oZHUaLc8wN0g",
        "outputId": "d9ea839d-3e5e-4db3-85f3-6c96d17742e6"
      },
      "source": [
        "counts_tags.most_common(25)"
      ],
      "execution_count": null,
      "outputs": [
        {
          "output_type": "execute_result",
          "data": {
            "text/plain": [
              "[('russia', 65416),\n",
              " ('donald trump', 60004),\n",
              " ('hillary clinton', 42836),\n",
              " ('syria', 35145),\n",
              " ('9/11 articles', 31523),\n",
              " ('race/crime articles', 31523),\n",
              " ('american pravda articles', 31523),\n",
              " ('race/iq articles', 31523),\n",
              " ('israel', 31399),\n",
              " ('libya', 30813),\n",
              " ('united states', 30101),\n",
              " ('immigration', 29121),\n",
              " ('politics', 28905),\n",
              " ('barack obama', 25986),\n",
              " ('trump', 25812),\n",
              " ('obama', 24607),\n",
              " ('isis', 24055),\n",
              " ('europe', 23574),\n",
              " ('iran', 23016),\n",
              " ('china', 22821),\n",
              " ('cia', 22379),\n",
              " ('benghazi', 22064),\n",
              " ('children', 21172),\n",
              " ('terrorism', 20555),\n",
              " ('islam', 20424)]"
            ]
          },
          "metadata": {
            "tags": []
          },
          "execution_count": 9
        }
      ]
    },
    {
      "cell_type": "code",
      "metadata": {
        "colab": {
          "base_uri": "https://localhost:8080/"
        },
        "id": "TWfeibmfwOHF",
        "outputId": "57c77065-0a2f-45f0-92d4-6a44386aa9a3"
      },
      "source": [
        "counts_authors.most_common(25)"
      ],
      "execution_count": null,
      "outputs": [
        {
          "output_type": "execute_result",
          "data": {
            "text/plain": [
              "[('lorraine chow', 746451),\n",
              " ('common dreams', 638516),\n",
              " ('guest contributor', 507058),\n",
              " ('the conversation', 384011),\n",
              " ('david leestma', 362631),\n",
              " ('environmental working group', 254739),\n",
              " ('ronnie cummins', 254659),\n",
              " ('the climate reality project', 254658),\n",
              " ('sierra club', 254636),\n",
              " ('rainforest action network', 254636),\n",
              " ('backgroundurl avatar_large', 224956),\n",
              " ('organic consumers association', 156531),\n",
              " (\"our children's trust\", 107978),\n",
              " ('american wild horse campaign', 107975),\n",
              " ('anastasia pantsios', 101821),\n",
              " ('stefanie spear', 98031),\n",
              " ('climate nexus', 82670),\n",
              " ('daily kos', 76786),\n",
              " ('happy cog studios - http', 76783),\n",
              " ('www.happycog.com', 76783),\n",
              " ('david codrea', 70085),\n",
              " ('tom mchale', 70085),\n",
              " ('jeff knox', 70085),\n",
              " ('the revelator', 49938),\n",
              " ('climate group', 49922)]"
            ]
          },
          "metadata": {
            "tags": []
          },
          "execution_count": 10
        }
      ]
    },
    {
      "cell_type": "code",
      "metadata": {
        "id": "OVVG8I8aqN3u"
      },
      "source": [
        "def filter_data_by_meta(df, prefix, meta_counts, n):\n",
        "    req_cols = [prefix + meta for meta, _ in meta_counts.most_common(n)]\n",
        "    \n",
        "    all_criteria = [df[col] == 1 for col in req_cols]\n",
        "    criteria = df[req_cols[0]] == 1\n",
        "    for col in req_cols[1:]:\n",
        "        criteria = criteria | df[col] == 1\n",
        "        \n",
        "    return df.loc[criteria]"
      ],
      "execution_count": null,
      "outputs": []
    },
    {
      "cell_type": "code",
      "metadata": {
        "colab": {
          "base_uri": "https://localhost:8080/"
        },
        "id": "kYfZg43wkqS5",
        "outputId": "5e57504a-f18d-402a-c354-ae2b95dcfcd8"
      },
      "source": [
        "df_raw.shape"
      ],
      "execution_count": null,
      "outputs": [
        {
          "output_type": "execute_result",
          "data": {
            "text/plain": [
              "(2000000, 307)"
            ]
          },
          "metadata": {
            "tags": []
          },
          "execution_count": 12
        }
      ]
    },
    {
      "cell_type": "code",
      "metadata": {
        "colab": {
          "base_uri": "https://localhost:8080/"
        },
        "id": "rv9l_UT9hj7c",
        "outputId": "d4f05205-c428-4c88-92c6-3011ff974c5d"
      },
      "source": [
        "df_raw.drop_duplicates(inplace=True)\n",
        "df_raw.reset_index()\n",
        "df_raw.shape"
      ],
      "execution_count": null,
      "outputs": [
        {
          "output_type": "execute_result",
          "data": {
            "text/plain": [
              "(1302734, 307)"
            ]
          },
          "metadata": {
            "tags": []
          },
          "execution_count": 14
        }
      ]
    },
    {
      "cell_type": "code",
      "metadata": {
        "id": "34fSPwYfw4U1"
      },
      "source": [
        "filtered_data = filter_data_by_meta(df_raw, \"has_mk_\", counts_keywords, 20)"
      ],
      "execution_count": null,
      "outputs": []
    },
    {
      "cell_type": "code",
      "metadata": {
        "colab": {
          "base_uri": "https://localhost:8080/"
        },
        "id": "8cEbZZGCw7Ex",
        "outputId": "fc081365-d266-41fe-9c7e-9c6f2baa38ce"
      },
      "source": [
        "filtered_data.shape"
      ],
      "execution_count": null,
      "outputs": [
        {
          "output_type": "execute_result",
          "data": {
            "text/plain": [
              "(39063, 307)"
            ]
          },
          "metadata": {
            "tags": []
          },
          "execution_count": 16
        }
      ]
    },
    {
      "cell_type": "code",
      "metadata": {
        "id": "Gq4Aa82u3ImR"
      },
      "source": [
        "filtered_data = filtered_data.copy()"
      ],
      "execution_count": null,
      "outputs": []
    },
    {
      "cell_type": "code",
      "metadata": {
        "colab": {
          "base_uri": "https://localhost:8080/"
        },
        "id": "r0en3TqMxPH2",
        "outputId": "06170f94-746b-4e6c-84df-3e835071395a"
      },
      "source": [
        "len(df_raw.domain.unique())"
      ],
      "execution_count": null,
      "outputs": [
        {
          "output_type": "execute_result",
          "data": {
            "text/plain": [
              "379"
            ]
          },
          "metadata": {
            "tags": []
          },
          "execution_count": 18
        }
      ]
    },
    {
      "cell_type": "code",
      "metadata": {
        "colab": {
          "base_uri": "https://localhost:8080/"
        },
        "id": "FPSb-QOnyBi-",
        "outputId": "e007b39d-49c5-4a9a-890b-de269a7d254c"
      },
      "source": [
        "len(filtered_data.domain.unique())"
      ],
      "execution_count": null,
      "outputs": [
        {
          "output_type": "execute_result",
          "data": {
            "text/plain": [
              "66"
            ]
          },
          "metadata": {
            "tags": []
          },
          "execution_count": 19
        }
      ]
    },
    {
      "cell_type": "code",
      "metadata": {
        "id": "eMmTYGq7hgIl"
      },
      "source": [
        "del df_raw"
      ],
      "execution_count": null,
      "outputs": []
    },
    {
      "cell_type": "code",
      "metadata": {
        "colab": {
          "base_uri": "https://localhost:8080/"
        },
        "id": "yStmnHWKyLgD",
        "outputId": "1eff4953-2744-4f11-89c8-b5875a862c60"
      },
      "source": [
        "print(filtered_data.fake.value_counts(normalize=False))\n",
        "print(filtered_data.fake.value_counts(normalize=True))"
      ],
      "execution_count": null,
      "outputs": [
        {
          "output_type": "stream",
          "text": [
            "1    23837\n",
            "0    15226\n",
            "Name: fake, dtype: int64\n",
            "1    0.610219\n",
            "0    0.389781\n",
            "Name: fake, dtype: float64\n"
          ],
          "name": "stdout"
        }
      ]
    },
    {
      "cell_type": "code",
      "metadata": {
        "id": "3kMV89JHzIDX"
      },
      "source": [
        "filtered_data.to_csv(source_folder + \"news_filtered.csv\", index=False)"
      ],
      "execution_count": null,
      "outputs": []
    },
    {
      "cell_type": "code",
      "metadata": {
        "id": "K7B0fcKT2Z3u"
      },
      "source": [
        "def clean_join_text_cols(df, col_a, col_b, out_col):\n",
        "    def clean_text_col(d):\n",
        "        return \" \\n \".join(d.splitlines())\n",
        "    df[out_col] = df[[col_a, col_b]].apply(lambda r: clean_text_col(r[col_a]) + \" <ENDTITLE> \\n \" + clean_text_col(r[col_b]), axis=1)"
      ],
      "execution_count": null,
      "outputs": []
    },
    {
      "cell_type": "code",
      "metadata": {
        "id": "RlgcmD402d7W"
      },
      "source": [
        "clean_join_text_cols(filtered_data, \"title\", \"content\", \"title_content\")"
      ],
      "execution_count": null,
      "outputs": []
    },
    {
      "cell_type": "code",
      "metadata": {
        "id": "3rpoZOgL3LA7"
      },
      "source": [
        "filtered_data[\"content_length\"] = filtered_data.content.apply(lambda d: len(d.split()))\n",
        "filtered_data[\"title_length\"] = filtered_data.title.apply(lambda d: len(d.split()))\n",
        "filtered_data[\"total_length\"] = filtered_data.content.apply(lambda d: len(d.split()))"
      ],
      "execution_count": null,
      "outputs": []
    },
    {
      "cell_type": "code",
      "metadata": {
        "colab": {
          "base_uri": "https://localhost:8080/"
        },
        "id": "XDGzhouIhPNy",
        "outputId": "1da75593-0284-40f1-b6c1-6c6c35c10135"
      },
      "source": [
        "filtered_data.shape"
      ],
      "execution_count": null,
      "outputs": [
        {
          "output_type": "execute_result",
          "data": {
            "text/plain": [
              "(39063, 311)"
            ]
          },
          "metadata": {
            "tags": []
          },
          "execution_count": 26
        }
      ]
    },
    {
      "cell_type": "code",
      "metadata": {
        "colab": {
          "base_uri": "https://localhost:8080/"
        },
        "id": "4n1Ycw_phH2w",
        "outputId": "29684354-cef5-470b-ee9a-83900ffa06d1"
      },
      "source": [
        "no_dups = filtered_data.drop_duplicates()\n",
        "no_dups.shape"
      ],
      "execution_count": null,
      "outputs": [
        {
          "output_type": "execute_result",
          "data": {
            "text/plain": [
              "(39063, 311)"
            ]
          },
          "metadata": {
            "tags": []
          },
          "execution_count": 27
        }
      ]
    },
    {
      "cell_type": "code",
      "metadata": {
        "colab": {
          "base_uri": "https://localhost:8080/"
        },
        "id": "z3wUFu7g3q6E",
        "outputId": "9a19b92e-2227-46e2-dc58-5f3f2a4cb43c"
      },
      "source": [
        "filtered_data[\"total_length\"].describe()"
      ],
      "execution_count": null,
      "outputs": [
        {
          "output_type": "execute_result",
          "data": {
            "text/plain": [
              "count    39063.000000\n",
              "mean       467.514707\n",
              "std        623.874759\n",
              "min          7.000000\n",
              "25%        149.000000\n",
              "50%        312.000000\n",
              "75%        603.000000\n",
              "max      17642.000000\n",
              "Name: total_length, dtype: float64"
            ]
          },
          "metadata": {
            "tags": []
          },
          "execution_count": 28
        }
      ]
    },
    {
      "cell_type": "code",
      "metadata": {
        "colab": {
          "base_uri": "https://localhost:8080/",
          "height": 349
        },
        "id": "NsrFK7kL4wZk",
        "outputId": "c0a67605-72b5-402f-9b89-11b0c56e7b66"
      },
      "source": [
        "sns.distplot(filtered_data[\"total_length\"])\n",
        "# plt.xlim([0, 1024]);\n",
        "plt.xlabel('Token count');\n",
        "plt.ylabel('Document count')\n",
        "plt.title(\"Distribution of Total Token Lengths\")\n",
        "plt.show()"
      ],
      "execution_count": null,
      "outputs": [
        {
          "output_type": "stream",
          "text": [
            "/usr/local/lib/python3.6/dist-packages/seaborn/distributions.py:2551: FutureWarning: `distplot` is a deprecated function and will be removed in a future version. Please adapt your code to use either `displot` (a figure-level function with similar flexibility) or `histplot` (an axes-level function for histograms).\n",
            "  warnings.warn(msg, FutureWarning)\n"
          ],
          "name": "stderr"
        },
        {
          "output_type": "display_data",
          "data": {
            "image/png": "[encoded data removed]",
            "text/plain": [
              "<Figure size 432x288 with 1 Axes>"
            ]
          },
          "metadata": {
            "tags": [],
            "needs_background": "light"
          }
        }
      ]
    },
    {
      "cell_type": "code",
      "metadata": {
        "colab": {
          "base_uri": "https://localhost:8080/",
          "height": 349
        },
        "id": "k9VGjoOv5Sgz",
        "outputId": "ce4ca302-0f0f-4334-b88b-f9a02ab38f82"
      },
      "source": [
        "sns.distplot(filtered_data[\"total_length\"])\n",
        "plt.xlim([0, 512]);\n",
        "plt.xlabel('Token count');\n",
        "plt.ylabel('Document count')\n",
        "plt.title(\"Distribution of Total Token Lengths\")\n",
        "plt.show()"
      ],
      "execution_count": null,
      "outputs": [
        {
          "output_type": "stream",
          "text": [
            "/usr/local/lib/python3.6/dist-packages/seaborn/distributions.py:2551: FutureWarning: `distplot` is a deprecated function and will be removed in a future version. Please adapt your code to use either `displot` (a figure-level function with similar flexibility) or `histplot` (an axes-level function for histograms).\n",
            "  warnings.warn(msg, FutureWarning)\n"
          ],
          "name": "stderr"
        },
        {
          "output_type": "display_data",
          "data": {
            "image/png": "[encoded data removed]",
            "text/plain": [
              "<Figure size 432x288 with 1 Axes>"
            ]
          },
          "metadata": {
            "tags": [],
            "needs_background": "light"
          }
        }
      ]
    },
    {
      "cell_type": "code",
      "metadata": {
        "id": "fJ77tjeI3qER"
      },
      "source": [
        "def get_keyword_col_names(df, prefix=\"has_mk_\"):\n",
        "    return [col for col in df.columns if \"has_mk_\" in col]\n",
        "keyword_cols = get_keyword_col_names(filtered_data)\n",
        "prefix = \"has_mk_\"\n",
        "most_common_keywords = [prefix + k[0] for k in counts_keywords.most_common(20)]"
      ],
      "execution_count": null,
      "outputs": []
    },
    {
      "cell_type": "code",
      "metadata": {
        "id": "htLE0w0O35QP"
      },
      "source": [
        "def get_most_common_keyword_for_news_item(item):\n",
        "    for col in most_common_keywords:\n",
        "        if item[col] == 1:\n",
        "            return col[len(prefix):]\n",
        "    return 0"
      ],
      "execution_count": null,
      "outputs": []
    },
    {
      "cell_type": "code",
      "metadata": {
        "id": "Wq_9Nw1G4W7B"
      },
      "source": [
        "filtered_data[\"keyword\"] = filtered_data.apply(get_most_common_keyword_for_news_item, axis=1)"
      ],
      "execution_count": null,
      "outputs": []
    },
    {
      "cell_type": "code",
      "metadata": {
        "colab": {
          "base_uri": "https://localhost:8080/"
        },
        "id": "QDE2_JmZ4dcK",
        "outputId": "cdff020d-1589-4866-a128-cb6776d2ca13"
      },
      "source": [
        "print(filtered_data.keyword.value_counts(normalize=False))\n",
        "print(filtered_data.keyword.value_counts(normalize=True))"
      ],
      "execution_count": null,
      "outputs": [
        {
          "output_type": "stream",
          "text": [
            "politics                12110\n",
            "russia                  11084\n",
            "china                    3427\n",
            "health                   3285\n",
            "energy                   2056\n",
            "business                 1640\n",
            "climate change           1606\n",
            "science                  1374\n",
            "food                     1054\n",
            "cuba                      430\n",
            "ebola                     205\n",
            "fracking                  198\n",
            "biodiversity              196\n",
            "transportation            146\n",
            "coal                      121\n",
            "tips                       98\n",
            "pipelines                  18\n",
            "renewables                  8\n",
            "cop21                       6\n",
            "sustainable business        1\n",
            "Name: keyword, dtype: int64\n",
            "politics                0.310012\n",
            "russia                  0.283747\n",
            "china                   0.087730\n",
            "health                  0.084095\n",
            "energy                  0.052633\n",
            "business                0.041983\n",
            "climate change          0.041113\n",
            "science                 0.035174\n",
            "food                    0.026982\n",
            "cuba                    0.011008\n",
            "ebola                   0.005248\n",
            "fracking                0.005069\n",
            "biodiversity            0.005018\n",
            "transportation          0.003738\n",
            "coal                    0.003098\n",
            "tips                    0.002509\n",
            "pipelines               0.000461\n",
            "renewables              0.000205\n",
            "cop21                   0.000154\n",
            "sustainable business    0.000026\n",
            "Name: keyword, dtype: float64\n"
          ],
          "name": "stdout"
        }
      ]
    },
    {
      "cell_type": "code",
      "metadata": {
        "id": "4EnMsEH8ySDS"
      },
      "source": [
        "unbalanced_train_set, unbalanced_test_set = train_test_split(filtered_data, test_size = 0.1, random_state = 1001)\n",
        "unbalanced_train_set, unbalanced_validation_set = train_test_split(unbalanced_train_set, test_size = 0.1, random_state = 1001)"
      ],
      "execution_count": null,
      "outputs": []
    },
    {
      "cell_type": "code",
      "metadata": {
        "id": "2YWqciZZzCw2"
      },
      "source": [
        "unbalanced_train_set.to_csv(source_folder + \"train_unbalanced.csv\", index=False)\n",
        "unbalanced_test_set.to_csv(source_folder + \"test_unbalanced.csv\", index=False)\n",
        "unbalanced_validation_set.to_csv(source_folder + \"validation_unbalanced.csv\", index=False)"
      ],
      "execution_count": null,
      "outputs": []
    },
    {
      "cell_type": "code",
      "metadata": {
        "colab": {
          "base_uri": "https://localhost:8080/"
        },
        "id": "jdQzBLlxy5k2",
        "outputId": "eb938668-c0a3-47fb-a268-f401370c8e0b"
      },
      "source": [
        "print(unbalanced_train_set.fake.value_counts(normalize=False))\n",
        "print(unbalanced_train_set.fake.value_counts(normalize=True))"
      ],
      "execution_count": null,
      "outputs": [
        {
          "output_type": "stream",
          "text": [
            "1    19315\n",
            "0    12325\n",
            "Name: fake, dtype: int64\n",
            "1    0.610461\n",
            "0    0.389539\n",
            "Name: fake, dtype: float64\n"
          ],
          "name": "stdout"
        }
      ]
    },
    {
      "cell_type": "code",
      "metadata": {
        "colab": {
          "base_uri": "https://localhost:8080/"
        },
        "id": "oB88I529137e",
        "outputId": "6c3216b7-6afa-45c6-ff79-0028451fd41c"
      },
      "source": [
        "print(unbalanced_test_set.fake.value_counts(normalize=False))\n",
        "print(unbalanced_test_set.fake.value_counts(normalize=True))"
      ],
      "execution_count": null,
      "outputs": [
        {
          "output_type": "stream",
          "text": [
            "1    2362\n",
            "0    1545\n",
            "Name: fake, dtype: int64\n",
            "1    0.604556\n",
            "0    0.395444\n",
            "Name: fake, dtype: float64\n"
          ],
          "name": "stdout"
        }
      ]
    },
    {
      "cell_type": "code",
      "metadata": {
        "colab": {
          "base_uri": "https://localhost:8080/"
        },
        "id": "HnfZ0pKp13ua",
        "outputId": "20d1a8d8-6618-40f9-9960-2145a9566ba6"
      },
      "source": [
        "print(unbalanced_validation_set.fake.value_counts(normalize=False))\n",
        "print(unbalanced_validation_set.fake.value_counts(normalize=True))"
      ],
      "execution_count": null,
      "outputs": [
        {
          "output_type": "stream",
          "text": [
            "1    2160\n",
            "0    1356\n",
            "Name: fake, dtype: int64\n",
            "1    0.614334\n",
            "0    0.385666\n",
            "Name: fake, dtype: float64\n"
          ],
          "name": "stdout"
        }
      ]
    },
    {
      "cell_type": "code",
      "metadata": {
        "id": "_S7uHYDg1Brb"
      },
      "source": [
        "BALANCED_N = 10_000"
      ],
      "execution_count": null,
      "outputs": []
    },
    {
      "cell_type": "code",
      "metadata": {
        "id": "Klgpk1Ny07QZ"
      },
      "source": [
        "balanced_real = filtered_data[filtered_data[\"fake\"] == 0].sample(BALANCED_N, random_state = 1001)\n",
        "balanced_fake = filtered_data[filtered_data[\"fake\"] == 1].sample(BALANCED_N, random_state = 1001)\n",
        "balanced_data = balanced_real.append(balanced_fake)"
      ],
      "execution_count": null,
      "outputs": []
    },
    {
      "cell_type": "code",
      "metadata": {
        "id": "V3Ae4e-S06Vq"
      },
      "source": [
        "balanced_train_set, balanced_test_set = train_test_split(balanced_data, test_size = 0.1, random_state = 1001)\n",
        "balanced_train_set, balanced_validation_set = train_test_split(balanced_train_set, test_size = 0.1, random_state = 1001)"
      ],
      "execution_count": null,
      "outputs": []
    },
    {
      "cell_type": "code",
      "metadata": {
        "id": "UWiaO8MQzBgx"
      },
      "source": [
        "balanced_train_set.to_csv(source_folder + \"train_balanced.csv\", index=False)\n",
        "balanced_test_set.to_csv(source_folder + \"test_balanced.csv\", index=False)\n",
        "balanced_validation_set.to_csv(source_folder + \"validation_balanced.csv\", index=False)"
      ],
      "execution_count": null,
      "outputs": []
    },
    {
      "cell_type": "code",
      "metadata": {
        "colab": {
          "base_uri": "https://localhost:8080/"
        },
        "id": "_oHubqTN1pu5",
        "outputId": "c4247e08-36b3-47c1-be42-63414ff4dcb0"
      },
      "source": [
        "print(balanced_train_set.fake.value_counts(normalize=False))\n",
        "print(balanced_train_set.fake.value_counts(normalize=True))"
      ],
      "execution_count": null,
      "outputs": [
        {
          "output_type": "stream",
          "text": [
            "1    8100\n",
            "0    8100\n",
            "Name: fake, dtype: int64\n",
            "1    0.5\n",
            "0    0.5\n",
            "Name: fake, dtype: float64\n"
          ],
          "name": "stdout"
        }
      ]
    },
    {
      "cell_type": "code",
      "metadata": {
        "colab": {
          "base_uri": "https://localhost:8080/"
        },
        "id": "bIvMYr1t1uXj",
        "outputId": "fb8c1e61-07b1-46b4-e7e2-2a1f29dc6ad9"
      },
      "source": [
        "print(balanced_test_set.fake.value_counts(normalize=False))\n",
        "print(balanced_test_set.fake.value_counts(normalize=True))"
      ],
      "execution_count": null,
      "outputs": [
        {
          "output_type": "stream",
          "text": [
            "1    1015\n",
            "0     985\n",
            "Name: fake, dtype: int64\n",
            "1    0.5075\n",
            "0    0.4925\n",
            "Name: fake, dtype: float64\n"
          ],
          "name": "stdout"
        }
      ]
    },
    {
      "cell_type": "code",
      "metadata": {
        "colab": {
          "base_uri": "https://localhost:8080/"
        },
        "id": "naEfzTU81utE",
        "outputId": "3d06bd39-7293-4988-fd7a-6b80042163a8"
      },
      "source": [
        "print(balanced_validation_set.fake.value_counts(normalize=False))\n",
        "print(balanced_validation_set.fake.value_counts(normalize=True))"
      ],
      "execution_count": null,
      "outputs": [
        {
          "output_type": "stream",
          "text": [
            "0    915\n",
            "1    885\n",
            "Name: fake, dtype: int64\n",
            "0    0.508333\n",
            "1    0.491667\n",
            "Name: fake, dtype: float64\n"
          ],
          "name": "stdout"
        }
      ]
    },
    {
      "cell_type": "code",
      "metadata": {
        "id": "1kfAPogR-lvN"
      },
      "source": [
        ""
      ],
      "execution_count": null,
      "outputs": []
    }
  ]
}