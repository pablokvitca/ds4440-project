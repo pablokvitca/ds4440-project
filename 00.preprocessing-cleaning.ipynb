{
  "nbformat": 4,
  "nbformat_minor": 0,
  "metadata": {
    "kernelspec": {
      "display_name": "Python 3",
      "language": "python",
      "name": "python3"
    },
    "language_info": {
      "codemirror_mode": {
        "name": "ipython",
        "version": 3
      },
      "file_extension": ".py",
      "mimetype": "text/x-python",
      "name": "python",
      "nbconvert_exporter": "python",
      "pygments_lexer": "ipython3",
      "version": "3.8.5"
    },
    "colab": {
      "name": "00.preprocessing-cleaning.ipynb",
      "provenance": [],
      "collapsed_sections": []
    }
  },
  "cells": [
    {
      "cell_type": "markdown",
      "metadata": {
        "id": "e58G361v2N1B"
      },
      "source": [
        "# Fake News Detection with Adversarial Normalization\n",
        "\n",
        "Notebook with implemenation and testing for applying Adversarial Neural Networks to the task of Fake News Detection. Part of the project for Northeastern University's Khoury College course on Practical Neural Networks (DS 4440), during Fall 2020.\n",
        "\n",
        "This notebook begins cleaning and preprocesing the data from FakeNewsCorpus.\n",
        "\n",
        "\n",
        "Note: this notebook expects the data to be used to be located on a Google Drive account on a specific path. This *can* be modified.\n",
        "\n",
        "See README at https://github.com/pablokvitca/ds4440-project for more details."
      ]
    },
    {
      "cell_type": "code",
      "metadata": {
        "id": "JDX8dLp52IC_"
      },
      "source": [
        "# Imports\n",
        "import pandas as pd\n",
        "import numpy as np\n",
        "import ast\n",
        "from time import time\n",
        "from collections import Counter"
      ],
      "execution_count": null,
      "outputs": []
    },
    {
      "cell_type": "code",
      "metadata": {
        "id": "t11b0M-y2IDG"
      },
      "source": [
        "# Data path\n",
        "path = \"./data/news_cleaned.csv\""
      ],
      "execution_count": null,
      "outputs": []
    },
    {
      "cell_type": "code",
      "metadata": {
        "id": "6ILKLf0C2IDG"
      },
      "source": [
        "cols = [\n",
        " # '',\n",
        " # 'id',\n",
        " 'domain',\n",
        " 'type',\n",
        " # 'url',\n",
        " 'content',\n",
        " # 'scraped_at',\n",
        " # 'inserted_at',\n",
        " 'updated_at',\n",
        " 'title',\n",
        " 'authors',\n",
        " # 'keywords',\n",
        " 'meta_keywords',\n",
        " # 'meta_description',\n",
        " 'tags',\n",
        " # 'summary',\n",
        " # 'source'\n",
        "]"
      ],
      "execution_count": null,
      "outputs": []
    },
    {
      "cell_type": "code",
      "metadata": {
        "id": "1ccRcw8k2IDH"
      },
      "source": [
        "coltypes = {\n",
        " # '': np.int32,\n",
        " # 'id': np.int32,\n",
        " 'domain': np.str,\n",
        " 'type': np.str,\n",
        " # 'url': np.str,\n",
        " 'content': np.str,\n",
        " # 'scraped_at': np.str,\n",
        " # 'inserted_at': np.str,\n",
        " # 'updated_at': np.str,\n",
        " 'title': np.str,\n",
        " 'authors': np.str,\n",
        " # 'keywords': np.str,\n",
        " 'meta_keywords': np.str,\n",
        " # 'meta_description': np.str,\n",
        " 'tags': np.str,\n",
        " # 'summary': np.str,\n",
        " # 'source': np.str\n",
        "}"
      ],
      "execution_count": null,
      "outputs": []
    },
    {
      "cell_type": "code",
      "metadata": {
        "id": "p5CxIFVx2IDH",
        "outputId": "1cadb8f6-b456-4e33-831d-ad84ef8b80b4"
      },
      "source": [
        "data = pd.read_csv(path, nrows=5_000_000, low_memory=True, memory_map=True, encoding=\"utf-8\", quotechar='\"', engine=\"c\", usecols=cols, dtype=coltypes, error_bad_lines=False, warn_bad_lines=True)"
      ],
      "execution_count": null,
      "outputs": [
        {
          "output_type": "stream",
          "text": [
            "/Users/pablokvitca/anaconda3/envs/nn-project/lib/python3.8/site-packages/IPython/core/interactiveshell.py:3146: DtypeWarning: Columns (8) have mixed types.Specify dtype option on import or set low_memory=False.\n",
            "  has_raised = await self.run_ast_nodes(code_ast.body, cell_name,\n"
          ],
          "name": "stderr"
        }
      ]
    },
    {
      "cell_type": "code",
      "metadata": {
        "id": "-qa4qaMX2IDI",
        "outputId": "6a00c30a-afeb-4ddb-b896-479e0c7c230c"
      },
      "source": [
        "data.shape"
      ],
      "execution_count": null,
      "outputs": [
        {
          "output_type": "execute_result",
          "data": {
            "text/plain": [
              "(5000000, 8)"
            ]
          },
          "metadata": {
            "tags": []
          },
          "execution_count": 6
        }
      ]
    },
    {
      "cell_type": "code",
      "metadata": {
        "id": "-2Echn5s2IDJ",
        "outputId": "937fbe33-c43d-4b46-9840-7d4dff207a28"
      },
      "source": [
        "data[\"type\"].value_counts()"
      ],
      "execution_count": null,
      "outputs": [
        {
          "output_type": "execute_result",
          "data": {
            "text/plain": [
              "political                     1421133\n",
              "bias                           446692\n",
              "conspiracy                     310923\n",
              "fake                           246376\n",
              "2018-02-07 23:39:33.852696     233205\n",
              "unreliable                     227298\n",
              "rumor                          185249\n",
              "clickbait                      141034\n",
              "unknown                        103485\n",
              "junksci                         59010\n",
              "satire                          55674\n",
              "hate                            53221\n",
              "2018-02-02 01:19:41.756664      34838\n",
              "reliable                        15947\n",
              "2017-11-10T11:18:44.524042      14065\n",
              "Name: type, dtype: int64"
            ]
          },
          "metadata": {
            "tags": []
          },
          "execution_count": 7
        }
      ]
    },
    {
      "cell_type": "code",
      "metadata": {
        "id": "Cn6KQUM92IDJ",
        "outputId": "90ff47b3-b59d-40cf-b722-d62b7c19cc5d"
      },
      "source": [
        "data.describe()"
      ],
      "execution_count": null,
      "outputs": [
        {
          "output_type": "execute_result",
          "data": {
            "text/html": [
              "<div>\n",
              "<style scoped>\n",
              "    .dataframe tbody tr th:only-of-type {\n",
              "        vertical-align: middle;\n",
              "    }\n",
              "\n",
              "    .dataframe tbody tr th {\n",
              "        vertical-align: top;\n",
              "    }\n",
              "\n",
              "    .dataframe thead th {\n",
              "        text-align: right;\n",
              "    }\n",
              "</style>\n",
              "<table border=\"1\" class=\"dataframe\">\n",
              "  <thead>\n",
              "    <tr style=\"text-align: right;\">\n",
              "      <th></th>\n",
              "      <th>domain</th>\n",
              "      <th>type</th>\n",
              "      <th>content</th>\n",
              "      <th>updated_at</th>\n",
              "      <th>title</th>\n",
              "      <th>authors</th>\n",
              "      <th>meta_keywords</th>\n",
              "      <th>tags</th>\n",
              "    </tr>\n",
              "  </thead>\n",
              "  <tbody>\n",
              "    <tr>\n",
              "      <th>count</th>\n",
              "      <td>3771345</td>\n",
              "      <td>3548150</td>\n",
              "      <td>3503302</td>\n",
              "      <td>3757280</td>\n",
              "      <td>3480082</td>\n",
              "      <td>2245762</td>\n",
              "      <td>3489237</td>\n",
              "      <td>1010156</td>\n",
              "    </tr>\n",
              "    <tr>\n",
              "      <th>unique</th>\n",
              "      <td>497</td>\n",
              "      <td>15</td>\n",
              "      <td>1931296</td>\n",
              "      <td>12</td>\n",
              "      <td>2231857</td>\n",
              "      <td>211015</td>\n",
              "      <td>410806</td>\n",
              "      <td>523847</td>\n",
              "    </tr>\n",
              "    <tr>\n",
              "      <th>top</th>\n",
              "      <td>ecowatch.com</td>\n",
              "      <td>political</td>\n",
              "      <td>Cowry Collective members participate in a time...</td>\n",
              "      <td>2018-02-07 23:39:33.852696</td>\n",
              "      <td>Is Palm Oil Explosion Driving Ebola Outbreak?</td>\n",
              "      <td>Backgroundurl Avatar_Large, Nickname, Joined, ...</td>\n",
              "      <td>['']</td>\n",
              "      <td>View Tags</td>\n",
              "    </tr>\n",
              "    <tr>\n",
              "      <th>freq</th>\n",
              "      <td>746529</td>\n",
              "      <td>1421133</td>\n",
              "      <td>285230</td>\n",
              "      <td>2091105</td>\n",
              "      <td>32763</td>\n",
              "      <td>224948</td>\n",
              "      <td>2210754</td>\n",
              "      <td>163065</td>\n",
              "    </tr>\n",
              "  </tbody>\n",
              "</table>\n",
              "</div>"
            ],
            "text/plain": [
              "              domain       type  \\\n",
              "count        3771345    3548150   \n",
              "unique           497         15   \n",
              "top     ecowatch.com  political   \n",
              "freq          746529    1421133   \n",
              "\n",
              "                                                  content  \\\n",
              "count                                             3503302   \n",
              "unique                                            1931296   \n",
              "top     Cowry Collective members participate in a time...   \n",
              "freq                                               285230   \n",
              "\n",
              "                        updated_at  \\\n",
              "count                      3757280   \n",
              "unique                          12   \n",
              "top     2018-02-07 23:39:33.852696   \n",
              "freq                       2091105   \n",
              "\n",
              "                                                title  \\\n",
              "count                                         3480082   \n",
              "unique                                        2231857   \n",
              "top     Is Palm Oil Explosion Driving Ebola Outbreak?   \n",
              "freq                                            32763   \n",
              "\n",
              "                                                  authors meta_keywords  \\\n",
              "count                                             2245762       3489237   \n",
              "unique                                             211015        410806   \n",
              "top     Backgroundurl Avatar_Large, Nickname, Joined, ...          ['']   \n",
              "freq                                               224948       2210754   \n",
              "\n",
              "             tags  \n",
              "count     1010156  \n",
              "unique     523847  \n",
              "top     View Tags  \n",
              "freq       163065  "
            ]
          },
          "metadata": {
            "tags": []
          },
          "execution_count": 8
        }
      ]
    },
    {
      "cell_type": "code",
      "metadata": {
        "id": "1zklJuPe2IDJ"
      },
      "source": [
        "data.drop(data[data.type == \"2018-02-07 23:39:33.852696\"].index, inplace=True)\n",
        "data.drop(data[data.type == \"2018-02-02 01:19:41.756664\"].index, inplace=True)\n",
        "data.drop(data[data.type == \"2017-11-10T11:18:44.524042\"].index, inplace=True)"
      ],
      "execution_count": null,
      "outputs": []
    },
    {
      "cell_type": "code",
      "metadata": {
        "id": "xAx-eELd2IDJ",
        "outputId": "e668952a-53fb-4e98-cf79-2c4c3a720613"
      },
      "source": [
        "data.describe()"
      ],
      "execution_count": null,
      "outputs": [
        {
          "output_type": "execute_result",
          "data": {
            "text/html": [
              "<div>\n",
              "<style scoped>\n",
              "    .dataframe tbody tr th:only-of-type {\n",
              "        vertical-align: middle;\n",
              "    }\n",
              "\n",
              "    .dataframe tbody tr th {\n",
              "        vertical-align: top;\n",
              "    }\n",
              "\n",
              "    .dataframe thead th {\n",
              "        text-align: right;\n",
              "    }\n",
              "</style>\n",
              "<table border=\"1\" class=\"dataframe\">\n",
              "  <thead>\n",
              "    <tr style=\"text-align: right;\">\n",
              "      <th></th>\n",
              "      <th>domain</th>\n",
              "      <th>type</th>\n",
              "      <th>content</th>\n",
              "      <th>updated_at</th>\n",
              "      <th>title</th>\n",
              "      <th>authors</th>\n",
              "      <th>meta_keywords</th>\n",
              "      <th>tags</th>\n",
              "    </tr>\n",
              "  </thead>\n",
              "  <tbody>\n",
              "    <tr>\n",
              "      <th>count</th>\n",
              "      <td>3489237</td>\n",
              "      <td>3266042</td>\n",
              "      <td>3489237</td>\n",
              "      <td>3489237</td>\n",
              "      <td>3466017</td>\n",
              "      <td>2231697</td>\n",
              "      <td>3489237</td>\n",
              "      <td>1010156</td>\n",
              "    </tr>\n",
              "    <tr>\n",
              "      <th>unique</th>\n",
              "      <td>494</td>\n",
              "      <td>12</td>\n",
              "      <td>1931295</td>\n",
              "      <td>2</td>\n",
              "      <td>2231856</td>\n",
              "      <td>211014</td>\n",
              "      <td>410806</td>\n",
              "      <td>523847</td>\n",
              "    </tr>\n",
              "    <tr>\n",
              "      <th>top</th>\n",
              "      <td>ecowatch.com</td>\n",
              "      <td>political</td>\n",
              "      <td>Cowry Collective members participate in a time...</td>\n",
              "      <td>2018-02-07 23:39:33.852696</td>\n",
              "      <td>Is Palm Oil Explosion Driving Ebola Outbreak?</td>\n",
              "      <td>Backgroundurl Avatar_Large, Nickname, Joined, ...</td>\n",
              "      <td>['']</td>\n",
              "      <td>View Tags</td>\n",
              "    </tr>\n",
              "    <tr>\n",
              "      <th>freq</th>\n",
              "      <td>746529</td>\n",
              "      <td>1421133</td>\n",
              "      <td>285230</td>\n",
              "      <td>2091105</td>\n",
              "      <td>32763</td>\n",
              "      <td>224948</td>\n",
              "      <td>2210754</td>\n",
              "      <td>163065</td>\n",
              "    </tr>\n",
              "  </tbody>\n",
              "</table>\n",
              "</div>"
            ],
            "text/plain": [
              "              domain       type  \\\n",
              "count        3489237    3266042   \n",
              "unique           494         12   \n",
              "top     ecowatch.com  political   \n",
              "freq          746529    1421133   \n",
              "\n",
              "                                                  content  \\\n",
              "count                                             3489237   \n",
              "unique                                            1931295   \n",
              "top     Cowry Collective members participate in a time...   \n",
              "freq                                               285230   \n",
              "\n",
              "                        updated_at  \\\n",
              "count                      3489237   \n",
              "unique                           2   \n",
              "top     2018-02-07 23:39:33.852696   \n",
              "freq                       2091105   \n",
              "\n",
              "                                                title  \\\n",
              "count                                         3466017   \n",
              "unique                                        2231856   \n",
              "top     Is Palm Oil Explosion Driving Ebola Outbreak?   \n",
              "freq                                            32763   \n",
              "\n",
              "                                                  authors meta_keywords  \\\n",
              "count                                             2231697       3489237   \n",
              "unique                                             211014        410806   \n",
              "top     Backgroundurl Avatar_Large, Nickname, Joined, ...          ['']   \n",
              "freq                                               224948       2210754   \n",
              "\n",
              "             tags  \n",
              "count     1010156  \n",
              "unique     523847  \n",
              "top     View Tags  \n",
              "freq       163065  "
            ]
          },
          "metadata": {
            "tags": []
          },
          "execution_count": 10
        }
      ]
    },
    {
      "cell_type": "code",
      "metadata": {
        "id": "cC7ojSiJ2IDK",
        "outputId": "97b585d0-c507-46dc-c02e-b6f11eb466db"
      },
      "source": [
        "data.shape"
      ],
      "execution_count": null,
      "outputs": [
        {
          "output_type": "execute_result",
          "data": {
            "text/plain": [
              "(4717892, 8)"
            ]
          },
          "metadata": {
            "tags": []
          },
          "execution_count": 11
        }
      ]
    },
    {
      "cell_type": "code",
      "metadata": {
        "id": "M2DfOhhZ2IDK",
        "outputId": "9c0bcce1-496c-4988-e843-1aa72bd94752"
      },
      "source": [
        "data.type.describe()"
      ],
      "execution_count": null,
      "outputs": [
        {
          "output_type": "execute_result",
          "data": {
            "text/plain": [
              "count       3266042\n",
              "unique           12\n",
              "top       political\n",
              "freq        1421133\n",
              "Name: type, dtype: object"
            ]
          },
          "metadata": {
            "tags": []
          },
          "execution_count": 12
        }
      ]
    },
    {
      "cell_type": "code",
      "metadata": {
        "id": "L51NQ-qR2IDK",
        "outputId": "c64173d5-95ca-4e2e-dd4a-7aa913a7e250"
      },
      "source": [
        "data.type.value_counts()"
      ],
      "execution_count": null,
      "outputs": [
        {
          "output_type": "execute_result",
          "data": {
            "text/plain": [
              "political     1421133\n",
              "bias           446692\n",
              "conspiracy     310923\n",
              "fake           246376\n",
              "unreliable     227298\n",
              "rumor          185249\n",
              "clickbait      141034\n",
              "unknown        103485\n",
              "junksci         59010\n",
              "satire          55674\n",
              "hate            53221\n",
              "reliable        15947\n",
              "Name: type, dtype: int64"
            ]
          },
          "metadata": {
            "tags": []
          },
          "execution_count": 13
        }
      ]
    },
    {
      "cell_type": "code",
      "metadata": {
        "id": "r338iiUv2IDK"
      },
      "source": [
        "def get_all_unique_from_list_col(df, col, f):\n",
        "    l = set()\n",
        "    for u in df[col].unique():\n",
        "        if type(u) == str:\n",
        "            l.update(f(u))\n",
        "    return l\n",
        "\n",
        "all_keywords = get_all_unique_from_list_col(data, \"meta_keywords\", ast.literal_eval)\n",
        "all_tags = get_all_unique_from_list_col(data, \"tags\", lambda x: x.split(\", \"))\n",
        "all_authors = get_all_unique_from_list_col(data, \"authors\", lambda x: x.split(\", \"))"
      ],
      "execution_count": null,
      "outputs": []
    },
    {
      "cell_type": "code",
      "metadata": {
        "id": "jowjvU9_2IDL",
        "outputId": "ceeccb98-e000-4041-9e01-4f1c65c80d63"
      },
      "source": [
        "print(\"Total keywords:\", len(all_keywords))\n",
        "print(\"Total tags:\", len(all_tags))\n",
        "print(\"Total authors:\", len(all_authors))"
      ],
      "execution_count": null,
      "outputs": [
        {
          "output_type": "stream",
          "text": [
            "Total keywords: 432375\n",
            "Total tags: 469962\n",
            "Total authors: 141914\n"
          ],
          "name": "stdout"
        }
      ]
    },
    {
      "cell_type": "code",
      "metadata": {
        "id": "FIOmnOcz2IDL"
      },
      "source": [
        "counts_keywords = Counter()\n",
        "for row in data[\"meta_keywords\"]:\n",
        "    if type(row) == str:\n",
        "        counts_keywords.update(ast.literal_eval(row.lower()))"
      ],
      "execution_count": null,
      "outputs": []
    },
    {
      "cell_type": "code",
      "metadata": {
        "id": "jGSdieou2IDL"
      },
      "source": [
        "non_relevant_keywords = [\"\", \"featured\", \"featured-home\"]\n",
        "for nrk in non_relevant_keywords:\n",
        "    del counts_keywords[nrk]"
      ],
      "execution_count": null,
      "outputs": []
    },
    {
      "cell_type": "code",
      "metadata": {
        "scrolled": true,
        "id": "knIGfBvB2IDL",
        "outputId": "590d898d-a566-4f4d-8fa2-4afdd883a95f"
      },
      "source": [
        "counts_keywords.most_common(100)"
      ],
      "execution_count": null,
      "outputs": [
        {
          "output_type": "execute_result",
          "data": {
            "text/plain": [
              "[('climate change', 313727),\n",
              " ('business', 258123),\n",
              " ('energy', 220365),\n",
              " ('renewables', 192477),\n",
              " ('health', 105349),\n",
              " ('food', 100328),\n",
              " ('biodiversity', 98606),\n",
              " ('sustainable business', 97040),\n",
              " ('coal', 75628),\n",
              " ('fracking', 74660),\n",
              " ('politics', 73086),\n",
              " ('science', 66711),\n",
              " ('china', 42220),\n",
              " ('ebola', 33690),\n",
              " ('cuba', 33528),\n",
              " ('cop21', 32877),\n",
              " ('pipelines', 32852),\n",
              " ('russia', 32836),\n",
              " ('tips', 32300),\n",
              " ('transportation', 31966),\n",
              " ('donald trump', 26632),\n",
              " ('united states', 23972),\n",
              " ('barack obama', 20173),\n",
              " ('hillary clinton', 17902),\n",
              " ('economics', 17598),\n",
              " ('news', 15564),\n",
              " ('big government', 14772),\n",
              " ('finance', 14703),\n",
              " ('markets', 14647),\n",
              " ('analysis', 14429),\n",
              " ('zerohedge', 14215),\n",
              " ('zero hedge', 14210),\n",
              " ('wikileaks', 12538),\n",
              " ('syria', 12478),\n",
              " ('world', 12245),\n",
              " ('vdare.com', 11642),\n",
              " ('national security', 10905),\n",
              " ('the onion', 10163),\n",
              " ('media', 9834),\n",
              " ('ohio', 9492),\n",
              " ('white house', 9176),\n",
              " ('bernie sanders', 8878),\n",
              " ('natural medicine', 8797),\n",
              " ('functional medicine', 8664),\n",
              " ('complementary medicine', 8664),\n",
              " ('alternative toxicology', 8653),\n",
              " ('evidence-based medicine', 8652),\n",
              " ('integrative health', 8650),\n",
              " ('alternative meds', 8650),\n",
              " ('independent health news', 8650),\n",
              " ('natural healath resource', 8650),\n",
              " ('submissions', 8514),\n",
              " ('media kit', 8485),\n",
              " ('congressional research service', 8363),\n",
              " ('msnbc', 8142),\n",
              " ('ukraine', 8078),\n",
              " ('congress', 8000),\n",
              " ('iran', 6997),\n",
              " ('blog', 6972),\n",
              " ('obama', 6776),\n",
              " ('immigration', 6680),\n",
              " ('liberal', 6620),\n",
              " ('economy', 6503),\n",
              " ('sarah jones', 6355),\n",
              " ('politicususa', 6354),\n",
              " ('jason easley', 6354),\n",
              " ('germany', 5563),\n",
              " ('iraq', 5562),\n",
              " ('government', 5443),\n",
              " ('health news', 5433),\n",
              " ('turkey', 5419),\n",
              " ('obamacare', 5411),\n",
              " ('terrorism', 5370),\n",
              " ('opinion', 5361),\n",
              " ('israel', 5077),\n",
              " ('daesh', 5064),\n",
              " ('france', 5059),\n",
              " ('article', 4941),\n",
              " ('vladimir putin', 4892),\n",
              " ('united kingdom', 4821),\n",
              " ('us', 4754),\n",
              " ('senate', 4721),\n",
              " ('twitter', 4706),\n",
              " ('europe', 4603),\n",
              " ('european union', 4592),\n",
              " ('middle east', 4537),\n",
              " ('washington', 4447),\n",
              " ('books and arts', 4428),\n",
              " ('isis', 4348),\n",
              " ('trump', 4339),\n",
              " ('2016 presidential race', 4289),\n",
              " ('breitbart london', 4181),\n",
              " ('japan', 4095),\n",
              " ('republican party', 3920),\n",
              " ('breitbart texas', 3670),\n",
              " ('big hollywood', 3656),\n",
              " ('debt', 3647),\n",
              " ('afghanistan', 3646),\n",
              " ('environment', 3641),\n",
              " ('nato', 3572)]"
            ]
          },
          "metadata": {
            "tags": []
          },
          "execution_count": 18
        }
      ]
    },
    {
      "cell_type": "code",
      "metadata": {
        "id": "y3pq_o2w2IDL"
      },
      "source": [
        "counts_tags = Counter()\n",
        "for row in data[\"tags\"]:\n",
        "    if type(row) == str:\n",
        "        counts_tags.update([s.strip() for s in row.lower().split(\", \")])"
      ],
      "execution_count": null,
      "outputs": []
    },
    {
      "cell_type": "code",
      "metadata": {
        "id": "eSFoNiGr2IDM"
      },
      "source": [
        "non_relevant_tags = [\n",
        "    \"view tags\", \n",
        "    \"next\", \n",
        "    \"4062 followers duggar family\", \n",
        "    \"3756 followers sylvester stallone\", \n",
        "    \"view non-amp version\", \n",
        "    \"1\",\n",
        "    \"4217 followers dragon ball super\",\n",
        "    \"2\",\n",
        "    ]\n",
        "for nrt in non_relevant_tags:\n",
        "    del counts_tags[nrt]"
      ],
      "execution_count": null,
      "outputs": []
    },
    {
      "cell_type": "code",
      "metadata": {
        "scrolled": true,
        "id": "LSyQiXKr2IDM",
        "outputId": "cb97a742-0717-4b39-841a-731f27c1ca9b"
      },
      "source": [
        "counts_tags.most_common(100)"
      ],
      "execution_count": null,
      "outputs": [
        {
          "output_type": "execute_result",
          "data": {
            "text/plain": [
              "[('russia', 65416),\n",
              " ('donald trump', 60004),\n",
              " ('hillary clinton', 42836),\n",
              " ('syria', 35145),\n",
              " ('9/11 articles', 31523),\n",
              " ('race/crime articles', 31523),\n",
              " ('american pravda articles', 31523),\n",
              " ('race/iq articles', 31523),\n",
              " ('israel', 31399),\n",
              " ('libya', 30813),\n",
              " ('united states', 30101),\n",
              " ('immigration', 29121),\n",
              " ('politics', 28905),\n",
              " ('barack obama', 25986),\n",
              " ('trump', 25812),\n",
              " ('obama', 24607),\n",
              " ('isis', 24055),\n",
              " ('europe', 23574),\n",
              " ('iran', 23016),\n",
              " ('china', 22821),\n",
              " ('cia', 22379),\n",
              " ('benghazi', 22064),\n",
              " ('children', 21172),\n",
              " ('terrorism', 20555),\n",
              " ('islam', 20424),\n",
              " ('north korea', 19914),\n",
              " ('irs', 19148),\n",
              " ('epa', 18967),\n",
              " ('iraq', 18534),\n",
              " ('school', 17817),\n",
              " ('transportation', 17659),\n",
              " ('financial disclosure', 17637),\n",
              " ('hillary clinton email scandal', 17531),\n",
              " ('trump administration', 17399),\n",
              " ('religion', 17373),\n",
              " ('irs docs', 17369),\n",
              " ('ukraine', 17339),\n",
              " ('turkey', 17327),\n",
              " ('retirement', 17115),\n",
              " ('foia', 17001),\n",
              " ('vanguard', 16725),\n",
              " ('middle east', 16680),\n",
              " ('india', 16647),\n",
              " ('mutual', 16281),\n",
              " ('nato', 16226),\n",
              " ('judge', 15970),\n",
              " ('economy', 15374),\n",
              " ('war', 15266),\n",
              " ('south africa', 15110),\n",
              " ('radical jihad', 15028),\n",
              " ('news', 14892),\n",
              " ('saudi arabia', 14586),\n",
              " ('germany', 14457),\n",
              " ('income', 13933),\n",
              " ('obamacare', 13799),\n",
              " ('afghanistan', 13708),\n",
              " ('financial', 13626),\n",
              " ('france', 13488),\n",
              " ('climate change', 13400),\n",
              " ('energy', 13336),\n",
              " ('gun control', 13172),\n",
              " ('crime', 13162),\n",
              " ('gun rights', 13043),\n",
              " ('japan', 12851),\n",
              " ('charlie hebdo', 12780),\n",
              " ('science', 12751),\n",
              " ('isis/islamic state', 12483),\n",
              " ('eu', 12292),\n",
              " ('taxes', 12166),\n",
              " ('twitter', 11981),\n",
              " ('military', 11979),\n",
              " ('fbi', 11699),\n",
              " ('africa', 11528),\n",
              " ('yemen', 11423),\n",
              " ('congress', 11357),\n",
              " ('nsa', 11076),\n",
              " ('government', 10964),\n",
              " ('family', 10862),\n",
              " ('brexit', 10859),\n",
              " ('wikileaks', 10753),\n",
              " ('health', 10738),\n",
              " ('egypt', 10679),\n",
              " ('canada', 10604),\n",
              " ('voter fraud', 10469),\n",
              " ('impeachment', 10381),\n",
              " ('ann coulter', 10251),\n",
              " ('hollywood', 10233),\n",
              " ('common core', 10217),\n",
              " ('baltimore riots', 10171),\n",
              " ('secession', 9905),\n",
              " ('war on christmas', 9879),\n",
              " ('camp of the saints', 9854),\n",
              " ('pakistan', 9846),\n",
              " ('achievement gap', 9843),\n",
              " ('national question', 9813),\n",
              " ('automation', 9765),\n",
              " ('racism', 9729),\n",
              " ('not reporting race', 9713),\n",
              " ('donald trump insurgency', 9683),\n",
              " ('diversity is strength', 9675)]"
            ]
          },
          "metadata": {
            "tags": []
          },
          "execution_count": 21
        }
      ]
    },
    {
      "cell_type": "code",
      "metadata": {
        "id": "3X1vUcAJ2IDM"
      },
      "source": [
        "counts_authors = Counter()\n",
        "for row in data[\"authors\"]:\n",
        "    if type(row) == str:\n",
        "        counts_authors.update([s.strip() for s in row.lower().split(\", \")])"
      ],
      "execution_count": null,
      "outputs": []
    },
    {
      "cell_type": "code",
      "metadata": {
        "scrolled": true,
        "id": "qjlBELkX2IDM",
        "outputId": "275263be-2e12-4c83-9a7e-aa88f85d1b6c"
      },
      "source": [
        "counts_authors.most_common(100)"
      ],
      "execution_count": null,
      "outputs": [
        {
          "output_type": "execute_result",
          "data": {
            "text/plain": [
              "[('lorraine chow', 746451),\n",
              " ('common dreams', 638516),\n",
              " ('guest contributor', 507058),\n",
              " ('the conversation', 384011),\n",
              " ('david leestma', 362631),\n",
              " ('yes', 285256),\n",
              " ('environmental working group', 254739),\n",
              " ('ronnie cummins', 254659),\n",
              " ('the climate reality project', 254658),\n",
              " ('sierra club', 254636),\n",
              " ('rainforest action network', 254636),\n",
              " ('backgroundurl avatar_large', 224956),\n",
              " ('nickname', 224956),\n",
              " ('joined', 224956),\n",
              " ('created_at', 224956),\n",
              " ('story count', 224956),\n",
              " ('n_stories', 224956),\n",
              " ('comment count', 224956),\n",
              " ('n_comments', 224956),\n",
              " ('popular tags', 224956),\n",
              " ('showtags popular_tags', 224948),\n",
              " ('organic consumers association', 156531),\n",
              " (\"our children's trust\", 107978),\n",
              " ('american wild horse campaign', 107975),\n",
              " ('anastasia pantsios', 101821),\n",
              " ('stefanie spear', 98031),\n",
              " ('climate nexus', 82670),\n",
              " ('daily kos', 76786),\n",
              " ('happy cog studios - http', 76783),\n",
              " ('www.happycog.com', 76783),\n",
              " ('david codrea', 70085),\n",
              " ('tom mchale', 70085),\n",
              " ('jeff knox', 70085),\n",
              " ('the', 49963),\n",
              " ('the revelator', 49938),\n",
              " ('climate group', 49922),\n",
              " ('environment america', 48615),\n",
              " ('union of concerned scientists', 48568),\n",
              " ('ilana mercer', 39983),\n",
              " ('pat buchanan', 39613),\n",
              " ('chris roberts', 39013),\n",
              " ('sinclair jenkins', 38996),\n",
              " ('guillaume durocher', 38030),\n",
              " ('natural resources defense council', 34100),\n",
              " ('cole mellino', 33010),\n",
              " ('wild bill', 32919),\n",
              " ('climate news network', 31144),\n",
              " ('blasting news', 28540),\n",
              " ('jay eimer', 24325),\n",
              " ('posted on', 23334),\n",
              " ('walter einenkel', 22648),\n",
              " ('about the author', 22308),\n",
              " ('john derbyshire', 17769),\n",
              " ('susan wright', 17666),\n",
              " ('любовь степушова', 17143),\n",
              " ('александр артамонов', 16648),\n",
              " ('айдын мехтиев', 16133),\n",
              " ('jr bailey', 15006),\n",
              " ('tom claycomb', 14968),\n",
              " ('jen hayden', 14843),\n",
              " ('руслан веснянко', 13210),\n",
              " ('shel by', 13098),\n",
              " ('leslie salzillo', 12692),\n",
              " ('анжела якубовская', 12623),\n",
              " ('the saker', 11855),\n",
              " ('александр широкорад', 11264),\n",
              " ('kenneth dowdle', 11007),\n",
              " ('karen wehrstein', 10706),\n",
              " ('ammoland editor js', 10663),\n",
              " ('ron unz', 10413),\n",
              " ('mark sumner', 10349),\n",
              " ('crashing vor', 10101),\n",
              " ('razib khan', 9995),\n",
              " ('sydney schanberg', 9765),\n",
              " ('john harrison sims', 9562),\n",
              " ('sarah rumpf', 9424),\n",
              " ('nico parungo', 9406),\n",
              " ('mike whitney', 9374),\n",
              " ('carl arbogast', 9216),\n",
              " ('the onion', 9092),\n",
              " ('el mito', 9086),\n",
              " ('egberto willies', 9041),\n",
              " ('james phibbs', 8735),\n",
              " ('view all posts', 8490),\n",
              " ('martin walsh', 8452),\n",
              " ('israel shamir', 8257),\n",
              " ('p. ghose', 8122),\n",
              " ('andrea ruth', 7823),\n",
              " ('brandon morse', 7452),\n",
              " ('http', 7377),\n",
              " ('https', 7339),\n",
              " ('kira davis', 7113),\n",
              " ('paul kersey', 6995),\n",
              " ('robert roth', 6975),\n",
              " ('goyim must die', 6928),\n",
              " ('dr. eowyn', 6836),\n",
              " ('pamela geller', 6820),\n",
              " ('joan mccarter', 6801),\n",
              " ('kerry eleveld', 6703),\n",
              " ('sexy-author-bio', 6677)]"
            ]
          },
          "metadata": {
            "tags": []
          },
          "execution_count": 23
        }
      ]
    },
    {
      "cell_type": "code",
      "metadata": {
        "id": "9sPJfCZW2IDN"
      },
      "source": [
        "non_relevant_authors = [\n",
        "    \"yes\", \n",
        "    \"nickname\", \n",
        "    \"joined\", \n",
        "    \"created_at\", \n",
        "    \"story count\", \n",
        "    \"n_stories\", \n",
        "    \"comment count\", \n",
        "    \"n_comments\", \n",
        "    \"popular tags\", \n",
        "    \"showtags popular_tags\", \n",
        "    \"the\",\n",
        "    \"view all posts\",\n",
        "    \"http\",\n",
        "    \"https\",\n",
        "    \"\",\n",
        "    \"background\",\n",
        "    \"ffffff\",\n",
        "    \"solid\",\n",
        "    \"border-style\",\n",
        "    \"color\",\n",
        "    \"border-color\"\n",
        "    \"border-top-width\",\n",
        "    \"border-right-width\",\n",
        "    \"about me\"\n",
        "]\n",
        "for nra in non_relevant_authors:\n",
        "    del counts_authors[nra]"
      ],
      "execution_count": null,
      "outputs": []
    },
    {
      "cell_type": "code",
      "metadata": {
        "id": "ybhWtbu02IDN"
      },
      "source": [
        "fake_types = [\n",
        "#     \"political\",\n",
        "#     \"bias\",\n",
        "    \"conspiracy\",\n",
        "    \"fake\",\n",
        "    \"unreliable\",\n",
        "    \"rumor\",\n",
        "    \"clickbait\",\n",
        "#     \"unknown\",\n",
        "    \"junksci\",\n",
        "    \"satire\",\n",
        "    \"hate\",\n",
        "    \"reliable\"]\n",
        "data[\"fake\"] = data.type.apply(lambda x: 1 if x in fake_types else 0)"
      ],
      "execution_count": null,
      "outputs": []
    },
    {
      "cell_type": "code",
      "metadata": {
        "id": "-vECJPWX2IDN",
        "outputId": "cfcb7baa-3068-41b9-c5bf-511baf925f03"
      },
      "source": [
        "data[\"fake\"].value_counts()"
      ],
      "execution_count": null,
      "outputs": [
        {
          "output_type": "execute_result",
          "data": {
            "text/plain": [
              "0    3492328\n",
              "1    1225564\n",
              "Name: fake, dtype: int64"
            ]
          },
          "metadata": {
            "tags": []
          },
          "execution_count": 26
        }
      ]
    },
    {
      "cell_type": "code",
      "metadata": {
        "id": "UsjJj5Z22IDO"
      },
      "source": [
        "data.dropna(subset=['type', 'content', 'title', 'fake'], inplace=True)\n",
        "data.reset_index(drop=True, inplace=True)"
      ],
      "execution_count": null,
      "outputs": []
    },
    {
      "cell_type": "code",
      "metadata": {
        "id": "PqGX4nSG2IDO"
      },
      "source": [
        "def add_metadata_as_has_col(df, col, all_metadata, prefix, cache):\n",
        "    start_time = int(time() * 1000)\n",
        "    n = len(all_metadata)\n",
        "    for i, metadata in enumerate(all_metadata):\n",
        "        print(\"Processed {} of {} metadata keys ({} ms)\".format(i, n, int(time() * 1000) - start_time))\n",
        "        df[prefix + metadata[0]] = df.apply(lambda row: 1 if row.name < len(cache) and metadata[0] in cache[row.name] else 0, axis=1)"
      ],
      "execution_count": null,
      "outputs": []
    },
    {
      "cell_type": "code",
      "metadata": {
        "id": "kM2WdkQ02IDO"
      },
      "source": [
        "mt = set()\n",
        "cache_keywords = [set([a for a in ast.literal_eval(d.lower()) if a not in non_relevant_keywords]) if type(d) == str else mt for d in data[\"meta_keywords\"]]\n",
        "cache_tags = [set([s.strip() for s in d.lower().split(\", \") if s.strip() not in non_relevant_tags]) if type(d) == str else mt for d in data[\"tags\"]]\n",
        "cache_authors = [set([s.strip() for s in d.lower().split(\", \") if s.strip() not in non_relevant_authors]) if type(d) == str else mt for d in data[\"authors\"]]"
      ],
      "execution_count": null,
      "outputs": []
    },
    {
      "cell_type": "code",
      "metadata": {
        "scrolled": true,
        "id": "mwVp_1NO2IDO",
        "outputId": "93fe2493-5996-4071-f3fd-dd253081edee"
      },
      "source": [
        "add_metadata_as_has_col(data, \"meta_keywords\", counts_keywords.most_common(100), \"has_mk_\", cache_keywords)"
      ],
      "execution_count": null,
      "outputs": [
        {
          "output_type": "stream",
          "text": [
            "Processed 0 of 100 metadata keys (0 ms)\n",
            "Processed 1 of 100 metadata keys (21077 ms)\n",
            "Processed 2 of 100 metadata keys (35318 ms)\n",
            "Processed 3 of 100 metadata keys (50004 ms)\n",
            "Processed 4 of 100 metadata keys (64100 ms)\n",
            "Processed 5 of 100 metadata keys (76604 ms)\n",
            "Processed 6 of 100 metadata keys (91258 ms)\n",
            "Processed 7 of 100 metadata keys (105581 ms)\n",
            "Processed 8 of 100 metadata keys (120714 ms)\n",
            "Processed 9 of 100 metadata keys (135215 ms)\n",
            "Processed 10 of 100 metadata keys (151352 ms)\n",
            "Processed 11 of 100 metadata keys (167289 ms)\n",
            "Processed 12 of 100 metadata keys (188125 ms)\n",
            "Processed 13 of 100 metadata keys (208006 ms)\n",
            "Processed 14 of 100 metadata keys (235591 ms)\n",
            "Processed 15 of 100 metadata keys (273240 ms)\n",
            "Processed 16 of 100 metadata keys (307341 ms)\n",
            "Processed 17 of 100 metadata keys (348034 ms)\n",
            "Processed 18 of 100 metadata keys (374767 ms)\n",
            "Processed 19 of 100 metadata keys (406861 ms)\n",
            "Processed 20 of 100 metadata keys (433860 ms)\n",
            "Processed 21 of 100 metadata keys (464682 ms)\n",
            "Processed 22 of 100 metadata keys (490802 ms)\n",
            "Processed 23 of 100 metadata keys (530468 ms)\n",
            "Processed 24 of 100 metadata keys (570391 ms)\n",
            "Processed 25 of 100 metadata keys (606472 ms)\n",
            "Processed 26 of 100 metadata keys (641262 ms)\n",
            "Processed 27 of 100 metadata keys (678326 ms)\n",
            "Processed 28 of 100 metadata keys (712427 ms)\n",
            "Processed 29 of 100 metadata keys (750289 ms)\n",
            "Processed 30 of 100 metadata keys (785970 ms)\n",
            "Processed 31 of 100 metadata keys (824367 ms)\n",
            "Processed 32 of 100 metadata keys (860386 ms)\n",
            "Processed 33 of 100 metadata keys (897217 ms)\n",
            "Processed 34 of 100 metadata keys (931437 ms)\n",
            "Processed 35 of 100 metadata keys (975772 ms)\n",
            "Processed 36 of 100 metadata keys (1018705 ms)\n",
            "Processed 37 of 100 metadata keys (1060280 ms)\n",
            "Processed 38 of 100 metadata keys (1099789 ms)\n",
            "Processed 39 of 100 metadata keys (1139422 ms)\n",
            "Processed 40 of 100 metadata keys (1184713 ms)\n",
            "Processed 41 of 100 metadata keys (1231473 ms)\n",
            "Processed 42 of 100 metadata keys (1275448 ms)\n",
            "Processed 43 of 100 metadata keys (1321061 ms)\n",
            "Processed 44 of 100 metadata keys (1367025 ms)\n",
            "Processed 45 of 100 metadata keys (1411345 ms)\n",
            "Processed 46 of 100 metadata keys (1455453 ms)\n",
            "Processed 47 of 100 metadata keys (1506380 ms)\n",
            "Processed 48 of 100 metadata keys (1551932 ms)\n",
            "Processed 49 of 100 metadata keys (1597653 ms)\n",
            "Processed 50 of 100 metadata keys (1644006 ms)\n",
            "Processed 51 of 100 metadata keys (1684533 ms)\n",
            "Processed 52 of 100 metadata keys (1733086 ms)\n",
            "Processed 53 of 100 metadata keys (1775151 ms)\n",
            "Processed 54 of 100 metadata keys (1819473 ms)\n",
            "Processed 55 of 100 metadata keys (1865915 ms)\n",
            "Processed 56 of 100 metadata keys (1912162 ms)\n",
            "Processed 57 of 100 metadata keys (1959440 ms)\n",
            "Processed 58 of 100 metadata keys (2003500 ms)\n",
            "Processed 59 of 100 metadata keys (2065836 ms)\n",
            "Processed 60 of 100 metadata keys (2109833 ms)\n",
            "Processed 61 of 100 metadata keys (2160741 ms)\n",
            "Processed 62 of 100 metadata keys (2213815 ms)\n",
            "Processed 63 of 100 metadata keys (2266763 ms)\n",
            "Processed 64 of 100 metadata keys (2313011 ms)\n",
            "Processed 65 of 100 metadata keys (2367236 ms)\n",
            "Processed 66 of 100 metadata keys (2414785 ms)\n",
            "Processed 67 of 100 metadata keys (2463833 ms)\n",
            "Processed 68 of 100 metadata keys (2511037 ms)\n",
            "Processed 69 of 100 metadata keys (2564796 ms)\n",
            "Processed 70 of 100 metadata keys (2614258 ms)\n",
            "Processed 71 of 100 metadata keys (2665284 ms)\n",
            "Processed 72 of 100 metadata keys (2715370 ms)\n",
            "Processed 73 of 100 metadata keys (2791258 ms)\n",
            "Processed 74 of 100 metadata keys (2865006 ms)\n",
            "Processed 75 of 100 metadata keys (2921013 ms)\n",
            "Processed 76 of 100 metadata keys (2994554 ms)\n",
            "Processed 77 of 100 metadata keys (3060763 ms)\n",
            "Processed 78 of 100 metadata keys (3111376 ms)\n",
            "Processed 79 of 100 metadata keys (3161960 ms)\n",
            "Processed 80 of 100 metadata keys (3224622 ms)\n",
            "Processed 81 of 100 metadata keys (3283753 ms)\n",
            "Processed 82 of 100 metadata keys (3344061 ms)\n",
            "Processed 83 of 100 metadata keys (3400785 ms)\n",
            "Processed 84 of 100 metadata keys (3454701 ms)\n",
            "Processed 85 of 100 metadata keys (3514270 ms)\n",
            "Processed 86 of 100 metadata keys (3576863 ms)\n",
            "Processed 87 of 100 metadata keys (3636624 ms)\n",
            "Processed 88 of 100 metadata keys (3696882 ms)\n",
            "Processed 89 of 100 metadata keys (3758724 ms)\n",
            "Processed 90 of 100 metadata keys (3828011 ms)\n",
            "Processed 91 of 100 metadata keys (3895918 ms)\n",
            "Processed 92 of 100 metadata keys (3956389 ms)\n",
            "Processed 93 of 100 metadata keys (4017635 ms)\n",
            "Processed 94 of 100 metadata keys (4079541 ms)\n",
            "Processed 95 of 100 metadata keys (4143394 ms)\n",
            "Processed 96 of 100 metadata keys (4212812 ms)\n",
            "Processed 97 of 100 metadata keys (4284370 ms)\n",
            "Processed 98 of 100 metadata keys (4346047 ms)\n",
            "Processed 99 of 100 metadata keys (4413698 ms)\n"
          ],
          "name": "stdout"
        }
      ]
    },
    {
      "cell_type": "code",
      "metadata": {
        "scrolled": true,
        "id": "uhAIjyUL2IDO",
        "outputId": "2a795c16-c187-4343-f4af-ab7821f2b840"
      },
      "source": [
        "add_metadata_as_has_col(data, \"tags\", counts_tags.most_common(100), \"has_tag_\", cache_tags)"
      ],
      "execution_count": null,
      "outputs": [
        {
          "output_type": "stream",
          "text": [
            "Processed 0 of 100 metadata keys (0 ms)\n",
            "Processed 1 of 100 metadata keys (68484 ms)\n",
            "Processed 2 of 100 metadata keys (136612 ms)\n",
            "Processed 3 of 100 metadata keys (198915 ms)\n",
            "Processed 4 of 100 metadata keys (263275 ms)\n",
            "Processed 5 of 100 metadata keys (330590 ms)\n",
            "Processed 6 of 100 metadata keys (400550 ms)\n",
            "Processed 7 of 100 metadata keys (473139 ms)\n",
            "Processed 8 of 100 metadata keys (535256 ms)\n",
            "Processed 9 of 100 metadata keys (610366 ms)\n",
            "Processed 10 of 100 metadata keys (678515 ms)\n",
            "Processed 11 of 100 metadata keys (745561 ms)\n",
            "Processed 12 of 100 metadata keys (808199 ms)\n",
            "Processed 13 of 100 metadata keys (873415 ms)\n",
            "Processed 14 of 100 metadata keys (937324 ms)\n",
            "Processed 15 of 100 metadata keys (1004537 ms)\n",
            "Processed 16 of 100 metadata keys (1069731 ms)\n",
            "Processed 17 of 100 metadata keys (1140947 ms)\n",
            "Processed 18 of 100 metadata keys (1217419 ms)\n",
            "Processed 19 of 100 metadata keys (1291306 ms)\n",
            "Processed 20 of 100 metadata keys (1373393 ms)\n",
            "Processed 21 of 100 metadata keys (1459196 ms)\n",
            "Processed 22 of 100 metadata keys (1540116 ms)\n",
            "Processed 23 of 100 metadata keys (1622812 ms)\n",
            "Processed 24 of 100 metadata keys (1694577 ms)\n",
            "Processed 25 of 100 metadata keys (1776314 ms)\n",
            "Processed 26 of 100 metadata keys (1863465 ms)\n",
            "Processed 27 of 100 metadata keys (1941608 ms)\n",
            "Processed 28 of 100 metadata keys (2019367 ms)\n",
            "Processed 29 of 100 metadata keys (2096527 ms)\n",
            "Processed 30 of 100 metadata keys (2185103 ms)\n",
            "Processed 31 of 100 metadata keys (2263012 ms)\n",
            "Processed 32 of 100 metadata keys (2342526 ms)\n",
            "Processed 33 of 100 metadata keys (2437966 ms)\n",
            "Processed 34 of 100 metadata keys (2521335 ms)\n",
            "Processed 35 of 100 metadata keys (2601709 ms)\n",
            "Processed 36 of 100 metadata keys (2683397 ms)\n",
            "Processed 37 of 100 metadata keys (2771586 ms)\n",
            "Processed 38 of 100 metadata keys (2863119 ms)\n",
            "Processed 39 of 100 metadata keys (2944081 ms)\n",
            "Processed 40 of 100 metadata keys (3024650 ms)\n",
            "Processed 41 of 100 metadata keys (3098919 ms)\n",
            "Processed 42 of 100 metadata keys (3182204 ms)\n",
            "Processed 43 of 100 metadata keys (3270670 ms)\n",
            "Processed 44 of 100 metadata keys (3351811 ms)\n",
            "Processed 45 of 100 metadata keys (3443411 ms)\n",
            "Processed 46 of 100 metadata keys (3527816 ms)\n",
            "Processed 47 of 100 metadata keys (3627487 ms)\n",
            "Processed 48 of 100 metadata keys (3735118 ms)\n",
            "Processed 49 of 100 metadata keys (3834708 ms)\n",
            "Processed 50 of 100 metadata keys (3927615 ms)\n",
            "Processed 51 of 100 metadata keys (4051883 ms)\n",
            "Processed 52 of 100 metadata keys (4145053 ms)\n",
            "Processed 53 of 100 metadata keys (4246961 ms)\n",
            "Processed 54 of 100 metadata keys (4340429 ms)\n",
            "Processed 55 of 100 metadata keys (4438996 ms)\n",
            "Processed 56 of 100 metadata keys (4534801 ms)\n",
            "Processed 57 of 100 metadata keys (4631570 ms)\n",
            "Processed 58 of 100 metadata keys (4727263 ms)\n",
            "Processed 59 of 100 metadata keys (4826373 ms)\n",
            "Processed 60 of 100 metadata keys (4925096 ms)\n",
            "Processed 61 of 100 metadata keys (5026654 ms)\n",
            "Processed 62 of 100 metadata keys (5139388 ms)\n",
            "Processed 63 of 100 metadata keys (5241271 ms)\n",
            "Processed 64 of 100 metadata keys (5339908 ms)\n",
            "Processed 65 of 100 metadata keys (5447491 ms)\n",
            "Processed 66 of 100 metadata keys (5553016 ms)\n",
            "Processed 67 of 100 metadata keys (5659515 ms)\n",
            "Processed 68 of 100 metadata keys (5763672 ms)\n",
            "Processed 69 of 100 metadata keys (5867548 ms)\n",
            "Processed 70 of 100 metadata keys (5969094 ms)\n",
            "Processed 71 of 100 metadata keys (6069779 ms)\n",
            "Processed 72 of 100 metadata keys (6174981 ms)\n",
            "Processed 73 of 100 metadata keys (6284770 ms)\n",
            "Processed 74 of 100 metadata keys (6401594 ms)\n",
            "Processed 75 of 100 metadata keys (6508664 ms)\n",
            "Processed 76 of 100 metadata keys (6621781 ms)\n",
            "Processed 77 of 100 metadata keys (6721868 ms)\n",
            "Processed 78 of 100 metadata keys (6827679 ms)\n",
            "Processed 79 of 100 metadata keys (6934842 ms)\n",
            "Processed 80 of 100 metadata keys (7044549 ms)\n",
            "Processed 81 of 100 metadata keys (7163003 ms)\n",
            "Processed 82 of 100 metadata keys (7272422 ms)\n",
            "Processed 83 of 100 metadata keys (7390943 ms)\n",
            "Processed 84 of 100 metadata keys (7501256 ms)\n",
            "Processed 85 of 100 metadata keys (7617807 ms)\n",
            "Processed 86 of 100 metadata keys (7729202 ms)\n",
            "Processed 87 of 100 metadata keys (7854835 ms)\n",
            "Processed 88 of 100 metadata keys (7960349 ms)\n",
            "Processed 89 of 100 metadata keys (8077358 ms)\n",
            "Processed 90 of 100 metadata keys (8185456 ms)\n",
            "Processed 91 of 100 metadata keys (8297250 ms)\n",
            "Processed 92 of 100 metadata keys (8404314 ms)\n",
            "Processed 93 of 100 metadata keys (8525642 ms)\n",
            "Processed 94 of 100 metadata keys (8644150 ms)\n",
            "Processed 95 of 100 metadata keys (8756644 ms)\n",
            "Processed 96 of 100 metadata keys (8867885 ms)\n",
            "Processed 97 of 100 metadata keys (8992385 ms)\n",
            "Processed 98 of 100 metadata keys (9108538 ms)\n",
            "Processed 99 of 100 metadata keys (9222036 ms)\n"
          ],
          "name": "stdout"
        }
      ]
    },
    {
      "cell_type": "code",
      "metadata": {
        "id": "IIiH89Jb2IDP",
        "outputId": "d9e55d13-774a-4763-9ac0-1d3332af3444"
      },
      "source": [
        "add_metadata_as_has_col(data, \"authors\", counts_authors.most_common(100), \"has_author_\", cache_authors)"
      ],
      "execution_count": null,
      "outputs": [
        {
          "output_type": "stream",
          "text": [
            "Processed 0 of 100 metadata keys (0 ms)\n",
            "Processed 1 of 100 metadata keys (121219 ms)\n",
            "Processed 2 of 100 metadata keys (232432 ms)\n",
            "Processed 3 of 100 metadata keys (350367 ms)\n",
            "Processed 4 of 100 metadata keys (474430 ms)\n",
            "Processed 5 of 100 metadata keys (587165 ms)\n",
            "Processed 6 of 100 metadata keys (697572 ms)\n",
            "Processed 7 of 100 metadata keys (819189 ms)\n",
            "Processed 8 of 100 metadata keys (927804 ms)\n",
            "Processed 9 of 100 metadata keys (1055699 ms)\n",
            "Processed 10 of 100 metadata keys (1184626 ms)\n",
            "Processed 11 of 100 metadata keys (1306438 ms)\n",
            "Processed 12 of 100 metadata keys (1439123 ms)\n",
            "Processed 13 of 100 metadata keys (1566228 ms)\n",
            "Processed 14 of 100 metadata keys (1688539 ms)\n",
            "Processed 15 of 100 metadata keys (1835166 ms)\n",
            "Processed 16 of 100 metadata keys (1972478 ms)\n",
            "Processed 17 of 100 metadata keys (2114796 ms)\n",
            "Processed 18 of 100 metadata keys (2249995 ms)\n",
            "Processed 19 of 100 metadata keys (2377976 ms)\n",
            "Processed 20 of 100 metadata keys (2521906 ms)\n",
            "Processed 21 of 100 metadata keys (2664090 ms)\n",
            "Processed 22 of 100 metadata keys (2794072 ms)\n",
            "Processed 23 of 100 metadata keys (2934928 ms)\n",
            "Processed 24 of 100 metadata keys (3078204 ms)\n",
            "Processed 25 of 100 metadata keys (3229054 ms)\n",
            "Processed 26 of 100 metadata keys (3374682 ms)\n",
            "Processed 27 of 100 metadata keys (3523585 ms)\n",
            "Processed 28 of 100 metadata keys (3686512 ms)\n",
            "Processed 29 of 100 metadata keys (3830560 ms)\n",
            "Processed 30 of 100 metadata keys (3984100 ms)\n",
            "Processed 31 of 100 metadata keys (4140764 ms)\n",
            "Processed 32 of 100 metadata keys (4295582 ms)\n",
            "Processed 33 of 100 metadata keys (4433939 ms)\n",
            "Processed 34 of 100 metadata keys (4572471 ms)\n",
            "Processed 35 of 100 metadata keys (4734140 ms)\n",
            "Processed 36 of 100 metadata keys (4877973 ms)\n",
            "Processed 37 of 100 metadata keys (5026569 ms)\n",
            "Processed 38 of 100 metadata keys (5168768 ms)\n",
            "Processed 39 of 100 metadata keys (5321384 ms)\n",
            "Processed 40 of 100 metadata keys (5482082 ms)\n",
            "Processed 41 of 100 metadata keys (5630585 ms)\n",
            "Processed 42 of 100 metadata keys (5783058 ms)\n",
            "Processed 43 of 100 metadata keys (5931650 ms)\n",
            "Processed 44 of 100 metadata keys (6091884 ms)\n",
            "Processed 45 of 100 metadata keys (6242036 ms)\n",
            "Processed 46 of 100 metadata keys (6398195 ms)\n",
            "Processed 47 of 100 metadata keys (6564116 ms)\n",
            "Processed 48 of 100 metadata keys (6717935 ms)\n",
            "Processed 49 of 100 metadata keys (6867970 ms)\n",
            "Processed 50 of 100 metadata keys (7017586 ms)\n",
            "Processed 51 of 100 metadata keys (7174775 ms)\n",
            "Processed 52 of 100 metadata keys (7328518 ms)\n",
            "Processed 53 of 100 metadata keys (7491003 ms)\n",
            "Processed 54 of 100 metadata keys (7653160 ms)\n",
            "Processed 55 of 100 metadata keys (7814862 ms)\n",
            "Processed 56 of 100 metadata keys (7975429 ms)\n",
            "Processed 57 of 100 metadata keys (8149621 ms)\n",
            "Processed 58 of 100 metadata keys (8309479 ms)\n",
            "Processed 59 of 100 metadata keys (8473180 ms)\n",
            "Processed 60 of 100 metadata keys (8630552 ms)\n",
            "Processed 61 of 100 metadata keys (8795182 ms)\n",
            "Processed 62 of 100 metadata keys (8952428 ms)\n",
            "Processed 63 of 100 metadata keys (9116852 ms)\n",
            "Processed 64 of 100 metadata keys (9291777 ms)\n",
            "Processed 65 of 100 metadata keys (9444910 ms)\n",
            "Processed 66 of 100 metadata keys (9596031 ms)\n",
            "Processed 67 of 100 metadata keys (9763041 ms)\n",
            "Processed 68 of 100 metadata keys (9927598 ms)\n",
            "Processed 69 of 100 metadata keys (10092340 ms)\n",
            "Processed 70 of 100 metadata keys (10255782 ms)\n",
            "Processed 71 of 100 metadata keys (10421902 ms)\n",
            "Processed 72 of 100 metadata keys (10585270 ms)\n",
            "Processed 73 of 100 metadata keys (10755234 ms)\n",
            "Processed 74 of 100 metadata keys (10940852 ms)\n",
            "Processed 75 of 100 metadata keys (11101248 ms)\n",
            "Processed 76 of 100 metadata keys (11262336 ms)\n",
            "Processed 77 of 100 metadata keys (11435270 ms)\n",
            "Processed 78 of 100 metadata keys (11609205 ms)\n",
            "Processed 79 of 100 metadata keys (11781068 ms)\n",
            "Processed 80 of 100 metadata keys (11956916 ms)\n",
            "Processed 81 of 100 metadata keys (12157285 ms)\n",
            "Processed 82 of 100 metadata keys (12339059 ms)\n",
            "Processed 83 of 100 metadata keys (12516852 ms)\n",
            "Processed 84 of 100 metadata keys (12705550 ms)\n",
            "Processed 85 of 100 metadata keys (12887039 ms)\n",
            "Processed 86 of 100 metadata keys (13060865 ms)\n",
            "Processed 87 of 100 metadata keys (13247016 ms)\n",
            "Processed 88 of 100 metadata keys (13430880 ms)\n",
            "Processed 89 of 100 metadata keys (13613940 ms)\n",
            "Processed 90 of 100 metadata keys (13800667 ms)\n",
            "Processed 91 of 100 metadata keys (13995254 ms)\n",
            "Processed 92 of 100 metadata keys (14178590 ms)\n",
            "Processed 93 of 100 metadata keys (14369013 ms)\n",
            "Processed 94 of 100 metadata keys (14547585 ms)\n",
            "Processed 95 of 100 metadata keys (14729788 ms)\n",
            "Processed 96 of 100 metadata keys (14897149 ms)\n",
            "Processed 97 of 100 metadata keys (15082046 ms)\n",
            "Processed 98 of 100 metadata keys (15276248 ms)\n",
            "Processed 99 of 100 metadata keys (15468798 ms)\n"
          ],
          "name": "stdout"
        }
      ]
    },
    {
      "cell_type": "code",
      "metadata": {
        "id": "TD_2rbKJ2IDP"
      },
      "source": [
        "data.drop(\"meta_keywords\", axis=1, inplace=True)\n",
        "data.drop(\"tags\", axis=1, inplace=True)\n",
        "data.drop(\"authors\", axis=1, inplace=True)"
      ],
      "execution_count": null,
      "outputs": []
    },
    {
      "cell_type": "code",
      "metadata": {
        "id": "qr98Z-dM2IDP"
      },
      "source": [
        "simple_cols = [\"title\", \"content\", \"type\", \"fake\", \"domain\", \"updated_at\"]"
      ],
      "execution_count": null,
      "outputs": []
    },
    {
      "cell_type": "code",
      "metadata": {
        "id": "VCAGT0AV2IDP"
      },
      "source": [
        "data.to_csv(\"./data/news_wkta_all.csv\", index=False)\n",
        "data.to_csv(\"./data/news_simple_all.csv\", columns=simple_cols, index=False)"
      ],
      "execution_count": null,
      "outputs": []
    },
    {
      "cell_type": "code",
      "metadata": {
        "id": "6p756qGo2IDP",
        "outputId": "6b29cca0-a047-44d2-c400-5e6cb2b2c28c"
      },
      "source": [
        "medium_data = data.sample(n=2_500_000, random_state=9034)"
      ],
      "execution_count": null,
      "outputs": [
        {
          "output_type": "error",
          "ename": "ValueError",
          "evalue": "Cannot take a larger sample than population when 'replace=False'",
          "traceback": [
            "\u001b[0;31m---------------------------------------------------------------------------\u001b[0m",
            "\u001b[0;31mValueError\u001b[0m                                Traceback (most recent call last)",
            "\u001b[0;32m<ipython-input-73-bd460e29415e>\u001b[0m in \u001b[0;36m<module>\u001b[0;34m\u001b[0m\n\u001b[0;32m----> 1\u001b[0;31m \u001b[0mmedium_data\u001b[0m \u001b[0;34m=\u001b[0m \u001b[0mdata\u001b[0m\u001b[0;34m.\u001b[0m\u001b[0msample\u001b[0m\u001b[0;34m(\u001b[0m\u001b[0mn\u001b[0m\u001b[0;34m=\u001b[0m\u001b[0;36m2_500_000\u001b[0m\u001b[0;34m,\u001b[0m \u001b[0mrandom_state\u001b[0m\u001b[0;34m=\u001b[0m\u001b[0;36m9034\u001b[0m\u001b[0;34m)\u001b[0m\u001b[0;34m\u001b[0m\u001b[0;34m\u001b[0m\u001b[0m\n\u001b[0m",
            "\u001b[0;32m~/anaconda3/envs/nn-project/lib/python3.8/site-packages/pandas/core/generic.py\u001b[0m in \u001b[0;36msample\u001b[0;34m(self, n, frac, replace, weights, random_state, axis)\u001b[0m\n\u001b[1;32m   4991\u001b[0m             )\n\u001b[1;32m   4992\u001b[0m \u001b[0;34m\u001b[0m\u001b[0m\n\u001b[0;32m-> 4993\u001b[0;31m         \u001b[0mlocs\u001b[0m \u001b[0;34m=\u001b[0m \u001b[0mrs\u001b[0m\u001b[0;34m.\u001b[0m\u001b[0mchoice\u001b[0m\u001b[0;34m(\u001b[0m\u001b[0maxis_length\u001b[0m\u001b[0;34m,\u001b[0m \u001b[0msize\u001b[0m\u001b[0;34m=\u001b[0m\u001b[0mn\u001b[0m\u001b[0;34m,\u001b[0m \u001b[0mreplace\u001b[0m\u001b[0;34m=\u001b[0m\u001b[0mreplace\u001b[0m\u001b[0;34m,\u001b[0m \u001b[0mp\u001b[0m\u001b[0;34m=\u001b[0m\u001b[0mweights\u001b[0m\u001b[0;34m)\u001b[0m\u001b[0;34m\u001b[0m\u001b[0;34m\u001b[0m\u001b[0m\n\u001b[0m\u001b[1;32m   4994\u001b[0m         \u001b[0;32mreturn\u001b[0m \u001b[0mself\u001b[0m\u001b[0;34m.\u001b[0m\u001b[0mtake\u001b[0m\u001b[0;34m(\u001b[0m\u001b[0mlocs\u001b[0m\u001b[0;34m,\u001b[0m \u001b[0maxis\u001b[0m\u001b[0;34m=\u001b[0m\u001b[0maxis\u001b[0m\u001b[0;34m)\u001b[0m\u001b[0;34m\u001b[0m\u001b[0;34m\u001b[0m\u001b[0m\n\u001b[1;32m   4995\u001b[0m \u001b[0;34m\u001b[0m\u001b[0m\n",
            "\u001b[0;32mmtrand.pyx\u001b[0m in \u001b[0;36mnumpy.random.mtrand.RandomState.choice\u001b[0;34m()\u001b[0m\n",
            "\u001b[0;31mValueError\u001b[0m: Cannot take a larger sample than population when 'replace=False'"
          ]
        }
      ]
    },
    {
      "cell_type": "code",
      "metadata": {
        "id": "VamLBGwQ2IDP"
      },
      "source": [
        "medium_data.to_csv(\"./data/news_wkta_2500k.csv\", index=False)\n",
        "medium_data.to_csv(\"./data/news_simple_2500k.csv\", columns=simple_cols, index=False)"
      ],
      "execution_count": null,
      "outputs": []
    },
    {
      "cell_type": "code",
      "metadata": {
        "id": "WRq3hOPQ2IDP"
      },
      "source": [
        "small_data.to_csv(\"./data/news_wkta_500k.csv\", index=False)\n",
        "small_data.to_csv(\"./data/news_simple_500k.csv\", columns=simple_cols, index=False)"
      ],
      "execution_count": null,
      "outputs": []
    },
    {
      "cell_type": "code",
      "metadata": {
        "id": "P2ty_4Su2IDQ",
        "outputId": "81391177-d313-47ee-ba1d-e873a546df8d"
      },
      "source": [
        "small_data.type.value_counts(normalize=True)"
      ],
      "execution_count": null,
      "outputs": [
        {
          "output_type": "execute_result",
          "data": {
            "text/plain": [
              "political     0.438336\n",
              "bias          0.137570\n",
              "conspiracy    0.088278\n",
              "fake          0.075482\n",
              "unreliable    0.070096\n",
              "rumor         0.057772\n",
              "clickbait     0.043410\n",
              "unknown       0.032048\n",
              "junksci       0.018404\n",
              "satire        0.017164\n",
              "hate          0.016508\n",
              "reliable      0.004932\n",
              "Name: type, dtype: float64"
            ]
          },
          "metadata": {
            "tags": []
          },
          "execution_count": 42
        }
      ]
    },
    {
      "cell_type": "code",
      "metadata": {
        "id": "dy_RlbcC2IDQ",
        "outputId": "4675fc22-5f03-4b35-d565-a06f9c2cd612"
      },
      "source": [
        "medium_data.type.value_counts(normalize=True)"
      ],
      "execution_count": null,
      "outputs": [
        {
          "output_type": "execute_result",
          "data": {
            "text/plain": [
              "political     0.438166\n",
              "bias          0.137713\n",
              "conspiracy    0.088793\n",
              "fake          0.075884\n",
              "unreliable    0.069976\n",
              "rumor         0.057370\n",
              "clickbait     0.043462\n",
              "unknown       0.031926\n",
              "junksci       0.018195\n",
              "satire        0.017166\n",
              "hate          0.016407\n",
              "reliable      0.004943\n",
              "Name: type, dtype: float64"
            ]
          },
          "metadata": {
            "tags": []
          },
          "execution_count": 43
        }
      ]
    },
    {
      "cell_type": "code",
      "metadata": {
        "id": "rHDQG9fm2IDR"
      },
      "source": [
        "data = pd.read_csv(\"./data/news_wkta_500k.csv.zip\", low_memory=True, memory_map=True, encoding=\"utf-8\", quotechar='\"', engine=\"c\", dtype=coltypes, error_bad_lines=False, warn_bad_lines=True)"
      ],
      "execution_count": null,
      "outputs": []
    },
    {
      "cell_type": "code",
      "metadata": {
        "id": "X5KF1SXh2IDR"
      },
      "source": [
        "def recover_meta_counts(df, prefix):\n",
        "    counts = Counter()\n",
        "    for col in df.columns:\n",
        "        if prefix in col:\n",
        "            data_slice = df[df[col] == 1]\n",
        "            counts[col[len(prefix):]] += data_slice[col].sum()\n",
        "    return counts"
      ],
      "execution_count": null,
      "outputs": []
    },
    {
      "cell_type": "code",
      "metadata": {
        "id": "ieOpKa1u2IDR"
      },
      "source": [
        "counts_keywords = recover_meta_counts(data, \"has_mk_\")\n",
        "counts_tags = recover_meta_counts(data, \"has_tag_\")\n",
        "counts_authors = recover_meta_counts(data, \"has_author_\")"
      ],
      "execution_count": null,
      "outputs": []
    },
    {
      "cell_type": "code",
      "metadata": {
        "id": "EyUNwBE22IDR"
      },
      "source": [
        "def filter_data_by_meta(df, prefix, meta_counts, n):\n",
        "    req_cols = [prefix + meta for meta, _ in meta_counts.most_common(n)]\n",
        "    \n",
        "    all_criteria = [df[col] == 1 for col in req_cols]\n",
        "    criteria = df[req_cols[0]] == 1\n",
        "    for col in req_cols[1:]:\n",
        "        criteria = criteria | df[col] == 1\n",
        "        \n",
        "    return df.loc[criteria]\n",
        "    \n",
        "    "
      ],
      "execution_count": null,
      "outputs": []
    },
    {
      "cell_type": "code",
      "metadata": {
        "id": "DjxbdqFc2IDR"
      },
      "source": [
        "filtered_data = filter_data_by_meta(data, \"has_mk_\", counts_keywords, 25)"
      ],
      "execution_count": null,
      "outputs": []
    },
    {
      "cell_type": "code",
      "metadata": {
        "id": "Suxkpe7d2IDR",
        "outputId": "aad64a6d-2200-48cb-99cf-19ed88aa677d"
      },
      "source": [
        "data.fake.value_counts(normalize=True)"
      ],
      "execution_count": null,
      "outputs": [
        {
          "output_type": "execute_result",
          "data": {
            "text/plain": [
              "0    0.629394\n",
              "1    0.370606\n",
              "Name: fake, dtype: float64"
            ]
          },
          "metadata": {
            "tags": []
          },
          "execution_count": 10
        }
      ]
    },
    {
      "cell_type": "code",
      "metadata": {
        "id": "_hA6Vyrm2IDS",
        "outputId": "323f6ed6-88d9-487b-cd12-cda31510c9f3"
      },
      "source": [
        "filtered_data.fake.value_counts(normalize=True)"
      ],
      "execution_count": null,
      "outputs": [
        {
          "output_type": "execute_result",
          "data": {
            "text/plain": [
              "0    0.957647\n",
              "1    0.042353\n",
              "Name: fake, dtype: float64"
            ]
          },
          "metadata": {
            "tags": []
          },
          "execution_count": 11
        }
      ]
    },
    {
      "cell_type": "code",
      "metadata": {
        "id": "n7Nn3Up82IDS",
        "outputId": "cfea9acf-d9a6-48c9-a50f-ecc3c076bf4e"
      },
      "source": [
        "data.fake.value_counts(normalize=True).sort_values().plot(kind = 'barh')"
      ],
      "execution_count": null,
      "outputs": [
        {
          "output_type": "execute_result",
          "data": {
            "text/plain": [
              "<AxesSubplot:>"
            ]
          },
          "metadata": {
            "tags": []
          },
          "execution_count": 12
        },
        {
          "output_type": "display_data",
          "data": {
            "image/png": "[encoded data removed]",
            "text/plain": [
              "<Figure size 432x288 with 1 Axes>"
            ]
          },
          "metadata": {
            "tags": [],
            "needs_background": "light"
          }
        }
      ]
    },
    {
      "cell_type": "code",
      "metadata": {
        "id": "EDAQ60_p2IDS",
        "outputId": "82f5afe6-348e-4985-f2ad-0888fc910add"
      },
      "source": [
        "filtered_data.fake.value_counts(normalize=True).sort_values().plot(kind = 'barh')"
      ],
      "execution_count": null,
      "outputs": [
        {
          "output_type": "execute_result",
          "data": {
            "text/plain": [
              "<AxesSubplot:>"
            ]
          },
          "metadata": {
            "tags": []
          },
          "execution_count": 13
        },
        {
          "output_type": "display_data",
          "data": {
            "image/png": "[encoded data removed]",
            "text/plain": [
              "<Figure size 432x288 with 1 Axes>"
            ]
          },
          "metadata": {
            "tags": [],
            "needs_background": "light"
          }
        }
      ]
    },
    {
      "cell_type": "code",
      "metadata": {
        "id": "_if9cjvL2IDS"
      },
      "source": [
        "tiny_data = filtered_data.sample(n=25_000, random_state=9034)"
      ],
      "execution_count": null,
      "outputs": []
    },
    {
      "cell_type": "code",
      "metadata": {
        "id": "_Kx94fqE2IDS"
      },
      "source": [
        "tiny_data.to_csv(\"./data/news_simple_25k.csv\", columns=simple_cols, index=False)"
      ],
      "execution_count": null,
      "outputs": []
    },
    {
      "cell_type": "code",
      "metadata": {
        "id": "kKpDXMPJ2IDT"
      },
      "source": [
        "tiny_data.to_csv(\"./data/news_wkta_25k.csv\", index=False)"
      ],
      "execution_count": null,
      "outputs": []
    },
    {
      "cell_type": "code",
      "metadata": {
        "id": "D2OPQF9F2IDT"
      },
      "source": [
        "smaller_data = filtered_data.sample(n=50_000, random_state=9034)"
      ],
      "execution_count": null,
      "outputs": []
    },
    {
      "cell_type": "code",
      "metadata": {
        "id": "3UjALiS_2IDT"
      },
      "source": [
        "smaller_data.to_csv(\"./data/news_simple_50k.csv\", columns=simple_cols, index=False)"
      ],
      "execution_count": null,
      "outputs": []
    },
    {
      "cell_type": "code",
      "metadata": {
        "id": "IciJstcp2IDT"
      },
      "source": [
        "smaller_data.to_csv(\"./data/news_wkta_50k.csv\", index=False)"
      ],
      "execution_count": null,
      "outputs": []
    },
    {
      "cell_type": "code",
      "metadata": {
        "id": "OhHiLSo82IDT"
      },
      "source": [
        "small_data = filtered_data.sample(n=100_000, random_state=9034)"
      ],
      "execution_count": null,
      "outputs": []
    },
    {
      "cell_type": "code",
      "metadata": {
        "id": "UZPTnoge2IDT"
      },
      "source": [
        "small_data.to_csv(\"./data/news_simple_100k.csv\", columns=simple_cols, index=False)"
      ],
      "execution_count": null,
      "outputs": []
    },
    {
      "cell_type": "code",
      "metadata": {
        "id": "hd_0iQKk2IDT"
      },
      "source": [
        "small_data.to_csv(\"./data/news_wkta_100k.csv\", index=False)"
      ],
      "execution_count": null,
      "outputs": []
    },
    {
      "cell_type": "code",
      "metadata": {
        "id": "ODxwZ1X_2IDT"
      },
      "source": [
        "import sys\n",
        "original_stdout = sys.stdout # Save a reference to the original standard output\n",
        "with open('./data/metadata_counts.txt', 'w') as f:\n",
        "    sys.stdout = f # Change the standard output to the file we created.\n",
        "    print(counts_keywords, counts_tags, counts_authors, sep=\"\\n\")\n",
        "    sys.stdout = original_stdout # Reset the standard output to its original value"
      ],
      "execution_count": null,
      "outputs": []
    },
    {
      "cell_type": "code",
      "metadata": {
        "id": "EkzFUXYQ2IDT"
      },
      "source": [
        ""
      ],
      "execution_count": null,
      "outputs": []
    }
  ]
}