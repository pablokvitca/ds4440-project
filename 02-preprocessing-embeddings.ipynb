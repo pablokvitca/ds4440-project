{
 "cells": [
  {
   "cell_type": "markdown",
   "metadata": {},
   "source": [
    "# Preprocessing Step"
   ]
  },
  {
   "cell_type": "code",
   "execution_count": null,
   "metadata": {},
   "outputs": [],
   "source": [
    "import pandas as pd\n",
    "import numpy as np"
   ]
  },
  {
   "cell_type": "code",
   "execution_count": 2,
   "metadata": {},
   "outputs": [],
   "source": [
    "data_path_small = \"./data/news_wkta_100k.csv.zip\"\n",
    "data_path_smaller = \"./data/news_wkta_50k.csv.zip\"\n",
    "data_path_tiny = \"./data/news_wkta_25k.csv.zip\""
   ]
  },
  {
   "cell_type": "code",
   "execution_count": 3,
   "metadata": {},
   "outputs": [],
   "source": [
    "data_small = pd.read_csv(data_path_small, encoding=\"utf-8\", quotechar='\"', engine=\"c\", error_bad_lines=False, warn_bad_lines=True)"
   ]
  },
  {
   "cell_type": "code",
   "execution_count": 4,
   "metadata": {},
   "outputs": [],
   "source": [
    "data_smaller = pd.read_csv(data_path_smaller, encoding=\"utf-8\", quotechar='\"', engine=\"c\", error_bad_lines=False, warn_bad_lines=True)"
   ]
  },
  {
   "cell_type": "code",
   "execution_count": 5,
   "metadata": {},
   "outputs": [],
   "source": [
    "data_tiny = pd.read_csv(data_path_tiny, encoding=\"utf-8\", quotechar='\"', engine=\"c\", error_bad_lines=False, warn_bad_lines=True)"
   ]
  },
  {
   "cell_type": "code",
   "execution_count": 6,
   "metadata": {},
   "outputs": [],
   "source": [
    "def clean_join_text_cols(df, col_a, col_b, out_col):\n",
    "    def clean_text_col(d):\n",
    "        return \" \\n \".join(d.splitlines())\n",
    "    df[out_col] = df[[col_a, col_b]].apply(lambda r: clean_text_col(r[col_a]) + \" <ENDTITLE> \\n \" + clean_text_col(r[col_b]), axis=1)"
   ]
  },
  {
   "cell_type": "code",
   "execution_count": 7,
   "metadata": {},
   "outputs": [],
   "source": [
    "clean_join_text_cols(data_small, \"title\", \"content\", \"title_content\")"
   ]
  },
  {
   "cell_type": "code",
   "execution_count": 8,
   "metadata": {},
   "outputs": [],
   "source": [
    "data_small[\"content_length\"] = data_small.content.apply(lambda d: len(d.split()))\n",
    "data_small[\"title_length\"] = data_small.title.apply(lambda d: len(d.split()))"
   ]
  },
  {
   "cell_type": "code",
   "execution_count": 9,
   "metadata": {},
   "outputs": [],
   "source": [
    "clean_join_text_cols(data_smaller, \"title\", \"content\", \"title_content\")"
   ]
  },
  {
   "cell_type": "code",
   "execution_count": 10,
   "metadata": {},
   "outputs": [],
   "source": [
    "data_smaller[\"content_length\"] = data_smaller.content.apply(lambda d: len(d.split()))\n",
    "data_smaller[\"title_length\"] = data_smaller.title.apply(lambda d: len(d.split()))"
   ]
  },
  {
   "cell_type": "code",
   "execution_count": 11,
   "metadata": {},
   "outputs": [],
   "source": [
    "clean_join_text_cols(data_tiny, \"title\", \"content\", \"title_content\")"
   ]
  },
  {
   "cell_type": "code",
   "execution_count": 12,
   "metadata": {},
   "outputs": [],
   "source": [
    "data_tiny[\"content_length\"] = data_tiny.content.apply(lambda d: len(d.split()))\n",
    "data_tiny[\"title_length\"] = data_tiny.title.apply(lambda d: len(d.split()))"
   ]
  },
  {
   "cell_type": "code",
   "execution_count": 13,
   "metadata": {},
   "outputs": [
    {
     "data": {
      "text/plain": [
       "political     22474\n",
       "bias           1309\n",
       "conspiracy      561\n",
       "junksci         216\n",
       "clickbait       170\n",
       "unknown         137\n",
       "satire           79\n",
       "unreliable       51\n",
       "fake              3\n",
       "Name: type, dtype: int64"
      ]
     },
     "execution_count": 13,
     "metadata": {},
     "output_type": "execute_result"
    }
   ],
   "source": [
    "data_tiny.type.value_counts()"
   ]
  },
  {
   "cell_type": "code",
   "execution_count": 16,
   "metadata": {},
   "outputs": [
    {
     "data": {
      "text/plain": [
       "0    23920\n",
       "1     1080\n",
       "Name: fake, dtype: int64"
      ]
     },
     "execution_count": 16,
     "metadata": {},
     "output_type": "execute_result"
    }
   ],
   "source": [
    "data_tiny.fake.value_counts()"
   ]
  },
  {
   "cell_type": "markdown",
   "metadata": {},
   "source": [
    "# KEYWORD AS EVENT CLASS"
   ]
  },
  {
   "cell_type": "code",
   "execution_count": 14,
   "metadata": {},
   "outputs": [],
   "source": [
    "def get_keyword_col_names(df, prefix=\"has_mk_\"):\n",
    "    return [col for col in df.columns if \"has_mk_\" in col]"
   ]
  },
  {
   "cell_type": "code",
   "execution_count": 15,
   "metadata": {},
   "outputs": [],
   "source": [
    "keyword_cols = get_keyword_col_names(data_tiny)"
   ]
  },
  {
   "cell_type": "code",
   "execution_count": 17,
   "metadata": {},
   "outputs": [],
   "source": [
    "# Loading metadata counts\n",
    "import ast\n",
    "from collections import Counter\n",
    "counts_keywords, counts_tags, counts_authors = None, None, None\n",
    "with open(\"./data/metadata_counts.txt\", \"r\") as f:\n",
    "    c = f.read().split(\"Counter(\")\n",
    "    counts_keywords = Counter(ast.literal_eval(c[1][:-2]))\n",
    "    counts_tags = Counter(ast.literal_eval(c[2][:-2]))\n",
    "    counts_authors = Counter(ast.literal_eval(c[3][:-2]))"
   ]
  },
  {
   "cell_type": "code",
   "execution_count": 18,
   "metadata": {},
   "outputs": [],
   "source": [
    "prefix = \"has_mk_\"\n",
    "most_common_keywords = [prefix + k[0] for k in counts_keywords.most_common(25)]"
   ]
  },
  {
   "cell_type": "code",
   "execution_count": 19,
   "metadata": {},
   "outputs": [],
   "source": [
    "def get_most_common_keyword_for_news_item(item):\n",
    "    for col in most_common_keywords:\n",
    "        if item[col] == 1:\n",
    "            return col[len(prefix):]\n",
    "    return 0"
   ]
  },
  {
   "cell_type": "code",
   "execution_count": 20,
   "metadata": {},
   "outputs": [
    {
     "data": {
      "text/plain": [
       "climate change     35367\n",
       "business           22544\n",
       "energy             16581\n",
       "health              8210\n",
       "politics            4342\n",
       "biodiversity        3772\n",
       "russia              3164\n",
       "donald trump        1745\n",
       "united states       1338\n",
       "china                776\n",
       "barack obama         737\n",
       "hillary clinton      488\n",
       "food                 265\n",
       "science              241\n",
       "economics            135\n",
       "cuba                  99\n",
       "ebola                 61\n",
       "transportation        53\n",
       "fracking              43\n",
       "coal                  24\n",
       "tips                   8\n",
       "pipelines              4\n",
       "cop21                  3\n",
       "Name: keyword, dtype: int64"
      ]
     },
     "execution_count": 20,
     "metadata": {},
     "output_type": "execute_result"
    }
   ],
   "source": [
    "data_small[\"keyword\"] = data_small.apply(get_most_common_keyword_for_news_item, axis=1)\n",
    "data_small[\"keyword\"].value_counts()"
   ]
  },
  {
   "cell_type": "code",
   "execution_count": 21,
   "metadata": {},
   "outputs": [
    {
     "data": {
      "text/plain": [
       "climate change     17678\n",
       "business           11140\n",
       "energy              8386\n",
       "health              4113\n",
       "politics            2194\n",
       "biodiversity        1938\n",
       "russia              1562\n",
       "donald trump         858\n",
       "united states        689\n",
       "china                380\n",
       "barack obama         372\n",
       "hillary clinton      235\n",
       "science              120\n",
       "food                 119\n",
       "economics             68\n",
       "cuba                  48\n",
       "transportation        27\n",
       "ebola                 25\n",
       "fracking              21\n",
       "coal                  18\n",
       "tips                   7\n",
       "pipelines              1\n",
       "cop21                  1\n",
       "Name: keyword, dtype: int64"
      ]
     },
     "execution_count": 21,
     "metadata": {},
     "output_type": "execute_result"
    }
   ],
   "source": [
    "data_smaller[\"keyword\"] = data_smaller.apply(get_most_common_keyword_for_news_item, axis=1)\n",
    "data_smaller[\"keyword\"].value_counts()"
   ]
  },
  {
   "cell_type": "code",
   "execution_count": 22,
   "metadata": {},
   "outputs": [
    {
     "data": {
      "text/plain": [
       "climate change     8829\n",
       "business           5545\n",
       "energy             4204\n",
       "health             2098\n",
       "politics           1111\n",
       "biodiversity        987\n",
       "russia              774\n",
       "donald trump        391\n",
       "united states       340\n",
       "barack obama        194\n",
       "china               188\n",
       "hillary clinton     113\n",
       "food                 59\n",
       "science              55\n",
       "economics            39\n",
       "cuba                 23\n",
       "ebola                13\n",
       "transportation       12\n",
       "fracking             11\n",
       "coal                  9\n",
       "tips                  4\n",
       "pipelines             1\n",
       "Name: keyword, dtype: int64"
      ]
     },
     "execution_count": 22,
     "metadata": {},
     "output_type": "execute_result"
    }
   ],
   "source": [
    "data_tiny[\"keyword\"] = data_tiny.apply(get_most_common_keyword_for_news_item, axis=1)\n",
    "data_tiny[\"keyword\"].value_counts()"
   ]
  },
  {
   "cell_type": "code",
   "execution_count": 32,
   "metadata": {},
   "outputs": [],
   "source": [
    "data_small.to_csv(\"./data/news_full_100k.csv\", index=False)"
   ]
  },
  {
   "cell_type": "code",
   "execution_count": 31,
   "metadata": {},
   "outputs": [],
   "source": [
    "data_smaller.to_csv(\"./data/news_full_50k.csv\", index=False)"
   ]
  },
  {
   "cell_type": "code",
   "execution_count": 30,
   "metadata": {},
   "outputs": [],
   "source": [
    "data_tiny.to_csv(\"./data/news_full_25k.csv\", index=False)"
   ]
  },
  {
   "cell_type": "markdown",
   "metadata": {},
   "source": [
    "# COMPUTATIONS FOR TEXT EMBEDDING"
   ]
  },
  {
   "cell_type": "code",
   "execution_count": 24,
   "metadata": {},
   "outputs": [],
   "source": [
    "import transformers\n",
    "from transformers import BertModel, BertTokenizer, AdamW, get_linear_schedule_with_warmup\n",
    "import torch\n",
    "\n",
    "import seaborn as sns\n",
    "import matplotlib.pyplot as plt"
   ]
  },
  {
   "cell_type": "code",
   "execution_count": 25,
   "metadata": {},
   "outputs": [],
   "source": [
    "PRE_TRAINED_MODEL_NAME = 'bert-base-cased'"
   ]
  },
  {
   "cell_type": "code",
   "execution_count": 26,
   "metadata": {},
   "outputs": [],
   "source": [
    "tokenizer = BertTokenizer.from_pretrained(PRE_TRAINED_MODEL_NAME)"
   ]
  },
  {
   "cell_type": "code",
   "execution_count": 27,
   "metadata": {},
   "outputs": [
    {
     "name": "stderr",
     "output_type": "stream",
     "text": [
      "Truncation was not explicitly activated but `max_length` is provided a specific value, please use `truncation=True` to explicitly truncate examples to max length. Defaulting to 'longest_first' truncation strategy. If you encode pairs of sequences (GLUE-style) with the tokenizer you can select this strategy more precisely by providing a specific strategy to `truncation`.\n"
     ]
    }
   ],
   "source": [
    "token_lens = []\n",
    "for txt in data_small.title_content:\n",
    "    token_lens.append(len(tokenizer.encode(txt, max_length=1024)))"
   ]
  },
  {
   "cell_type": "code",
   "execution_count": 28,
   "metadata": {},
   "outputs": [
    {
     "name": "stderr",
     "output_type": "stream",
     "text": [
      "/Users/pablokvitca/anaconda3/envs/nn-project/lib/python3.8/site-packages/seaborn/distributions.py:2551: FutureWarning: `distplot` is a deprecated function and will be removed in a future version. Please adapt your code to use either `displot` (a figure-level function with similar flexibility) or `histplot` (an axes-level function for histograms).\n",
      "  warnings.warn(msg, FutureWarning)\n"
     ]
    },
    {
     "data": {
      "image/png": "[encoded data removed]",
      "text/plain": [
       "<Figure size 432x288 with 1 Axes>"
      ]
     },
     "metadata": {
      "needs_background": "light"
     },
     "output_type": "display_data"
    }
   ],
   "source": [
    "sns.distplot(token_lens)\n",
    "plt.xlim([0, 1024]);\n",
    "plt.xlabel('Token count');"
   ]
  },
  {
   "cell_type": "code",
   "execution_count": 29,
   "metadata": {},
   "outputs": [],
   "source": [
    "MAX_LENGTH = 128"
   ]
  },
  {
   "cell_type": "code",
   "execution_count": null,
   "metadata": {},
   "outputs": [],
   "source": []
  }
 ],
 "metadata": {
  "kernelspec": {
   "display_name": "Python 3",
   "language": "python",
   "name": "python3"
  },
  "language_info": {
   "codemirror_mode": {
    "name": "ipython",
    "version": 3
   },
   "file_extension": ".py",
   "mimetype": "text/x-python",
   "name": "python",
   "nbconvert_exporter": "python",
   "pygments_lexer": "ipython3",
   "version": "3.8.5"
  }
 },
 "nbformat": 4,
 "nbformat_minor": 4
}
