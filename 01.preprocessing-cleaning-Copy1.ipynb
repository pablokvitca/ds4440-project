{
 "cells": [
  {
   "cell_type": "code",
   "execution_count": 1,
   "metadata": {},
   "outputs": [],
   "source": [
    "# %load_ext autoreload\n",
    "# %autoreload 2\n",
    "import pandas as pd\n",
    "import numpy as np\n",
    "import ast\n",
    "from collections import Counter\n",
    "# from pandarallel import pandarallel\n",
    "import time\n",
    "import math"
   ]
  },
  {
   "cell_type": "code",
   "execution_count": 2,
   "metadata": {},
   "outputs": [],
   "source": [
    "# pandarallel.initialize(nb_workers=8, progress_bar=True, use_memory_fs=False)"
   ]
  },
  {
   "cell_type": "code",
   "execution_count": 3,
   "metadata": {},
   "outputs": [],
   "source": [
    "# Data path\n",
    "path = \"./data/news_cleaned.csv\""
   ]
  },
  {
   "cell_type": "code",
   "execution_count": 4,
   "metadata": {},
   "outputs": [],
   "source": [
    "cols = [\n",
    " # '',\n",
    " # 'id',\n",
    " 'domain',\n",
    " 'type',\n",
    " # 'url',\n",
    " 'content',\n",
    " # 'scraped_at',\n",
    " # 'inserted_at',\n",
    " 'updated_at',\n",
    " 'title',\n",
    " 'authors',\n",
    " # 'keywords',\n",
    " 'meta_keywords',\n",
    " # 'meta_description',\n",
    " 'tags',\n",
    " # 'summary',\n",
    " # 'source'\n",
    "]"
   ]
  },
  {
   "cell_type": "code",
   "execution_count": 5,
   "metadata": {},
   "outputs": [],
   "source": [
    "coltypes = {\n",
    " # '': np.int32,\n",
    " # 'id': np.int32,\n",
    " 'domain': np.str,\n",
    " 'type': np.str,\n",
    " # 'url': np.str,\n",
    " 'content': np.str,\n",
    " # 'scraped_at': np.str,\n",
    " # 'inserted_at': np.str,\n",
    " # 'updated_at': np.str,\n",
    " 'title': np.str,\n",
    " 'authors': np.str,\n",
    " # 'keywords': np.str,\n",
    " 'meta_keywords': np.str,\n",
    " # 'meta_description': np.str,\n",
    " 'tags': np.str,\n",
    " # 'summary': np.str,\n",
    " # 'source': np.str\n",
    "}"
   ]
  },
  {
   "cell_type": "code",
   "execution_count": 6,
   "metadata": {},
   "outputs": [
    {
     "name": "stderr",
     "output_type": "stream",
     "text": [
      "/Users/pablokvitca/anaconda3/envs/nn-project/lib/python3.8/site-packages/IPython/core/interactiveshell.py:3146: DtypeWarning: Columns (8) have mixed types.Specify dtype option on import or set low_memory=False.\n",
      "  has_raised = await self.run_ast_nodes(code_ast.body, cell_name,\n"
     ]
    }
   ],
   "source": [
    "data = pd.read_csv(path, nrows=5_000_000, low_memory=True, memory_map=True, encoding=\"utf-8\", quotechar='\"', engine=\"c\", usecols=cols, dtype=coltypes, error_bad_lines=False, warn_bad_lines=True)"
   ]
  },
  {
   "cell_type": "code",
   "execution_count": 7,
   "metadata": {},
   "outputs": [
    {
     "data": {
      "text/plain": [
       "(5000000, 8)"
      ]
     },
     "execution_count": 7,
     "metadata": {},
     "output_type": "execute_result"
    }
   ],
   "source": [
    "data.shape"
   ]
  },
  {
   "cell_type": "code",
   "execution_count": 8,
   "metadata": {},
   "outputs": [
    {
     "data": {
      "text/plain": [
       "political                     1421133\n",
       "bias                           446692\n",
       "conspiracy                     310923\n",
       "fake                           246376\n",
       "2018-02-07 23:39:33.852696     233205\n",
       "unreliable                     227298\n",
       "rumor                          185249\n",
       "clickbait                      141034\n",
       "unknown                        103485\n",
       "junksci                         59010\n",
       "satire                          55674\n",
       "hate                            53221\n",
       "2018-02-02 01:19:41.756664      34838\n",
       "reliable                        15947\n",
       "2017-11-10T11:18:44.524042      14065\n",
       "Name: type, dtype: int64"
      ]
     },
     "execution_count": 8,
     "metadata": {},
     "output_type": "execute_result"
    }
   ],
   "source": [
    "data[\"type\"].value_counts()"
   ]
  },
  {
   "cell_type": "code",
   "execution_count": 9,
   "metadata": {},
   "outputs": [
    {
     "data": {
      "text/html": [
       "<div>\n",
       "<style scoped>\n",
       "    .dataframe tbody tr th:only-of-type {\n",
       "        vertical-align: middle;\n",
       "    }\n",
       "\n",
       "    .dataframe tbody tr th {\n",
       "        vertical-align: top;\n",
       "    }\n",
       "\n",
       "    .dataframe thead th {\n",
       "        text-align: right;\n",
       "    }\n",
       "</style>\n",
       "<table border=\"1\" class=\"dataframe\">\n",
       "  <thead>\n",
       "    <tr style=\"text-align: right;\">\n",
       "      <th></th>\n",
       "      <th>domain</th>\n",
       "      <th>type</th>\n",
       "      <th>content</th>\n",
       "      <th>updated_at</th>\n",
       "      <th>title</th>\n",
       "      <th>authors</th>\n",
       "      <th>meta_keywords</th>\n",
       "      <th>tags</th>\n",
       "    </tr>\n",
       "  </thead>\n",
       "  <tbody>\n",
       "    <tr>\n",
       "      <th>count</th>\n",
       "      <td>3771345</td>\n",
       "      <td>3548150</td>\n",
       "      <td>3503302</td>\n",
       "      <td>3757280</td>\n",
       "      <td>3480082</td>\n",
       "      <td>2245762</td>\n",
       "      <td>3489237</td>\n",
       "      <td>1010156</td>\n",
       "    </tr>\n",
       "    <tr>\n",
       "      <th>unique</th>\n",
       "      <td>497</td>\n",
       "      <td>15</td>\n",
       "      <td>1931296</td>\n",
       "      <td>12</td>\n",
       "      <td>2231857</td>\n",
       "      <td>211015</td>\n",
       "      <td>410806</td>\n",
       "      <td>523847</td>\n",
       "    </tr>\n",
       "    <tr>\n",
       "      <th>top</th>\n",
       "      <td>ecowatch.com</td>\n",
       "      <td>political</td>\n",
       "      <td>Cowry Collective members participate in a time...</td>\n",
       "      <td>2018-02-07 23:39:33.852696</td>\n",
       "      <td>Is Palm Oil Explosion Driving Ebola Outbreak?</td>\n",
       "      <td>Backgroundurl Avatar_Large, Nickname, Joined, ...</td>\n",
       "      <td>['']</td>\n",
       "      <td>View Tags</td>\n",
       "    </tr>\n",
       "    <tr>\n",
       "      <th>freq</th>\n",
       "      <td>746529</td>\n",
       "      <td>1421133</td>\n",
       "      <td>285230</td>\n",
       "      <td>2091105</td>\n",
       "      <td>32763</td>\n",
       "      <td>224948</td>\n",
       "      <td>2210754</td>\n",
       "      <td>163065</td>\n",
       "    </tr>\n",
       "  </tbody>\n",
       "</table>\n",
       "</div>"
      ],
      "text/plain": [
       "              domain       type  \\\n",
       "count        3771345    3548150   \n",
       "unique           497         15   \n",
       "top     ecowatch.com  political   \n",
       "freq          746529    1421133   \n",
       "\n",
       "                                                  content  \\\n",
       "count                                             3503302   \n",
       "unique                                            1931296   \n",
       "top     Cowry Collective members participate in a time...   \n",
       "freq                                               285230   \n",
       "\n",
       "                        updated_at  \\\n",
       "count                      3757280   \n",
       "unique                          12   \n",
       "top     2018-02-07 23:39:33.852696   \n",
       "freq                       2091105   \n",
       "\n",
       "                                                title  \\\n",
       "count                                         3480082   \n",
       "unique                                        2231857   \n",
       "top     Is Palm Oil Explosion Driving Ebola Outbreak?   \n",
       "freq                                            32763   \n",
       "\n",
       "                                                  authors meta_keywords  \\\n",
       "count                                             2245762       3489237   \n",
       "unique                                             211015        410806   \n",
       "top     Backgroundurl Avatar_Large, Nickname, Joined, ...          ['']   \n",
       "freq                                               224948       2210754   \n",
       "\n",
       "             tags  \n",
       "count     1010156  \n",
       "unique     523847  \n",
       "top     View Tags  \n",
       "freq       163065  "
      ]
     },
     "execution_count": 9,
     "metadata": {},
     "output_type": "execute_result"
    }
   ],
   "source": [
    "data.describe()"
   ]
  },
  {
   "cell_type": "code",
   "execution_count": 10,
   "metadata": {},
   "outputs": [],
   "source": [
    "data.drop(data[data.type == \"2018-02-07 23:39:33.852696\"].index, inplace=True)\n",
    "data.drop(data[data.type == \"2018-02-02 01:19:41.756664\"].index, inplace=True)\n",
    "data.drop(data[data.type == \"2017-11-10T11:18:44.524042\"].index, inplace=True)"
   ]
  },
  {
   "cell_type": "code",
   "execution_count": 11,
   "metadata": {},
   "outputs": [
    {
     "data": {
      "text/html": [
       "<div>\n",
       "<style scoped>\n",
       "    .dataframe tbody tr th:only-of-type {\n",
       "        vertical-align: middle;\n",
       "    }\n",
       "\n",
       "    .dataframe tbody tr th {\n",
       "        vertical-align: top;\n",
       "    }\n",
       "\n",
       "    .dataframe thead th {\n",
       "        text-align: right;\n",
       "    }\n",
       "</style>\n",
       "<table border=\"1\" class=\"dataframe\">\n",
       "  <thead>\n",
       "    <tr style=\"text-align: right;\">\n",
       "      <th></th>\n",
       "      <th>domain</th>\n",
       "      <th>type</th>\n",
       "      <th>content</th>\n",
       "      <th>updated_at</th>\n",
       "      <th>title</th>\n",
       "      <th>authors</th>\n",
       "      <th>meta_keywords</th>\n",
       "      <th>tags</th>\n",
       "    </tr>\n",
       "  </thead>\n",
       "  <tbody>\n",
       "    <tr>\n",
       "      <th>count</th>\n",
       "      <td>3489237</td>\n",
       "      <td>3266042</td>\n",
       "      <td>3489237</td>\n",
       "      <td>3489237</td>\n",
       "      <td>3466017</td>\n",
       "      <td>2231697</td>\n",
       "      <td>3489237</td>\n",
       "      <td>1010156</td>\n",
       "    </tr>\n",
       "    <tr>\n",
       "      <th>unique</th>\n",
       "      <td>494</td>\n",
       "      <td>12</td>\n",
       "      <td>1931295</td>\n",
       "      <td>2</td>\n",
       "      <td>2231856</td>\n",
       "      <td>211014</td>\n",
       "      <td>410806</td>\n",
       "      <td>523847</td>\n",
       "    </tr>\n",
       "    <tr>\n",
       "      <th>top</th>\n",
       "      <td>ecowatch.com</td>\n",
       "      <td>political</td>\n",
       "      <td>Cowry Collective members participate in a time...</td>\n",
       "      <td>2018-02-07 23:39:33.852696</td>\n",
       "      <td>Is Palm Oil Explosion Driving Ebola Outbreak?</td>\n",
       "      <td>Backgroundurl Avatar_Large, Nickname, Joined, ...</td>\n",
       "      <td>['']</td>\n",
       "      <td>View Tags</td>\n",
       "    </tr>\n",
       "    <tr>\n",
       "      <th>freq</th>\n",
       "      <td>746529</td>\n",
       "      <td>1421133</td>\n",
       "      <td>285230</td>\n",
       "      <td>2091105</td>\n",
       "      <td>32763</td>\n",
       "      <td>224948</td>\n",
       "      <td>2210754</td>\n",
       "      <td>163065</td>\n",
       "    </tr>\n",
       "  </tbody>\n",
       "</table>\n",
       "</div>"
      ],
      "text/plain": [
       "              domain       type  \\\n",
       "count        3489237    3266042   \n",
       "unique           494         12   \n",
       "top     ecowatch.com  political   \n",
       "freq          746529    1421133   \n",
       "\n",
       "                                                  content  \\\n",
       "count                                             3489237   \n",
       "unique                                            1931295   \n",
       "top     Cowry Collective members participate in a time...   \n",
       "freq                                               285230   \n",
       "\n",
       "                        updated_at  \\\n",
       "count                      3489237   \n",
       "unique                           2   \n",
       "top     2018-02-07 23:39:33.852696   \n",
       "freq                       2091105   \n",
       "\n",
       "                                                title  \\\n",
       "count                                         3466017   \n",
       "unique                                        2231856   \n",
       "top     Is Palm Oil Explosion Driving Ebola Outbreak?   \n",
       "freq                                            32763   \n",
       "\n",
       "                                                  authors meta_keywords  \\\n",
       "count                                             2231697       3489237   \n",
       "unique                                             211014        410806   \n",
       "top     Backgroundurl Avatar_Large, Nickname, Joined, ...          ['']   \n",
       "freq                                               224948       2210754   \n",
       "\n",
       "             tags  \n",
       "count     1010156  \n",
       "unique     523847  \n",
       "top     View Tags  \n",
       "freq       163065  "
      ]
     },
     "execution_count": 11,
     "metadata": {},
     "output_type": "execute_result"
    }
   ],
   "source": [
    "data.describe()"
   ]
  },
  {
   "cell_type": "code",
   "execution_count": 12,
   "metadata": {},
   "outputs": [
    {
     "data": {
      "text/plain": [
       "(4717892, 8)"
      ]
     },
     "execution_count": 12,
     "metadata": {},
     "output_type": "execute_result"
    }
   ],
   "source": [
    "data.shape"
   ]
  },
  {
   "cell_type": "code",
   "execution_count": 13,
   "metadata": {},
   "outputs": [
    {
     "data": {
      "text/plain": [
       "count       3266042\n",
       "unique           12\n",
       "top       political\n",
       "freq        1421133\n",
       "Name: type, dtype: object"
      ]
     },
     "execution_count": 13,
     "metadata": {},
     "output_type": "execute_result"
    }
   ],
   "source": [
    "data.type.describe()"
   ]
  },
  {
   "cell_type": "code",
   "execution_count": 14,
   "metadata": {},
   "outputs": [
    {
     "data": {
      "text/plain": [
       "political     1421133\n",
       "bias           446692\n",
       "conspiracy     310923\n",
       "fake           246376\n",
       "unreliable     227298\n",
       "rumor          185249\n",
       "clickbait      141034\n",
       "unknown        103485\n",
       "junksci         59010\n",
       "satire          55674\n",
       "hate            53221\n",
       "reliable        15947\n",
       "Name: type, dtype: int64"
      ]
     },
     "execution_count": 14,
     "metadata": {},
     "output_type": "execute_result"
    }
   ],
   "source": [
    "data.type.value_counts()"
   ]
  },
  {
   "cell_type": "code",
   "execution_count": 15,
   "metadata": {},
   "outputs": [],
   "source": [
    "def get_all_unique_from_list_col(df, col, f):\n",
    "    l = set()\n",
    "    for u in df[col].unique():\n",
    "        if type(u) == str:\n",
    "            l.update(f(u))\n",
    "    return l\n",
    "\n",
    "all_keywords = get_all_unique_from_list_col(data, \"meta_keywords\", ast.literal_eval)\n",
    "all_tags = get_all_unique_from_list_col(data, \"tags\", lambda x: x.split(\", \"))\n",
    "all_authors = get_all_unique_from_list_col(data, \"authors\", lambda x: x.split(\", \"))"
   ]
  },
  {
   "cell_type": "code",
   "execution_count": 16,
   "metadata": {},
   "outputs": [
    {
     "name": "stdout",
     "output_type": "stream",
     "text": [
      "Total keywords: 432375\n",
      "Total tags: 469962\n",
      "Total authors: 141914\n"
     ]
    }
   ],
   "source": [
    "print(\"Total keywords:\", len(all_keywords))\n",
    "print(\"Total tags:\", len(all_tags))\n",
    "print(\"Total authors:\", len(all_authors))"
   ]
  },
  {
   "cell_type": "code",
   "execution_count": 21,
   "metadata": {},
   "outputs": [],
   "source": [
    "counts_keywords = Counter()\n",
    "for row in data[\"meta_keywords\"]:\n",
    "    if type(row) == str:\n",
    "        counts_keywords.update(ast.literal_eval(row.lower()))"
   ]
  },
  {
   "cell_type": "code",
   "execution_count": 22,
   "metadata": {},
   "outputs": [],
   "source": [
    "non_relevant_keywords = [\"\", \"featured\", \"featured-home\"]\n",
    "for nrk in non_relevant_keywords:\n",
    "    del counts_keywords[nrk]"
   ]
  },
  {
   "cell_type": "code",
   "execution_count": 23,
   "metadata": {
    "scrolled": true
   },
   "outputs": [
    {
     "data": {
      "text/plain": [
       "[('climate change', 313727),\n",
       " ('business', 258123),\n",
       " ('energy', 220365),\n",
       " ('renewables', 192477),\n",
       " ('health', 105349),\n",
       " ('food', 100328),\n",
       " ('biodiversity', 98606),\n",
       " ('sustainable business', 97040),\n",
       " ('coal', 75628),\n",
       " ('fracking', 74660),\n",
       " ('politics', 73086),\n",
       " ('science', 66711),\n",
       " ('china', 42220),\n",
       " ('ebola', 33690),\n",
       " ('cuba', 33528),\n",
       " ('cop21', 32877),\n",
       " ('pipelines', 32852),\n",
       " ('russia', 32836),\n",
       " ('tips', 32300),\n",
       " ('transportation', 31966),\n",
       " ('donald trump', 26632),\n",
       " ('united states', 23972),\n",
       " ('barack obama', 20173),\n",
       " ('hillary clinton', 17902),\n",
       " ('economics', 17598),\n",
       " ('news', 15564),\n",
       " ('big government', 14772),\n",
       " ('finance', 14703),\n",
       " ('markets', 14647),\n",
       " ('analysis', 14429),\n",
       " ('zerohedge', 14215),\n",
       " ('zero hedge', 14210),\n",
       " ('wikileaks', 12538),\n",
       " ('syria', 12478),\n",
       " ('world', 12245),\n",
       " ('vdare.com', 11642),\n",
       " ('national security', 10905),\n",
       " ('the onion', 10163),\n",
       " ('media', 9834),\n",
       " ('ohio', 9492),\n",
       " ('white house', 9176),\n",
       " ('bernie sanders', 8878),\n",
       " ('natural medicine', 8797),\n",
       " ('functional medicine', 8664),\n",
       " ('complementary medicine', 8664),\n",
       " ('alternative toxicology', 8653),\n",
       " ('evidence-based medicine', 8652),\n",
       " ('integrative health', 8650),\n",
       " ('alternative meds', 8650),\n",
       " ('independent health news', 8650),\n",
       " ('natural healath resource', 8650),\n",
       " ('submissions', 8514),\n",
       " ('media kit', 8485),\n",
       " ('congressional research service', 8363),\n",
       " ('msnbc', 8142),\n",
       " ('ukraine', 8078),\n",
       " ('congress', 8000),\n",
       " ('iran', 6997),\n",
       " ('blog', 6972),\n",
       " ('obama', 6776),\n",
       " ('immigration', 6680),\n",
       " ('liberal', 6620),\n",
       " ('economy', 6503),\n",
       " ('sarah jones', 6355),\n",
       " ('politicususa', 6354),\n",
       " ('jason easley', 6354),\n",
       " ('germany', 5563),\n",
       " ('iraq', 5562),\n",
       " ('government', 5443),\n",
       " ('health news', 5433),\n",
       " ('turkey', 5419),\n",
       " ('obamacare', 5411),\n",
       " ('terrorism', 5370),\n",
       " ('opinion', 5361),\n",
       " ('israel', 5077),\n",
       " ('daesh', 5064),\n",
       " ('france', 5059),\n",
       " ('article', 4941),\n",
       " ('vladimir putin', 4892),\n",
       " ('united kingdom', 4821),\n",
       " ('us', 4754),\n",
       " ('senate', 4721),\n",
       " ('twitter', 4706),\n",
       " ('europe', 4603),\n",
       " ('european union', 4592),\n",
       " ('middle east', 4537),\n",
       " ('washington', 4447),\n",
       " ('books and arts', 4428),\n",
       " ('isis', 4348),\n",
       " ('trump', 4339),\n",
       " ('2016 presidential race', 4289),\n",
       " ('breitbart london', 4181),\n",
       " ('japan', 4095),\n",
       " ('republican party', 3920),\n",
       " ('breitbart texas', 3670),\n",
       " ('big hollywood', 3656),\n",
       " ('debt', 3647),\n",
       " ('afghanistan', 3646),\n",
       " ('environment', 3641),\n",
       " ('nato', 3572)]"
      ]
     },
     "execution_count": 23,
     "metadata": {},
     "output_type": "execute_result"
    }
   ],
   "source": [
    "counts_keywords.most_common(100)"
   ]
  },
  {
   "cell_type": "code",
   "execution_count": 24,
   "metadata": {},
   "outputs": [],
   "source": [
    "counts_tags = Counter()\n",
    "for row in data[\"tags\"]:\n",
    "    if type(row) == str:\n",
    "        counts_tags.update([s.strip() for s in row.lower().split(\", \")])"
   ]
  },
  {
   "cell_type": "code",
   "execution_count": 25,
   "metadata": {},
   "outputs": [],
   "source": [
    "non_relevant_tags = [\n",
    "    \"view tags\", \n",
    "    \"next\", \n",
    "    \"4062 followers duggar family\", \n",
    "    \"3756 followers sylvester stallone\", \n",
    "    \"view non-amp version\", \n",
    "    \"1\",\n",
    "    \"4217 followers dragon ball super\",\n",
    "    \"2\",\n",
    "    ]\n",
    "for nrt in non_relevant_tags:\n",
    "    del counts_tags[nrt]"
   ]
  },
  {
   "cell_type": "code",
   "execution_count": 26,
   "metadata": {
    "scrolled": true
   },
   "outputs": [
    {
     "data": {
      "text/plain": [
       "[('russia', 65416),\n",
       " ('donald trump', 60004),\n",
       " ('hillary clinton', 42836),\n",
       " ('syria', 35145),\n",
       " ('9/11 articles', 31523),\n",
       " ('race/crime articles', 31523),\n",
       " ('american pravda articles', 31523),\n",
       " ('race/iq articles', 31523),\n",
       " ('israel', 31399),\n",
       " ('libya', 30813),\n",
       " ('united states', 30101),\n",
       " ('immigration', 29121),\n",
       " ('politics', 28905),\n",
       " ('barack obama', 25986),\n",
       " ('trump', 25812),\n",
       " ('obama', 24607),\n",
       " ('isis', 24055),\n",
       " ('europe', 23574),\n",
       " ('iran', 23016),\n",
       " ('china', 22821),\n",
       " ('cia', 22379),\n",
       " ('benghazi', 22064),\n",
       " ('children', 21172),\n",
       " ('terrorism', 20555),\n",
       " ('islam', 20424),\n",
       " ('north korea', 19914),\n",
       " ('irs', 19148),\n",
       " ('epa', 18967),\n",
       " ('iraq', 18534),\n",
       " ('school', 17817),\n",
       " ('transportation', 17659),\n",
       " ('financial disclosure', 17637),\n",
       " ('hillary clinton email scandal', 17531),\n",
       " ('trump administration', 17399),\n",
       " ('religion', 17373),\n",
       " ('irs docs', 17369),\n",
       " ('ukraine', 17339),\n",
       " ('turkey', 17327),\n",
       " ('retirement', 17115),\n",
       " ('foia', 17001),\n",
       " ('vanguard', 16725),\n",
       " ('middle east', 16680),\n",
       " ('india', 16647),\n",
       " ('mutual', 16281),\n",
       " ('nato', 16226),\n",
       " ('judge', 15970),\n",
       " ('economy', 15374),\n",
       " ('war', 15266),\n",
       " ('south africa', 15110),\n",
       " ('radical jihad', 15028),\n",
       " ('news', 14892),\n",
       " ('saudi arabia', 14586),\n",
       " ('germany', 14457),\n",
       " ('income', 13933),\n",
       " ('obamacare', 13799),\n",
       " ('afghanistan', 13708),\n",
       " ('financial', 13626),\n",
       " ('france', 13488),\n",
       " ('climate change', 13400),\n",
       " ('energy', 13336),\n",
       " ('gun control', 13172),\n",
       " ('crime', 13162),\n",
       " ('gun rights', 13043),\n",
       " ('japan', 12851),\n",
       " ('charlie hebdo', 12780),\n",
       " ('science', 12751),\n",
       " ('isis/islamic state', 12483),\n",
       " ('eu', 12292),\n",
       " ('taxes', 12166),\n",
       " ('twitter', 11981),\n",
       " ('military', 11979),\n",
       " ('fbi', 11699),\n",
       " ('africa', 11528),\n",
       " ('yemen', 11423),\n",
       " ('congress', 11357),\n",
       " ('nsa', 11076),\n",
       " ('government', 10964),\n",
       " ('family', 10862),\n",
       " ('brexit', 10859),\n",
       " ('wikileaks', 10753),\n",
       " ('health', 10738),\n",
       " ('egypt', 10679),\n",
       " ('canada', 10604),\n",
       " ('voter fraud', 10469),\n",
       " ('impeachment', 10381),\n",
       " ('ann coulter', 10251),\n",
       " ('hollywood', 10233),\n",
       " ('common core', 10217),\n",
       " ('baltimore riots', 10171),\n",
       " ('secession', 9905),\n",
       " ('war on christmas', 9879),\n",
       " ('camp of the saints', 9854),\n",
       " ('pakistan', 9846),\n",
       " ('achievement gap', 9843),\n",
       " ('national question', 9813),\n",
       " ('automation', 9765),\n",
       " ('racism', 9729),\n",
       " ('not reporting race', 9713),\n",
       " ('donald trump insurgency', 9683),\n",
       " ('diversity is strength', 9675)]"
      ]
     },
     "execution_count": 26,
     "metadata": {},
     "output_type": "execute_result"
    }
   ],
   "source": [
    "counts_tags.most_common(100)"
   ]
  },
  {
   "cell_type": "code",
   "execution_count": 27,
   "metadata": {},
   "outputs": [],
   "source": [
    "counts_authors = Counter()\n",
    "for row in data[\"authors\"]:\n",
    "    if type(row) == str:\n",
    "        counts_authors.update([s.strip() for s in row.lower().split(\", \")])"
   ]
  },
  {
   "cell_type": "code",
   "execution_count": 28,
   "metadata": {
    "scrolled": true
   },
   "outputs": [
    {
     "data": {
      "text/plain": [
       "[('lorraine chow', 746451),\n",
       " ('common dreams', 638516),\n",
       " ('guest contributor', 507058),\n",
       " ('the conversation', 384011),\n",
       " ('david leestma', 362631),\n",
       " ('yes', 285256),\n",
       " ('environmental working group', 254739),\n",
       " ('ronnie cummins', 254659),\n",
       " ('the climate reality project', 254658),\n",
       " ('sierra club', 254636),\n",
       " ('rainforest action network', 254636),\n",
       " ('backgroundurl avatar_large', 224956),\n",
       " ('nickname', 224956),\n",
       " ('joined', 224956),\n",
       " ('created_at', 224956),\n",
       " ('story count', 224956),\n",
       " ('n_stories', 224956),\n",
       " ('comment count', 224956),\n",
       " ('n_comments', 224956),\n",
       " ('popular tags', 224956),\n",
       " ('showtags popular_tags', 224948),\n",
       " ('organic consumers association', 156531),\n",
       " (\"our children's trust\", 107978),\n",
       " ('american wild horse campaign', 107975),\n",
       " ('anastasia pantsios', 101821),\n",
       " ('stefanie spear', 98031),\n",
       " ('climate nexus', 82670),\n",
       " ('daily kos', 76786),\n",
       " ('happy cog studios - http', 76783),\n",
       " ('www.happycog.com', 76783),\n",
       " ('david codrea', 70085),\n",
       " ('tom mchale', 70085),\n",
       " ('jeff knox', 70085),\n",
       " ('the', 49963),\n",
       " ('the revelator', 49938),\n",
       " ('climate group', 49922),\n",
       " ('environment america', 48615),\n",
       " ('union of concerned scientists', 48568),\n",
       " ('ilana mercer', 39983),\n",
       " ('pat buchanan', 39613),\n",
       " ('chris roberts', 39013),\n",
       " ('sinclair jenkins', 38996),\n",
       " ('guillaume durocher', 38030),\n",
       " ('natural resources defense council', 34100),\n",
       " ('cole mellino', 33010),\n",
       " ('wild bill', 32919),\n",
       " ('climate news network', 31144),\n",
       " ('blasting news', 28540),\n",
       " ('jay eimer', 24325),\n",
       " ('posted on', 23334),\n",
       " ('walter einenkel', 22648),\n",
       " ('about the author', 22308),\n",
       " ('john derbyshire', 17769),\n",
       " ('susan wright', 17666),\n",
       " ('любовь степушова', 17143),\n",
       " ('александр артамонов', 16648),\n",
       " ('айдын мехтиев', 16133),\n",
       " ('jr bailey', 15006),\n",
       " ('tom claycomb', 14968),\n",
       " ('jen hayden', 14843),\n",
       " ('руслан веснянко', 13210),\n",
       " ('shel by', 13098),\n",
       " ('leslie salzillo', 12692),\n",
       " ('анжела якубовская', 12623),\n",
       " ('the saker', 11855),\n",
       " ('александр широкорад', 11264),\n",
       " ('kenneth dowdle', 11007),\n",
       " ('karen wehrstein', 10706),\n",
       " ('ammoland editor js', 10663),\n",
       " ('ron unz', 10413),\n",
       " ('mark sumner', 10349),\n",
       " ('crashing vor', 10101),\n",
       " ('razib khan', 9995),\n",
       " ('sydney schanberg', 9765),\n",
       " ('john harrison sims', 9562),\n",
       " ('sarah rumpf', 9424),\n",
       " ('nico parungo', 9406),\n",
       " ('mike whitney', 9374),\n",
       " ('carl arbogast', 9216),\n",
       " ('the onion', 9092),\n",
       " ('el mito', 9086),\n",
       " ('egberto willies', 9041),\n",
       " ('james phibbs', 8735),\n",
       " ('view all posts', 8490),\n",
       " ('martin walsh', 8452),\n",
       " ('israel shamir', 8257),\n",
       " ('p. ghose', 8122),\n",
       " ('andrea ruth', 7823),\n",
       " ('brandon morse', 7452),\n",
       " ('http', 7377),\n",
       " ('https', 7339),\n",
       " ('kira davis', 7113),\n",
       " ('paul kersey', 6995),\n",
       " ('robert roth', 6975),\n",
       " ('goyim must die', 6928),\n",
       " ('dr. eowyn', 6836),\n",
       " ('pamela geller', 6820),\n",
       " ('joan mccarter', 6801),\n",
       " ('kerry eleveld', 6703),\n",
       " ('sexy-author-bio', 6677)]"
      ]
     },
     "execution_count": 28,
     "metadata": {},
     "output_type": "execute_result"
    }
   ],
   "source": [
    "counts_authors.most_common(100)"
   ]
  },
  {
   "cell_type": "code",
   "execution_count": 29,
   "metadata": {},
   "outputs": [],
   "source": [
    "non_relevant_authors = [\n",
    "    \"yes\", \n",
    "    \"nickname\", \n",
    "    \"joined\", \n",
    "    \"created_at\", \n",
    "    \"story count\", \n",
    "    \"n_stories\", \n",
    "    \"comment count\", \n",
    "    \"n_comments\", \n",
    "    \"popular tags\", \n",
    "    \"showtags popular_tags\", \n",
    "    \"the\",\n",
    "    \"view all posts\",\n",
    "    \"http\",\n",
    "    \"https\",\n",
    "    \"\",\n",
    "    \"background\",\n",
    "    \"ffffff\",\n",
    "    \"solid\",\n",
    "    \"border-style\",\n",
    "    \"color\",\n",
    "    \"border-color\"\n",
    "    \"border-top-width\",\n",
    "    \"border-right-width\",\n",
    "    \"about me\"\n",
    "]\n",
    "for nra in non_relevant_authors:\n",
    "    del counts_authors[nra]"
   ]
  },
  {
   "cell_type": "code",
   "execution_count": 30,
   "metadata": {},
   "outputs": [],
   "source": [
    "fake_types = [\n",
    "#     \"political\",\n",
    "    \"bias\",\n",
    "    \"conspiracy\",\n",
    "    \"fake\",\n",
    "    \"unreliable\",\n",
    "    \"rumor\",\n",
    "    \"clickbait\",\n",
    "#     \"unknown\",\n",
    "    \"junksci\",\n",
    "    \"satire\",\n",
    "    \"hate\",\n",
    "#    \"reliable\"\n",
    "]"
   ]
  },
  {
   "cell_type": "code",
   "execution_count": 31,
   "metadata": {},
   "outputs": [],
   "source": [
    "data[\"fake\"] = data.type.apply(lambda x: 1 if x in fake_types else 0)"
   ]
  },
  {
   "cell_type": "code",
   "execution_count": 32,
   "metadata": {},
   "outputs": [
    {
     "data": {
      "text/plain": [
       "0    2992415\n",
       "1    1725477\n",
       "Name: fake, dtype: int64"
      ]
     },
     "execution_count": 32,
     "metadata": {},
     "output_type": "execute_result"
    }
   ],
   "source": [
    "data[\"fake\"].value_counts()"
   ]
  },
  {
   "cell_type": "code",
   "execution_count": 33,
   "metadata": {},
   "outputs": [],
   "source": [
    "data.dropna(subset=['type', 'content', 'title', 'fake'], inplace=True)\n",
    "data.reset_index(drop=True, inplace=True)"
   ]
  },
  {
   "cell_type": "code",
   "execution_count": 40,
   "metadata": {},
   "outputs": [
    {
     "data": {
      "text/plain": [
       "(3242862, 9)"
      ]
     },
     "execution_count": 40,
     "metadata": {},
     "output_type": "execute_result"
    }
   ],
   "source": [
    "data.shape"
   ]
  },
  {
   "cell_type": "code",
   "execution_count": 41,
   "metadata": {},
   "outputs": [],
   "source": [
    "def add_metadata_as_has_col(df, col, all_metadata, prefix, cache):\n",
    "    start_time = int(time.time() * 1000)\n",
    "    n = len(all_metadata)\n",
    "        \n",
    "    print(\"Starting...\")\n",
    "    for i, metadata in enumerate(all_metadata):\n",
    "        df[prefix + metadata[0]] = df.apply(lambda row: 1 if (row.name < len(cache) and metadata[0] in cache[row.name]) else 0, axis=1)\n",
    "        print(\"Processed {} of {} metadata keys ({} ms)\".format(i + 1, n, int(time.time() * 1000) - start_time))\n",
    "    print(\"Done!\")"
   ]
  },
  {
   "cell_type": "code",
   "execution_count": 42,
   "metadata": {},
   "outputs": [],
   "source": [
    "mt = set()\n",
    "cache_keywords = [set([a for a in ast.literal_eval(d.lower()) if a not in non_relevant_keywords]) if type(d) == str else mt for d in data[\"meta_keywords\"]]\n",
    "cache_tags = [set([s.strip() for s in d.lower().split(\", \") if s.strip() not in non_relevant_tags]) if type(d) == str else mt for d in data[\"tags\"]]\n",
    "cache_authors = [set([s.strip() for s in d.lower().split(\", \") if s.strip() not in non_relevant_authors]) if type(d) == str else mt for d in data[\"authors\"]]"
   ]
  },
  {
   "cell_type": "code",
   "execution_count": 43,
   "metadata": {},
   "outputs": [
    {
     "name": "stdout",
     "output_type": "stream",
     "text": [
      "Starting...\n",
      "Processed 1 of 100 metadata keys (60662 ms)\n",
      "Processed 2 of 100 metadata keys (98319 ms)\n",
      "Processed 3 of 100 metadata keys (130334 ms)\n",
      "Processed 4 of 100 metadata keys (168962 ms)\n",
      "Processed 5 of 100 metadata keys (204308 ms)\n",
      "Processed 6 of 100 metadata keys (245835 ms)\n",
      "Processed 7 of 100 metadata keys (282222 ms)\n",
      "Processed 8 of 100 metadata keys (319330 ms)\n",
      "Processed 9 of 100 metadata keys (364577 ms)\n",
      "Processed 10 of 100 metadata keys (395164 ms)\n",
      "Processed 11 of 100 metadata keys (439795 ms)\n",
      "Processed 12 of 100 metadata keys (484615 ms)\n",
      "Processed 13 of 100 metadata keys (523519 ms)\n",
      "Processed 14 of 100 metadata keys (562242 ms)\n",
      "Processed 15 of 100 metadata keys (617430 ms)\n",
      "Processed 16 of 100 metadata keys (673128 ms)\n",
      "Processed 17 of 100 metadata keys (718015 ms)\n",
      "Processed 18 of 100 metadata keys (769898 ms)\n",
      "Processed 19 of 100 metadata keys (815237 ms)\n",
      "Processed 20 of 100 metadata keys (853849 ms)\n",
      "Processed 21 of 100 metadata keys (899966 ms)\n",
      "Processed 22 of 100 metadata keys (938149 ms)\n",
      "Processed 23 of 100 metadata keys (976482 ms)\n",
      "Processed 24 of 100 metadata keys (1025569 ms)\n",
      "Processed 25 of 100 metadata keys (1063689 ms)\n",
      "Processed 26 of 100 metadata keys (1113116 ms)\n",
      "Processed 27 of 100 metadata keys (1162348 ms)\n",
      "Processed 28 of 100 metadata keys (1218161 ms)\n",
      "Processed 29 of 100 metadata keys (1257712 ms)\n",
      "Processed 30 of 100 metadata keys (1290066 ms)\n",
      "Processed 31 of 100 metadata keys (1338754 ms)\n",
      "Processed 32 of 100 metadata keys (1381646 ms)\n",
      "Processed 33 of 100 metadata keys (1425930 ms)\n",
      "Processed 34 of 100 metadata keys (1463224 ms)\n",
      "Processed 35 of 100 metadata keys (1508434 ms)\n",
      "Processed 36 of 100 metadata keys (1547770 ms)\n",
      "Processed 37 of 100 metadata keys (1591408 ms)\n",
      "Processed 38 of 100 metadata keys (1633908 ms)\n",
      "Processed 39 of 100 metadata keys (1680330 ms)\n",
      "Processed 40 of 100 metadata keys (1715117 ms)\n",
      "Processed 41 of 100 metadata keys (1762419 ms)\n",
      "Processed 42 of 100 metadata keys (1823173 ms)\n",
      "Processed 43 of 100 metadata keys (1869815 ms)\n",
      "Processed 44 of 100 metadata keys (1929850 ms)\n",
      "Processed 45 of 100 metadata keys (1995627 ms)\n",
      "Processed 46 of 100 metadata keys (2044191 ms)\n",
      "Processed 47 of 100 metadata keys (2086767 ms)\n",
      "Processed 48 of 100 metadata keys (2140238 ms)\n",
      "Processed 49 of 100 metadata keys (2208323 ms)\n",
      "Processed 50 of 100 metadata keys (2279947 ms)\n",
      "Processed 51 of 100 metadata keys (2334886 ms)\n",
      "Processed 52 of 100 metadata keys (2379094 ms)\n",
      "Processed 53 of 100 metadata keys (2424753 ms)\n",
      "Processed 54 of 100 metadata keys (2476187 ms)\n",
      "Processed 55 of 100 metadata keys (2521344 ms)\n",
      "Processed 56 of 100 metadata keys (2567829 ms)\n",
      "Processed 57 of 100 metadata keys (2615919 ms)\n",
      "Processed 58 of 100 metadata keys (2671961 ms)\n",
      "Processed 59 of 100 metadata keys (2725521 ms)\n",
      "Processed 60 of 100 metadata keys (2773850 ms)\n",
      "Processed 61 of 100 metadata keys (2817345 ms)\n",
      "Processed 62 of 100 metadata keys (2869860 ms)\n",
      "Processed 63 of 100 metadata keys (2926477 ms)\n",
      "Processed 64 of 100 metadata keys (2976451 ms)\n",
      "Processed 65 of 100 metadata keys (3026356 ms)\n",
      "Processed 66 of 100 metadata keys (3077672 ms)\n",
      "Processed 67 of 100 metadata keys (3123572 ms)\n",
      "Processed 68 of 100 metadata keys (3171188 ms)\n",
      "Processed 69 of 100 metadata keys (3237017 ms)\n",
      "Processed 70 of 100 metadata keys (3301191 ms)\n",
      "Processed 71 of 100 metadata keys (3350347 ms)\n",
      "Processed 72 of 100 metadata keys (3410237 ms)\n",
      "Processed 73 of 100 metadata keys (3473149 ms)\n",
      "Processed 74 of 100 metadata keys (3531332 ms)\n",
      "Processed 75 of 100 metadata keys (3583876 ms)\n",
      "Processed 76 of 100 metadata keys (3638634 ms)\n",
      "Processed 77 of 100 metadata keys (3689586 ms)\n",
      "Processed 78 of 100 metadata keys (3771073 ms)\n",
      "Processed 79 of 100 metadata keys (3868839 ms)\n",
      "Processed 80 of 100 metadata keys (3954720 ms)\n",
      "Processed 81 of 100 metadata keys (4040990 ms)\n",
      "Processed 82 of 100 metadata keys (4119794 ms)\n",
      "Processed 83 of 100 metadata keys (4201866 ms)\n",
      "Processed 84 of 100 metadata keys (4277992 ms)\n",
      "Processed 85 of 100 metadata keys (4370077 ms)\n",
      "Processed 86 of 100 metadata keys (4451999 ms)\n",
      "Processed 87 of 100 metadata keys (4532131 ms)\n",
      "Processed 88 of 100 metadata keys (4633240 ms)\n",
      "Processed 89 of 100 metadata keys (4717668 ms)\n",
      "Processed 90 of 100 metadata keys (4804236 ms)\n",
      "Processed 91 of 100 metadata keys (4891029 ms)\n",
      "Processed 92 of 100 metadata keys (4977810 ms)\n",
      "Processed 93 of 100 metadata keys (5065274 ms)\n",
      "Processed 94 of 100 metadata keys (5148045 ms)\n",
      "Processed 95 of 100 metadata keys (5243847 ms)\n",
      "Processed 96 of 100 metadata keys (5342544 ms)\n",
      "Processed 97 of 100 metadata keys (5435917 ms)\n",
      "Processed 98 of 100 metadata keys (5527172 ms)\n",
      "Processed 99 of 100 metadata keys (5616234 ms)\n",
      "Processed 100 of 100 metadata keys (5718900 ms)\n",
      "Done!\n"
     ]
    }
   ],
   "source": [
    "add_metadata_as_has_col(data, \"meta_keywords\", counts_keywords.most_common(100), \"has_mk_\", cache_keywords)"
   ]
  },
  {
   "cell_type": "code",
   "execution_count": 44,
   "metadata": {
    "scrolled": true
   },
   "outputs": [
    {
     "name": "stdout",
     "output_type": "stream",
     "text": [
      "Starting...\n",
      "Processed 1 of 100 metadata keys (101443 ms)\n",
      "Processed 2 of 100 metadata keys (191164 ms)\n",
      "Processed 3 of 100 metadata keys (336666 ms)\n",
      "Processed 4 of 100 metadata keys (421266 ms)\n",
      "Processed 5 of 100 metadata keys (560434 ms)\n",
      "Processed 6 of 100 metadata keys (711760 ms)\n",
      "Processed 7 of 100 metadata keys (833028 ms)\n",
      "Processed 8 of 100 metadata keys (953682 ms)\n",
      "Processed 9 of 100 metadata keys (1080973 ms)\n",
      "Processed 10 of 100 metadata keys (1197739 ms)\n",
      "Processed 11 of 100 metadata keys (1291291 ms)\n",
      "Processed 12 of 100 metadata keys (1414676 ms)\n",
      "Processed 13 of 100 metadata keys (1518786 ms)\n",
      "Processed 14 of 100 metadata keys (1610979 ms)\n",
      "Processed 15 of 100 metadata keys (1732177 ms)\n",
      "Processed 16 of 100 metadata keys (1814636 ms)\n",
      "Processed 17 of 100 metadata keys (1899238 ms)\n",
      "Processed 18 of 100 metadata keys (1981076 ms)\n",
      "Processed 19 of 100 metadata keys (2057331 ms)\n",
      "Processed 20 of 100 metadata keys (2154641 ms)\n",
      "Processed 21 of 100 metadata keys (2234994 ms)\n",
      "Processed 22 of 100 metadata keys (2320939 ms)\n",
      "Processed 23 of 100 metadata keys (2415016 ms)\n",
      "Processed 24 of 100 metadata keys (2498252 ms)\n",
      "Processed 25 of 100 metadata keys (2585207 ms)\n",
      "Processed 26 of 100 metadata keys (2664460 ms)\n",
      "Processed 27 of 100 metadata keys (2755986 ms)\n",
      "Processed 28 of 100 metadata keys (2850278 ms)\n",
      "Processed 29 of 100 metadata keys (2934968 ms)\n",
      "Processed 30 of 100 metadata keys (3016921 ms)\n",
      "Processed 31 of 100 metadata keys (3114468 ms)\n",
      "Processed 32 of 100 metadata keys (3217614 ms)\n",
      "Processed 33 of 100 metadata keys (3332407 ms)\n",
      "Processed 34 of 100 metadata keys (3450028 ms)\n",
      "Processed 35 of 100 metadata keys (3544696 ms)\n",
      "Processed 36 of 100 metadata keys (3637730 ms)\n",
      "Processed 37 of 100 metadata keys (3742634 ms)\n",
      "Processed 38 of 100 metadata keys (3832144 ms)\n",
      "Processed 39 of 100 metadata keys (3937352 ms)\n",
      "Processed 40 of 100 metadata keys (4028680 ms)\n",
      "Processed 41 of 100 metadata keys (4118968 ms)\n",
      "Processed 42 of 100 metadata keys (4214870 ms)\n",
      "Processed 43 of 100 metadata keys (4319564 ms)\n",
      "Processed 44 of 100 metadata keys (4412693 ms)\n",
      "Processed 45 of 100 metadata keys (4506867 ms)\n",
      "Processed 46 of 100 metadata keys (4612371 ms)\n",
      "Processed 47 of 100 metadata keys (4707934 ms)\n",
      "Processed 48 of 100 metadata keys (4797631 ms)\n",
      "Processed 49 of 100 metadata keys (4884603 ms)\n",
      "Processed 50 of 100 metadata keys (4975288 ms)\n",
      "Processed 51 of 100 metadata keys (5068407 ms)\n",
      "Processed 52 of 100 metadata keys (5185765 ms)\n",
      "Processed 53 of 100 metadata keys (5275648 ms)\n",
      "Processed 54 of 100 metadata keys (5364122 ms)\n",
      "Processed 55 of 100 metadata keys (5459957 ms)\n",
      "Processed 56 of 100 metadata keys (5561949 ms)\n",
      "Processed 57 of 100 metadata keys (5655825 ms)\n",
      "Processed 58 of 100 metadata keys (5752259 ms)\n",
      "Processed 59 of 100 metadata keys (5852220 ms)\n",
      "Processed 60 of 100 metadata keys (5949831 ms)\n",
      "Processed 61 of 100 metadata keys (6067396 ms)\n",
      "Processed 62 of 100 metadata keys (6168663 ms)\n",
      "Processed 63 of 100 metadata keys (6274864 ms)\n",
      "Processed 64 of 100 metadata keys (6370649 ms)\n",
      "Processed 65 of 100 metadata keys (6482664 ms)\n",
      "Processed 66 of 100 metadata keys (6598909 ms)\n",
      "Processed 67 of 100 metadata keys (6698964 ms)\n",
      "Processed 68 of 100 metadata keys (6802190 ms)\n",
      "Processed 69 of 100 metadata keys (6911394 ms)\n",
      "Processed 70 of 100 metadata keys (7015557 ms)\n",
      "Processed 71 of 100 metadata keys (7123037 ms)\n",
      "Processed 72 of 100 metadata keys (7230195 ms)\n",
      "Processed 73 of 100 metadata keys (7333336 ms)\n",
      "Processed 74 of 100 metadata keys (7434220 ms)\n",
      "Processed 75 of 100 metadata keys (7534115 ms)\n",
      "Processed 76 of 100 metadata keys (7638969 ms)\n",
      "Processed 77 of 100 metadata keys (7744754 ms)\n",
      "Processed 78 of 100 metadata keys (7845992 ms)\n",
      "Processed 79 of 100 metadata keys (7948561 ms)\n",
      "Processed 80 of 100 metadata keys (8047098 ms)\n",
      "Processed 81 of 100 metadata keys (8155197 ms)\n",
      "Processed 82 of 100 metadata keys (8261665 ms)\n",
      "Processed 83 of 100 metadata keys (8366909 ms)\n",
      "Processed 84 of 100 metadata keys (8472655 ms)\n",
      "Processed 85 of 100 metadata keys (8595205 ms)\n",
      "Processed 86 of 100 metadata keys (8702379 ms)\n",
      "Processed 87 of 100 metadata keys (8833031 ms)\n",
      "Processed 88 of 100 metadata keys (8949454 ms)\n",
      "Processed 89 of 100 metadata keys (9065729 ms)\n",
      "Processed 90 of 100 metadata keys (9191251 ms)\n",
      "Processed 91 of 100 metadata keys (9313612 ms)\n",
      "Processed 92 of 100 metadata keys (9420017 ms)\n",
      "Processed 93 of 100 metadata keys (9530230 ms)\n",
      "Processed 94 of 100 metadata keys (9646826 ms)\n",
      "Processed 95 of 100 metadata keys (9754020 ms)\n",
      "Processed 96 of 100 metadata keys (9866487 ms)\n",
      "Processed 97 of 100 metadata keys (9973605 ms)\n",
      "Processed 98 of 100 metadata keys (10100371 ms)\n",
      "Processed 99 of 100 metadata keys (10216995 ms)\n",
      "Processed 100 of 100 metadata keys (10328133 ms)\n",
      "Done!\n"
     ]
    }
   ],
   "source": [
    "add_metadata_as_has_col(data, \"tags\", counts_tags.most_common(100), \"has_tag_\", cache_tags)"
   ]
  },
  {
   "cell_type": "code",
   "execution_count": 45,
   "metadata": {},
   "outputs": [
    {
     "name": "stdout",
     "output_type": "stream",
     "text": [
      "Starting...\n",
      "Processed 1 of 100 metadata keys (114531 ms)\n",
      "Processed 2 of 100 metadata keys (231129 ms)\n",
      "Processed 3 of 100 metadata keys (357274 ms)\n",
      "Processed 4 of 100 metadata keys (469925 ms)\n",
      "Processed 5 of 100 metadata keys (582327 ms)\n",
      "Processed 6 of 100 metadata keys (692761 ms)\n",
      "Processed 7 of 100 metadata keys (806833 ms)\n",
      "Processed 8 of 100 metadata keys (938606 ms)\n",
      "Processed 9 of 100 metadata keys (1069980 ms)\n",
      "Processed 10 of 100 metadata keys (1207385 ms)\n",
      "Processed 11 of 100 metadata keys (1350701 ms)\n",
      "Processed 12 of 100 metadata keys (1467574 ms)\n",
      "Processed 13 of 100 metadata keys (1578365 ms)\n",
      "Processed 14 of 100 metadata keys (1694965 ms)\n",
      "Processed 15 of 100 metadata keys (1810502 ms)\n",
      "Processed 16 of 100 metadata keys (1931867 ms)\n",
      "Processed 17 of 100 metadata keys (2064039 ms)\n",
      "Processed 18 of 100 metadata keys (2197175 ms)\n",
      "Processed 19 of 100 metadata keys (2334003 ms)\n",
      "Processed 20 of 100 metadata keys (2469100 ms)\n",
      "Processed 21 of 100 metadata keys (2616668 ms)\n",
      "Processed 22 of 100 metadata keys (2754224 ms)\n",
      "Processed 23 of 100 metadata keys (2885403 ms)\n",
      "Processed 24 of 100 metadata keys (3018527 ms)\n",
      "Processed 25 of 100 metadata keys (3157644 ms)\n",
      "Processed 26 of 100 metadata keys (3297093 ms)\n",
      "Processed 27 of 100 metadata keys (3437679 ms)\n",
      "Processed 28 of 100 metadata keys (3579945 ms)\n",
      "Processed 29 of 100 metadata keys (3721184 ms)\n",
      "Processed 30 of 100 metadata keys (3856419 ms)\n",
      "Processed 31 of 100 metadata keys (3998666 ms)\n",
      "Processed 32 of 100 metadata keys (4133065 ms)\n",
      "Processed 33 of 100 metadata keys (4269445 ms)\n",
      "Processed 34 of 100 metadata keys (4406248 ms)\n",
      "Processed 35 of 100 metadata keys (4541242 ms)\n",
      "Processed 36 of 100 metadata keys (4679581 ms)\n",
      "Processed 37 of 100 metadata keys (4817730 ms)\n",
      "Processed 38 of 100 metadata keys (4947461 ms)\n",
      "Processed 39 of 100 metadata keys (5078031 ms)\n",
      "Processed 40 of 100 metadata keys (5218994 ms)\n",
      "Processed 41 of 100 metadata keys (5353227 ms)\n",
      "Processed 42 of 100 metadata keys (5485527 ms)\n",
      "Processed 43 of 100 metadata keys (5635091 ms)\n",
      "Processed 44 of 100 metadata keys (5779410 ms)\n",
      "Processed 45 of 100 metadata keys (5930563 ms)\n",
      "Processed 46 of 100 metadata keys (6078613 ms)\n",
      "Processed 47 of 100 metadata keys (6231122 ms)\n",
      "Processed 48 of 100 metadata keys (6373910 ms)\n",
      "Processed 49 of 100 metadata keys (6521920 ms)\n",
      "Processed 50 of 100 metadata keys (6668794 ms)\n",
      "Processed 51 of 100 metadata keys (6806359 ms)\n",
      "Processed 52 of 100 metadata keys (6957562 ms)\n",
      "Processed 53 of 100 metadata keys (7107239 ms)\n",
      "Processed 54 of 100 metadata keys (7254074 ms)\n",
      "Processed 55 of 100 metadata keys (7393825 ms)\n",
      "Processed 56 of 100 metadata keys (7540775 ms)\n",
      "Processed 57 of 100 metadata keys (7688912 ms)\n",
      "Processed 58 of 100 metadata keys (7835802 ms)\n",
      "Processed 59 of 100 metadata keys (7984206 ms)\n",
      "Processed 60 of 100 metadata keys (8131431 ms)\n",
      "Processed 61 of 100 metadata keys (8281306 ms)\n",
      "Processed 62 of 100 metadata keys (8430025 ms)\n",
      "Processed 63 of 100 metadata keys (8572426 ms)\n",
      "Processed 64 of 100 metadata keys (8712956 ms)\n",
      "Processed 65 of 100 metadata keys (8853124 ms)\n",
      "Processed 66 of 100 metadata keys (8993623 ms)\n",
      "Processed 67 of 100 metadata keys (9147167 ms)\n",
      "Processed 68 of 100 metadata keys (9294209 ms)\n",
      "Processed 69 of 100 metadata keys (9447890 ms)\n",
      "Processed 70 of 100 metadata keys (9597775 ms)\n",
      "Processed 71 of 100 metadata keys (9744770 ms)\n",
      "Processed 72 of 100 metadata keys (9899927 ms)\n",
      "Processed 73 of 100 metadata keys (10056294 ms)\n",
      "Processed 74 of 100 metadata keys (10205606 ms)\n",
      "Processed 75 of 100 metadata keys (10354478 ms)\n",
      "Processed 76 of 100 metadata keys (10499155 ms)\n",
      "Processed 77 of 100 metadata keys (10649400 ms)\n",
      "Processed 78 of 100 metadata keys (10803937 ms)\n",
      "Processed 79 of 100 metadata keys (10959033 ms)\n",
      "Processed 80 of 100 metadata keys (11108519 ms)\n",
      "Processed 81 of 100 metadata keys (11262874 ms)\n",
      "Processed 82 of 100 metadata keys (11418115 ms)\n",
      "Processed 83 of 100 metadata keys (11565534 ms)\n",
      "Processed 84 of 100 metadata keys (11713678 ms)\n",
      "Processed 85 of 100 metadata keys (11871437 ms)\n",
      "Processed 86 of 100 metadata keys (12026434 ms)\n",
      "Processed 87 of 100 metadata keys (12182404 ms)\n",
      "Processed 88 of 100 metadata keys (12330035 ms)\n",
      "Processed 89 of 100 metadata keys (12484263 ms)\n",
      "Processed 90 of 100 metadata keys (12641857 ms)\n",
      "Processed 91 of 100 metadata keys (12807549 ms)\n",
      "Processed 92 of 100 metadata keys (12957107 ms)\n",
      "Processed 93 of 100 metadata keys (13119271 ms)\n",
      "Processed 94 of 100 metadata keys (13277338 ms)\n",
      "Processed 95 of 100 metadata keys (13447241 ms)\n",
      "Processed 96 of 100 metadata keys (13608746 ms)\n",
      "Processed 97 of 100 metadata keys (13776395 ms)\n",
      "Processed 98 of 100 metadata keys (13928343 ms)\n",
      "Processed 99 of 100 metadata keys (14095752 ms)\n",
      "Processed 100 of 100 metadata keys (14255318 ms)\n",
      "Done!\n"
     ]
    }
   ],
   "source": [
    "add_metadata_as_has_col(data, \"authors\", counts_authors.most_common(100), \"has_author_\", cache_authors)"
   ]
  },
  {
   "cell_type": "code",
   "execution_count": 46,
   "metadata": {},
   "outputs": [],
   "source": [
    "data.drop(\"meta_keywords\", axis=1, inplace=True)\n",
    "data.drop(\"tags\", axis=1, inplace=True)\n",
    "data.drop(\"authors\", axis=1, inplace=True)"
   ]
  },
  {
   "cell_type": "code",
   "execution_count": 47,
   "metadata": {},
   "outputs": [],
   "source": [
    "simple_cols = [\"title\", \"content\", \"type\", \"fake\", \"domain\", \"updated_at\"]"
   ]
  },
  {
   "cell_type": "code",
   "execution_count": 73,
   "metadata": {},
   "outputs": [],
   "source": [
    "data.to_csv(\"./data/news_wkta_all.csv\", index=False)"
   ]
  },
  {
   "cell_type": "code",
   "execution_count": 48,
   "metadata": {},
   "outputs": [],
   "source": [
    "def recover_meta_counts(df, prefix):\n",
    "    counts = Counter()\n",
    "    for col in df.columns:\n",
    "        if prefix in col:\n",
    "            data_slice = df[df[col] == 1]\n",
    "            counts[col[len(prefix):]] += data_slice[col].sum()\n",
    "    return counts"
   ]
  },
  {
   "cell_type": "code",
   "execution_count": 49,
   "metadata": {},
   "outputs": [],
   "source": [
    "def filter_data_by_meta(df, prefix, meta_counts, n):\n",
    "    req_cols = [prefix + meta for meta, _ in meta_counts.most_common(n)]\n",
    "    \n",
    "    all_criteria = [df[col] == 1 for col in req_cols]\n",
    "    criteria = df[req_cols[0]] == 1\n",
    "    for col in req_cols[1:]:\n",
    "        criteria = criteria | df[col] == 1\n",
    "        \n",
    "    return df.loc[criteria]"
   ]
  },
  {
   "cell_type": "code",
   "execution_count": 50,
   "metadata": {},
   "outputs": [],
   "source": [
    "data[\"sample_weights\"] = data.groupby('fake')['fake'].transform('count')"
   ]
  },
  {
   "cell_type": "code",
   "execution_count": 51,
   "metadata": {},
   "outputs": [],
   "source": [
    "filtered_data = filter_data_by_meta(data, \"has_mk_\", counts_keywords, 25)"
   ]
  },
  {
   "cell_type": "code",
   "execution_count": 52,
   "metadata": {},
   "outputs": [
    {
     "data": {
      "text/plain": [
       "1    0.524979\n",
       "0    0.475021\n",
       "Name: fake, dtype: float64"
      ]
     },
     "execution_count": 52,
     "metadata": {},
     "output_type": "execute_result"
    }
   ],
   "source": [
    "data.fake.value_counts(normalize=True)"
   ]
  },
  {
   "cell_type": "code",
   "execution_count": 53,
   "metadata": {},
   "outputs": [
    {
     "data": {
      "text/plain": [
       "<AxesSubplot:>"
      ]
     },
     "execution_count": 53,
     "metadata": {},
     "output_type": "execute_result"
    },
    {
     "data": {
      "image/png": "[encoded data removed]",
      "text/plain": [
       "<Figure size 432x288 with 1 Axes>"
      ]
     },
     "metadata": {
      "needs_background": "light"
     },
     "output_type": "display_data"
    }
   ],
   "source": [
    "data.fake.value_counts(normalize=True).sort_values().plot(kind = 'barh')"
   ]
  },
  {
   "cell_type": "code",
   "execution_count": 54,
   "metadata": {},
   "outputs": [
    {
     "data": {
      "text/plain": [
       "0    0.902694\n",
       "1    0.097306\n",
       "Name: fake, dtype: float64"
      ]
     },
     "execution_count": 54,
     "metadata": {},
     "output_type": "execute_result"
    }
   ],
   "source": [
    "filtered_data.fake.value_counts(normalize=True)"
   ]
  },
  {
   "cell_type": "code",
   "execution_count": 55,
   "metadata": {},
   "outputs": [
    {
     "data": {
      "text/plain": [
       "<AxesSubplot:>"
      ]
     },
     "execution_count": 55,
     "metadata": {},
     "output_type": "execute_result"
    },
    {
     "data": {
      "image/png": "[encoded data removed]",
      "text/plain": [
       "<Figure size 432x288 with 1 Axes>"
      ]
     },
     "metadata": {
      "needs_background": "light"
     },
     "output_type": "display_data"
    }
   ],
   "source": [
    "filtered_data.fake.value_counts(normalize=True).sort_values().plot(kind = 'barh')"
   ]
  },
  {
   "cell_type": "code",
   "execution_count": 56,
   "metadata": {},
   "outputs": [],
   "source": [
    "tiny_balanced_sample = filtered_data.sample(n=25_000, weights = filtered_data[\"sample_weights\"], random_state=9034)"
   ]
  },
  {
   "cell_type": "code",
   "execution_count": null,
   "metadata": {},
   "outputs": [],
   "source": [
    "tiny_balanced_sample = pd.read_csv(path, memory_map=True, encoding=\"utf-8\", quotechar='\"', engine=\"c\", usecols=cols, dtype=coltypes, error_bad_lines=False, warn_bad_lines=True, compression=\"zip\")"
   ]
  },
  {
   "cell_type": "code",
   "execution_count": 57,
   "metadata": {},
   "outputs": [
    {
     "data": {
      "text/plain": [
       "domain           type        content                                                                                                                                                                                                                                                                                                                                                                                                                                                                                                                                                                                                                                                                                                                                                                                                                                                                                                                                                                                                                                                                                                                                                                                                                                                                                                                                                                                                                                                                                                                                                                                                                                                                                                                                                                                                                                                                                                                                                                                                                                                                                                                                                                                                                                                                                                                                                                                                                                                                                                                                                                                                                                                                                                                                                                                                                                                                                                                                                                                                                                                                                                                                                                                                                                                                                                                                                                                                                                                                                                                                                                                                                                                                                                                                                                                                                                                                                                                                                                                                                                                                                                                                                                                                                                                                                                                                                                                                                                                                                                                                                                                                                                                                                                                                                                                                                                                                                                                                                                                                                                                                                                       updated_at                  title                                                                    fake  has_mk_climate change  has_mk_business  has_mk_energy  has_mk_renewables  has_mk_health  has_mk_food  has_mk_biodiversity  has_mk_sustainable business  has_mk_coal  has_mk_fracking  has_mk_politics  has_mk_science  has_mk_china  has_mk_ebola  has_mk_cuba  has_mk_cop21  has_mk_pipelines  has_mk_russia  has_mk_tips  has_mk_transportation  has_mk_donald trump  has_mk_united states  has_mk_barack obama  has_mk_hillary clinton  has_mk_economics  has_mk_news  has_mk_big government  has_mk_finance  has_mk_markets  has_mk_analysis  has_mk_zerohedge  has_mk_zero hedge  has_mk_wikileaks  has_mk_syria  has_mk_world  has_mk_vdare.com  has_mk_national security  has_mk_the onion  has_mk_media  has_mk_ohio  has_mk_white house  has_mk_bernie sanders  has_mk_natural medicine  has_mk_functional medicine  has_mk_complementary medicine  has_mk_alternative toxicology  has_mk_evidence-based medicine  has_mk_integrative health  has_mk_alternative meds  has_mk_independent health news  has_mk_natural healath resource  has_mk_submissions  has_mk_media kit  has_mk_congressional research service  has_mk_msnbc  has_mk_ukraine  has_mk_congress  has_mk_iran  has_mk_blog  has_mk_obama  has_mk_immigration  has_mk_liberal  has_mk_economy  has_mk_sarah jones  has_mk_politicususa  has_mk_jason easley  has_mk_germany  has_mk_iraq  has_mk_government  has_mk_health news  has_mk_turkey  has_mk_obamacare  has_mk_terrorism  has_mk_opinion  has_mk_israel  has_mk_daesh  has_mk_france  has_mk_article  has_mk_vladimir putin  has_mk_united kingdom  has_mk_us  has_mk_senate  has_mk_twitter  has_mk_europe  has_mk_european union  has_mk_middle east  has_mk_washington  has_mk_books and arts  has_mk_isis  has_mk_trump  has_mk_2016 presidential race  has_mk_breitbart london  has_mk_japan  has_mk_republican party  has_mk_breitbart texas  has_mk_big hollywood  has_mk_debt  has_mk_afghanistan  has_mk_environment  has_mk_nato  has_tag_russia  has_tag_donald trump  has_tag_hillary clinton  has_tag_syria  has_tag_9/11 articles  has_tag_race/crime articles  has_tag_american pravda articles  has_tag_race/iq articles  has_tag_israel  has_tag_libya  has_tag_united states  has_tag_immigration  has_tag_politics  has_tag_barack obama  has_tag_trump  has_tag_obama  has_tag_isis  has_tag_europe  has_tag_iran  has_tag_china  has_tag_cia  has_tag_benghazi  has_tag_children  has_tag_terrorism  has_tag_islam  has_tag_north korea  has_tag_irs  has_tag_epa  has_tag_iraq  has_tag_school  has_tag_transportation  has_tag_financial disclosure  has_tag_hillary clinton email scandal  has_tag_trump administration  has_tag_religion  has_tag_irs docs  has_tag_ukraine  has_tag_turkey  has_tag_retirement  has_tag_foia  has_tag_vanguard  has_tag_middle east  has_tag_india  has_tag_mutual  has_tag_nato  has_tag_judge  has_tag_economy  has_tag_war  has_tag_south africa  has_tag_radical jihad  has_tag_news  has_tag_saudi arabia  has_tag_germany  has_tag_income  has_tag_obamacare  has_tag_afghanistan  has_tag_financial  has_tag_france  has_tag_climate change  has_tag_energy  has_tag_gun control  has_tag_crime  has_tag_gun rights  has_tag_japan  has_tag_charlie hebdo  has_tag_science  has_tag_isis/islamic state  has_tag_eu  has_tag_taxes  has_tag_twitter  has_tag_military  has_tag_fbi  has_tag_africa  has_tag_yemen  has_tag_congress  has_tag_nsa  has_tag_government  has_tag_family  has_tag_brexit  has_tag_wikileaks  has_tag_health  has_tag_egypt  has_tag_canada  has_tag_voter fraud  has_tag_impeachment  has_tag_ann coulter  has_tag_hollywood  has_tag_common core  has_tag_baltimore riots  has_tag_secession  has_tag_war on christmas  has_tag_camp of the saints  has_tag_pakistan  has_tag_achievement gap  has_tag_national question  has_tag_automation  has_tag_racism  has_tag_not reporting race  has_tag_donald trump insurgency  has_tag_diversity is strength  has_author_lorraine chow  has_author_common dreams  has_author_guest contributor  has_author_the conversation  has_author_david leestma  has_author_environmental working group  has_author_ronnie cummins  has_author_the climate reality project  has_author_sierra club  has_author_rainforest action network  has_author_backgroundurl avatar_large  has_author_organic consumers association  has_author_our children's trust  has_author_american wild horse campaign  has_author_anastasia pantsios  has_author_stefanie spear  has_author_climate nexus  has_author_daily kos  has_author_happy cog studios - http  has_author_www.happycog.com  has_author_david codrea  has_author_tom mchale  has_author_jeff knox  has_author_the revelator  has_author_climate group  has_author_environment america  has_author_union of concerned scientists  has_author_ilana mercer  has_author_pat buchanan  has_author_chris roberts  has_author_sinclair jenkins  has_author_guillaume durocher  has_author_natural resources defense council  has_author_cole mellino  has_author_wild bill  has_author_climate news network  has_author_blasting news  has_author_jay eimer  has_author_posted on  has_author_walter einenkel  has_author_about the author  has_author_john derbyshire  has_author_susan wright  has_author_любовь степушова  has_author_александр артамонов  has_author_айдын мехтиев  has_author_jr bailey  has_author_tom claycomb  has_author_jen hayden  has_author_руслан веснянко  has_author_shel by  has_author_leslie salzillo  has_author_анжела якубовская  has_author_the saker  has_author_александр широкорад  has_author_kenneth dowdle  has_author_karen wehrstein  has_author_ammoland editor js  has_author_ron unz  has_author_mark sumner  has_author_crashing vor  has_author_razib khan  has_author_sydney schanberg  has_author_john harrison sims  has_author_sarah rumpf  has_author_nico parungo  has_author_mike whitney  has_author_carl arbogast  has_author_the onion  has_author_el mito  has_author_egberto willies  has_author_james phibbs  has_author_martin walsh  has_author_israel shamir  has_author_p. ghose  has_author_andrea ruth  has_author_brandon morse  has_author_kira davis  has_author_paul kersey  has_author_robert roth  has_author_goyim must die  has_author_dr. eowyn  has_author_pamela geller  has_author_joan mccarter  has_author_kerry eleveld  has_author_sexy-author-bio  has_author_border-color  has_author_border-top-width  has_author_michael snyder  has_author_ed tracey  has_author_because without america  has_author_there is no free world.  has_author_joe cunningham  has_author_sara r  has_author_charles perrin  has_author_follow on twitter  has_author_denise oliver velez  has_author_c.j. hopkins  has_author_mark anderson  has_author_nick kollerstrom  sample_weights\n",
       "ecowatch.com     political   The 2018 Ford Transit, one of Ford's 15 showcased models at the DC Auto Show, gets an estimated 23 mpg according to fueleconomy.gov. washingtonautoshow.com                                                                                                                                                                                                                                                                                                                                                                                                                                                                                                                                                                                                                                                                                                                                                                                                                                                                                                                                                                                                                                                                                                                                                                                                                                                                                                                                                                                                                                                                                                                                                                                                                                                                                                                                                                                                                                                                                                                                                                                                                                                                                                                                                                                                                                                                                                                                                                                                                                                                                                                                                                                                                                                                                                                                                                                                                                                                                                                                                                                                                                                                                                                                                                                                                                                                                                                                                                                                                                                                                                                                                                                                                                                                                                                                                                                                                                                                                                                                                                                                                                                                                                                                                                                                                                                                                                                                                                                                                                                                                                                                                                                                                                                                                                                                                                                                                                                                                                                                                   2018-02-02 01:19:41.756664  Climate Change Is a Major Buzz Kill for Bumblebees                       0     1                      0                0              0                  0              0            1                    0                            0            0                0                0               0             0             0            0             0                 0              0            0                      0                    0                     0                    0                       0                 0            0                      0               0               0                0                 0                  0                 0             0             0                 0                         0                 0             0            0                   0                      0                        0                           0                              0                              0                               0                          0                        0                               0                                0                   0                 0                                      0             0               0                0            0            0             0                   0               0               0                   0                    0                    0               0            0                  0                   0              0                 0                 0               0              0             0              0               0                      0                      0          0              0               0              0                      0                   0                  0                      0            0             0                              0                        0             0                        0                       0                     0            0                   0                   0            0               0                     0                        0              0                      0                            0                                 0                         0               0              0                      0                    0                 0                     0              0              0             0               0             0              0            0                 0                 0                  0              0                    0            0            0             0               0                       0                             0                                      0                             0                 0                 0                0               0                   0             0                 0                    0              0               0             0              0                0            0                     0                      0             0                     0                0               0                  0                    0                  0               0                       0               0                    0              0                   0              0                      0                0                           0           0              0                0                 0            0               0              0                 0            0                   0               0               0                  0               0              0               0                    0                    0                    0                  0                    0                        0                  0                         0                           0                 0                        0                          0                   0               0                           0                                0                              1                         1                         1                             1                            0                         0                                       0                          0                                       0                       0                                     0                                      1                                         0                                0                                        0                              0                          0                         0                     0                                    0                            0                        0                      0                     0                         0                         1                               1                                         0                        0                        0                         0                            0                              0                                             0                        0                     0                                0                         0                     0                     0                           0                            0                           0                        0                            0                               0                         0                     0                        0                      0                           0                   0                           0                             0                     0                               0                          0                           0                              0                   0                       0                        0                      0                            0                              0                       0                        0                        0                         0                     0                   0                           0                        0                        0                         0                    0                       0                         0                      0                       0                       0                          0                     0                         0                         0                         0                           0                        0                            0                          0                     0                                   0                                   0                          0                  0                          0                             0                               0                        0                         0                            1540427           0.03808\n",
       "                             Cowry Collective members participate in a time bank market, where products and produce can be exchanged for tokens, not cash, at the New Roots Urban Farm in St. Louis, Missouri. Tosha Phoenix                                                                                                                                                                                                                                                                                                                                                                                                                                                                                                                                                                                                                                                                                                                                                                                                                                                                                                                                                                                                                                                                                                                                                                                                                                                                                                                                                                                                                                                                                                                                                                                                                                                                                                                                                                                                                                                                                                                                                                                                                                                                                                                                                                                                                                                                                                                                                                                                                                                                                                                                                                                                                                                                                                                                                                                                                                                                                                                                                                                                                                                                                                                                                                                                                                                                                                                                                                                                                                                                                                                                                                                                                                                                                                                                                                                                                                                                                                                                                                                                                                                                                                                                                                                                                                                                                                                                                                                                                                                                                                                                                                                                                                                                                                                                                                                                                                                                                                               2018-02-02 01:19:41.756664  Hundreds Rally Asking Gov. Cuomo to Deny the Constitution Pipeline       0     0                      0                1              0                  0              0            0                    0                            0            1                0                0               0             0             0            0             1                 0              0            0                      0                    0                     0                    0                       0                 0            0                      0               0               0                0                 0                  0                 0             0             0                 0                         0                 0             0            0                   0                      0                        0                           0                              0                              0                               0                          0                        0                               0                                0                   0                 0                                      0             0               0                0            0            0             0                   0               0               0                   0                    0                    0               0            0                  0                   0              0                 0                 0               0              0             0              0               0                      0                      0          0              0               0              0                      0                   0                  0                      0            0             0                              0                        0             0                        0                       0                     0            0                   0                   0            0               0                     0                        0              0                      0                            0                                 0                         0               0              0                      0                    0                 0                     0              0              0             0               0             0              0            0                 0                 0                  0              0                    0            0            0             0               0                       0                             0                                      0                             0                 0                 0                0               0                   0             0                 0                    0              0               0             0              0                0            0                     0                      0             0                     0                0               0                  0                    0                  0               0                       0               0                    0              0                   0              0                      0                0                           0           0              0                0                 0            0               0              0                 0            0                   0               0               0                  0               0              0               0                    0                    0                    0                  0                    0                        0                  0                         0                           0                 0                        0                          0                   0               0                           0                                0                              1                         1                         1                             1                            0                         0                                       0                          0                                       0                       0                                     0                                      0                                         0                                0                                        0                              1                          0                         0                     0                                    0                            0                        0                      0                     0                         0                         0                               0                                         0                        0                        0                         0                            0                              0                                             0                        0                     0                                0                         0                     0                     0                           0                            0                           0                        0                            0                               0                         0                     0                        0                      0                           0                   0                           0                             0                     0                               0                          0                           0                              0                   0                       0                        0                      0                            0                              0                       0                        0                        0                         0                     0                   0                           0                        0                        0                         0                    0                       0                         0                      0                       0                       0                          0                     0                         0                         0                         0                           0                        0                            0                          0                     0                                   0                                   0                          0                  0                          0                             0                               0                        0                         0                            1540427           0.03784\n",
       "                             Whole Foods Teams Up With SolarCity, NRG to Install Solar on 100 Stores                                                                                                                                                                                                                                                                                                                                                                                                                                                                                                                                                                                                                                                                                                                                                                                                                                                                                                                                                                                                                                                                                                                                                                                                                                                                                                                                                                                                                                                                                                                                                                                                                                                                                                                                                                                                                                                                                                                                                                                                                                                                                                                                                                                                                                                                                                                                                                                                                                                                                                                                                                                                                                                                                                                                                                                                                                                                                                                                                                                                                                                                                                                                                                                                                                                                                                                                                                                                                                                                                                                                                                                                                                                                                                                                                                                                                                                                                                                                                                                                                                                                                                                                                                                                                                                                                                                                                                                                                                                                                                                                                                                                                                                                                                                                                                                                                                                                                                                                                                                                                                       2018-02-07 23:39:33.852696  Whole Foods Teams Up With SolarCity, NRG to Install Solar on 100 Stores  0     0                      1                0              1                  0              0            0                    1                            0            0                0                0               0             0             0            0             0                 0              0            0                      0                    0                     0                    0                       0                 0            0                      0               0               0                0                 0                  0                 0             0             0                 0                         0                 0             0            0                   0                      0                        0                           0                              0                              0                               0                          0                        0                               0                                0                   0                 0                                      0             0               0                0            0            0             0                   0               0               0                   0                    0                    0               0            0                  0                   0              0                 0                 0               0              0             0              0               0                      0                      0          0              0               0              0                      0                   0                  0                      0            0             0                              0                        0             0                        0                       0                     0            0                   0                   0            0               0                     0                        0              0                      0                            0                                 0                         0               0              0                      0                    0                 0                     0              0              0             0               0             0              0            0                 0                 0                  0              0                    0            0            0             0               0                       0                             0                                      0                             0                 0                 0                0               0                   0             0                 0                    0              0               0             0              0                0            0                     0                      0             0                     0                0               0                  0                    0                  0               0                       0               0                    0              0                   0              0                      0                0                           0           0              0                0                 0            0               0              0                 0            0                   0               0               0                  0               0              0               0                    0                    0                    0                  0                    0                        0                  0                         0                           0                 0                        0                          0                   0               0                           0                                0                              1                         1                         0                             0                            1                         1                                       1                          1                                       1                       1                                     0                                      0                                         0                                0                                        0                              0                          0                         0                     0                                    0                            0                        0                      0                     0                         0                         0                               0                                         0                        0                        0                         0                            0                              0                                             0                        0                     0                                0                         0                     0                     0                           0                            0                           0                        0                            0                               0                         0                     0                        0                      0                           0                   0                           0                             0                     0                               0                          0                           0                              0                   0                       0                        0                      0                            0                              0                       0                        0                        0                         0                     0                   0                           0                        0                        0                         0                    0                       0                         0                      0                       0                       0                          0                     0                         0                         0                         0                           0                        0                            0                          0                     0                                   0                                   0                          0                  0                          0                             0                               0                        0                         0                            1540427           0.03780\n",
       "                             Cowry Collective members participate in a time bank market, where products and produce can be exchanged for tokens, not cash, at the New Roots Urban Farm in St. Louis, Missouri. Tosha Phoenix                                                                                                                                                                                                                                                                                                                                                                                                                                                                                                                                                                                                                                                                                                                                                                                                                                                                                                                                                                                                                                                                                                                                                                                                                                                                                                                                                                                                                                                                                                                                                                                                                                                                                                                                                                                                                                                                                                                                                                                                                                                                                                                                                                                                                                                                                                                                                                                                                                                                                                                                                                                                                                                                                                                                                                                                                                                                                                                                                                                                                                                                                                                                                                                                                                                                                                                                                                                                                                                                                                                                                                                                                                                                                                                                                                                                                                                                                                                                                                                                                                                                                                                                                                                                                                                                                                                                                                                                                                                                                                                                                                                                                                                                                                                                                                                                                                                                                                               2018-02-02 01:19:41.756664  Rooftop Solar Provides Net Benefits to All Nevadans                      0     0                      0                1              1                  0              0            0                    0                            0            0                0                0               0             0             0            0             0                 0              0            0                      0                    0                     0                    0                       0                 0            0                      0               0               0                0                 0                  0                 0             0             0                 0                         0                 0             0            0                   0                      0                        0                           0                              0                              0                               0                          0                        0                               0                                0                   0                 0                                      0             0               0                0            0            0             0                   0               0               0                   0                    0                    0               0            0                  0                   0              0                 0                 0               0              0             0              0               0                      0                      0          0              0               0              0                      0                   0                  0                      0            0             0                              0                        0             0                        0                       0                     0            0                   0                   0            0               0                     0                        0              0                      0                            0                                 0                         0               0              0                      0                    0                 0                     0              0              0             0               0             0              0            0                 0                 0                  0              0                    0            0            0             0               0                       0                             0                                      0                             0                 0                 0                0               0                   0             0                 0                    0              0               0             0              0                0            0                     0                      0             0                     0                0               0                  0                    0                  0               0                       0               0                    0              0                   0              0                      0                0                           0           0              0                0                 0            0               0              0                 0            0                   0               0               0                  0               0              0               0                    0                    0                    0                  0                    0                        0                  0                         0                           0                 0                        0                          0                   0               0                           0                                0                              1                         1                         1                             1                            0                         0                                       0                          0                                       0                       0                                     0                                      0                                         0                                0                                        0                              0                          0                         0                     0                                    0                            0                        0                      0                     0                         0                         0                               0                                         0                        0                        0                         0                            0                              1                                             0                        0                     0                                0                         0                     0                     0                           0                            0                           0                        0                            0                               0                         0                     0                        0                      0                           0                   0                           0                             0                     0                               0                          0                           0                              0                   0                       0                        0                      0                            0                              0                       0                        0                        0                         0                     0                   0                           0                        0                        0                         0                    0                       0                         0                      0                       0                       0                          0                     0                         0                         0                         0                           0                        0                            0                          0                     0                                   0                                   0                          0                  0                          0                             0                               0                        0                         0                            1540427           0.03780\n",
       "                             World's Second Largest Source of Electricity Is Now Renewables                                                                                                                                                                                                                                                                                                                                                                                                                                                                                                                                                                                                                                                                                                                                                                                                                                                                                                                                                                                                                                                                                                                                                                                                                                                                                                                                                                                                                                                                                                                                                                                                                                                                                                                                                                                                                                                                                                                                                                                                                                                                                                                                                                                                                                                                                                                                                                                                                                                                                                                                                                                                                                                                                                                                                                                                                                                                                                                                                                                                                                                                                                                                                                                                                                                                                                                                                                                                                                                                                                                                                                                                                                                                                                                                                                                                                                                                                                                                                                                                                                                                                                                                                                                                                                                                                                                                                                                                                                                                                                                                                                                                                                                                                                                                                                                                                                                                                                                                                                                                                                                2018-02-07 23:39:33.852696  World's Second Largest Source of Electricity Is Now Renewables           0     0                      1                0              1                  0              0            0                    0                            0            0                0                0               0             0             0            0             0                 0              0            0                      0                    0                     0                    0                       0                 0            0                      0               0               0                0                 0                  0                 0             0             0                 0                         0                 0             0            0                   0                      0                        0                           0                              0                              0                               0                          0                        0                               0                                0                   0                 0                                      0             0               0                0            0            0             0                   0               0               0                   0                    0                    0               0            0                  0                   0              0                 0                 0               0              0             0              0               0                      0                      0          0              0               0              0                      0                   0                  0                      0            0             0                              0                        0             0                        0                       0                     0            0                   0                   0            0               0                     0                        0              0                      0                            0                                 0                         0               0              0                      0                    0                 0                     0              0              0             0               0             0              0            0                 0                 0                  0              0                    0            0            0             0               0                       0                             0                                      0                             0                 0                 0                0               0                   0             0                 0                    0              0               0             0              0                0            0                     0                      0             0                     0                0               0                  0                    0                  0               0                       0               0                    0              0                   0              0                      0                0                           0           0              0                0                 0            0               0              0                 0            0                   0               0               0                  0               0              0               0                    0                    0                    0                  0                    0                        0                  0                         0                           0                 0                        0                          0                   0               0                           0                                0                              1                         1                         1                             0                            1                         1                                       1                          1                                       1                       1                                     0                                      0                                         0                                0                                        0                              0                          0                         0                     0                                    0                            0                        0                      0                     0                         0                         0                               0                                         0                        0                        0                         0                            0                              0                                             0                        0                     0                                0                         0                     0                     0                           0                            0                           0                        0                            0                               0                         0                     0                        0                      0                           0                   0                           0                             0                     0                               0                          0                           0                              0                   0                       0                        0                      0                            0                              0                       0                        0                        0                         0                     0                   0                           0                        0                        0                         0                    0                       0                         0                      0                       0                       0                          0                     0                         0                         0                         0                           0                        0                            0                          0                     0                                   0                                   0                          0                  0                          0                             0                               0                        0                         0                            1540427           0.03776\n",
       "                                                                                                                                                                                                                                                                                                                                                                                                                                                                                                                                                                                                                                                                                                                                                                                                                                                                                                                                                                                                                                                                                                                                                                                                                                                                                                                                                                                                                                                                                                                                                                                                                                                                                                                                                                                                                                                                                                                                                                                                                                                                                                                                                                                                                                                                                                                                                                                                                                                                                                                                                                                                                                                                                                                                                                                                                                                                                                                                                                                                                                                                                                                                                                                                                                                                                                                                                                                                                                                                                                                                                                                                                                                                                                                                                                                                                                                                                                                                                                                                                                                                                                                                                                                                                                                                                                                                                                                                                                                                                                                                                                                                                                                                                                                                                                                                                                                                                                                                                                                                                                                                                                                                                                                                                                                                                                                                                                                                                                                                                                                                                                                                                                                                                                                                                                                                                                                                                                                                                                                                                                                                                                                                                                                                                                                                                                                                                                                                                                                                                                                                                                                                                                                                                                                                                                                                                                                                                                                                                                                                                                                                                                                                                                                                                                                                                                                                                                                                                                                                                                                                                                                                                                                                                                                                                                                                                                                                                                                                                                                                                                                                                                                                                                                                                                                                                                                                                                                                                                                                                                                                                                                                                                                                                                                                                                                                                                                                                                                                                                                                                                                                                                                                                                                                                                                                                                                                                                                                                                                                                                                                                                                                                                                                                                                                                                                                                                                                                                                                                                                                                                                                                                                                                                                                                                                                                                                                                                                                                                                                                                                                                                                                                                                                                                                                                                                                                                                                                                                                                                                                                                                                                                                                                                                                                                                                                                                                                                                                                                                                                                                                                                                                                                                                                                                                                                                                                                                                                                                                                                                                                                                                                                                                           ...   \n",
       "sputniknews.com  bias        The three ups and three downs of Russia\\n\\nThe main outcome of 2009 is that Russia survived the crisis having paid a relatively cheap price, said the President Dmitry Medvedev in his wide-ranging end-of-year interview. Dmitry Medvedev named three ups of the Russian government in 2009. First, no social obligation was violated, pensions were increased and this work will be continued in 2010. Second, financial stability was preserved.\\n\\nThe main outcome of 2009 is that Russia survived the crisis having paid a relatively cheap price, said the President Dmitry Medvedev in his wide-ranging end-of-year interview.\\n\\nDmitry Medvedev named three ups of the Russian government in 2009. First, no social obligation was violated, pensions were increased and this work will be continued in 2010. Second, financial stability was preserved. The Central Bank and the government took all the measures to provide for a stable national currency, the banking system and to prevent a crisis similar to the 1998 one. \"Financial system is stable and it works\", said Dmitry Medvedev. Despite the crisis, inflation was reduced from 13% to 9% compared to 2008. And the third success of the government is that all backbone companies are not underwater, they are supported financially, said Medvedev. Thus, the President means that the crisis is over.\\n\\nHowever, Medvedev also sounded some pessimistic notes. According to him, this year the government failed to change the existing raw-based economy. The second problem is the re-equipment of non-competitive enterprises. Innovations should be implemented at such sites. And the third problem is combating unemployment.\\n\\nOlga Kryshtanovskaya, the head of the Institute for Applied Politics shares Medvedev's opinion that Russia's economy needs modernization:\\n\\n\"Russia cannot continue its fast and steady development without modernization. President Medvedev has repeatedly stated this. Now the government is working in this area and in his every speech Medvedev reports about a particular sphere of Russia's economy. The President explains governmental actions in the economy, what and when will be done. Russia is able to shift to the modernization of the economy. It has no other choice\".\\n\\nThough the worst times are over, the President said that the situation in the world remained the same. There were several meetings of the \"Big Twenty\" and \"G8\" in 2009 and they proposed a series of regulating mechanisms but the global financial architecture is still being formed. Thus, we should not be too optimistic about our economy in 2010 and the way out of the crisis will be rather slow. Still, the President spoke about a 2,5 of even 5% GDP increase in 2010.                                                                                                                                                                                                                                                                                                                                                                                                                                                                                                                                                                                                                                                                                                                                                                                                                                                                                                                                                                                                                                                                                                                                                                                                                                                                                                                                                                                                                                                                                                                                                                                                                                                                                                                                                                                                                                                                                                                                                                                                                                                                                                                                                                                                                                                                                                     2018-02-07 23:39:33.852696  The three ups and three downs of Russia                                  1     0                      0                0              0                  0              0            0                    0                            0            0                0                0               0             0             0            0             0                 1              0            0                      0                    0                     0                    0                       0                 0            0                      0               0               0                0                 0                  0                 0             0             0                 0                         0                 0             0            0                   0                      0                        0                           0                              0                              0                               0                          0                        0                               0                                0                   0                 0                                      0             0               0                0            0            0             0                   0               0               0                   0                    0                    0               0            0                  0                   0              0                 0                 0               0              0             0              0               0                      0                      0          0              0               0              0                      0                   0                  0                      0            0             0                              0                        0             0                        0                       0                     0            0                   0                   0            0               0                     0                        0              0                      0                            0                                 0                         0               0              0                      0                    0                 0                     0              0              0             0               0             0              0            0                 0                 0                  0              0                    0            0            0             0               0                       0                             0                                      0                             0                 0                 0                0               0                   0             0                 0                    0              0               0             0              0                0            0                     0                      0             0                     0                0               0                  0                    0                  0               0                       0               0                    0              0                   0              0                      0                0                           0           0              0                0                 0            0               0              0                 0            0                   0               0               0                  0               0              0               0                    0                    0                    0                  0                    0                        0                  0                         0                           0                 0                        0                          0                   0               0                           0                                0                              0                         0                         0                             0                            0                         0                                       0                          0                                       0                       0                                     0                                      0                                         0                                0                                        0                              0                          0                         0                     0                                    0                            0                        0                      0                     0                         0                         0                               0                                         0                        0                        0                         0                            0                              0                                             0                        0                     0                                0                         0                     0                     0                           0                            0                           0                        0                            0                               0                         0                     0                        0                      0                           0                   0                           0                             0                     0                               0                          0                           0                              0                   0                       0                        0                      0                            0                              0                       0                        0                        0                         0                     0                   0                           0                        0                        0                         0                    0                       0                         0                      0                       0                       0                          0                     0                         0                         0                         0                           0                        0                            0                          0                     0                                   0                                   0                          0                  0                          0                             0                               0                        0                         0                            1702435           0.00004\n",
       "                             The testimony of former Hillary Clinton aide Sidney Blumenthal to the US House Select Committee on Benghazi reportedly has been deferred.\\n\\nWASHINGTON (Sputnik) — The testimony of former Hillary Clinton aide Sidney Blumenthal to the US House Select Committee on Benghazi has been deferred because of scheduling issues, according to media reports on Wednesday.\\n\\n“The appearance of a former aide to Hillary Clinton before the House Select Committee on Benghazi has been delayed,” The Hill reported.\\n\\nOn September 11, 2012, Islamic militants stormed the US diplomatic compound in Benghazi, Libya, killing Ambassador Chris Stevens and three other US government employees, and injuring ten others.\\n\\n© REUTERS/ Christopher Aluka Berry GOP Threatens State Dept Budget Cuts Over Clinton Benghazi Doc Delays\\n\\nBlumenthal’s attorney said his client would cooperate with the US House Select Committee on Benghazi after being subpoenaed in April 2014 by the panel to appear not later than June 3, 2015.\\n\\nFormer Secretary of State Hillary Clinton hired Blumenthal at a Clinton Foundation executive position in 2011 during the rebellion against Muammar Gaddafi in Libya to offer services to Libyan rebels and to any new government that would replace Gaddafi.\\n\\nBlumenthal prepared 25 memos he sent to Clinton during 2011 and 2012, which served as intelligence briefings that would be presented to Clinton by her aide Jake Sullivan.\\n\\nBlumenthal also served as an aide to former US President Bill Clinton from August 1997 until January 2001.                                                                                                                                                                                                                                                                                                                                                                                                                                                                                                                                                                                                                                                                                                                                                                                                                                                                                                                                                                                                                                                                                                                                                                                                                                                                                                                                                                                                                                                                                                                                                                                                                                                                                                                                                                                                                                                                                                                                                                                                                                                                                                                                                                                                                                                                                                                                                                                                                                                                                                                                                                                                                                                                                                                                                                                                                                                                                                                                                                                                                                                                                                                                                                                                                                                                                                                                                                                                                                                                                                            2018-02-07 23:39:33.852696  Former Hillary Clinton Aide's Testimony on Benghazi Scandal Postponed    1     0                      0                0              0                  0              0            0                    0                            0            0                0                0               0             0             0            0             0                 0              0            0                      0                    1                     0                    1                       0                 0            0                      0               0               0                0                 0                  0                 0             0             0                 0                         0                 0             0            0                   0                      0                        0                           0                              0                              0                               0                          0                        0                               0                                0                   0                 0                                      0             0               0                0            0            0             0                   0               0               0                   0                    0                    0               0            0                  0                   0              0                 0                 0               0              0             0              0               0                      0                      0          0              0               0              0                      0                   0                  0                      0            0             0                              0                        0             0                        0                       0                     0            0                   0                   0            0               0                     1                        0              0                      0                            0                                 0                         0               0              1                      0                    0                 0                     0              0              0             0               0             0              0            1                 0                 0                  0              0                    0            0            0             0               0                       0                             0                                      0                             0                 0                 0                0               0                   0             0                 0                    0              0               0             0              0                0            0                     0                      0             0                     0                0               0                  0                    0                  0               0                       0               0                    0              0                   0              0                      0                0                           0           0              0                0                 0            0               0              0                 0            0                   0               0               0                  0               0              0               0                    0                    0                    0                  0                    0                        0                  0                         0                           0                 0                        0                          0                   0               0                           0                                0                              0                         0                         0                             0                            0                         0                                       0                          0                                       0                       0                                     0                                      0                                         0                                0                                        0                              0                          0                         0                     0                                    0                            0                        0                      0                     0                         0                         0                               0                                         0                        0                        0                         0                            0                              0                                             0                        0                     0                                0                         0                     0                     0                           0                            0                           0                        0                            0                               0                         0                     0                        0                      0                           0                   0                           0                             0                     0                               0                          0                           0                              0                   0                       0                        0                      0                            0                              0                       0                        0                        0                         0                     0                   0                           0                        0                        0                         0                    0                       0                         0                      0                       0                       0                          0                     0                         0                         0                         0                           0                        0                            0                          0                     0                                   0                                   0                          0                  0                          0                             0                               0                        0                         0                            1702435           0.00004\n",
       "                             The team went into administration last month and had hoped to return for the final race of the season after missing the US and Brazilian Grands Prix.\\n\\nTheir driver Jules Bianchi remains in hospital in a critical but stable condition after suffering severe head injuries in a crash at the Japanese GP. Over 200 people will lose their jobs.\\n\\nMarussia had been in talks with two potential investors, but when a deadline of 12:00 GMT on Friday passed with no funds transferred the team folded.\\n\\nGeoff Rowley, joint administrator at FRP Advisory, said: \"It goes without saying that it's deeply regrettable that a business with such a great following in Britain and worldwide has had to cease trading and close its doors.\"\\n\\nElements of Marussia management still hope to return to F1 next season and have applied for entry to next year's world championship under the name of Manor F1, the team's original guise.\\n\\nThe Caterham team, who also last raced in Russia, remain in administration. Their administrators said at the US Grand Prix last weekend that they had set a deadline of two weeks to find a buyer or that team would have to fold too.\\n\\nMarussia's final race was at the Russian Grand Prix on 12 October.\\n\\nEddie Jordan, ex driver and team owner, said: \"There are four reasons why the three teams who entered F1 in 2010 have all failed.\\n\\n\"First, Caterham (previously Lotus), Marussia (previously Virgin) and HRT were promised that the sport would have a budget cap of 50m Euros and governing body the FIA failed to impose this.\\n\\n\"Secondly, the costs for an engine were about £5m last year but have gone up to £15m this season with the introduction of new turbo hybrid engines.\\n\\n\"Who's accountable? It's Bernie Ecclestone's job to make sure promises are adhered to, and these costs are not coming down next year even though the manufacturers originally said they would.\\n\\n\"Thirdly, teams have to use Ecclestone's freight but the costs of this are high. There used to be a £10m payment from the commercial rights holder to teams to support the freight costs but Ecclestone withdrew that two years ago.\\n\\n\"Fourthly, there is the gross disparity of $300m being skimmed off the top of the money allocated to pay the teams as a cash payment for the top five teams, Red Bull, Ferrari, McLaren, Williams and Mercedes.\"\\n\\nMarussia currently lie ninth in the championship thanks to the two points Bianchi scored by finishing ninth in Monaco. They will retain that place officially, but when it comes to allocating the prize money from this season, the remaining team below them - Sauber - will be moved up and receive the funds instead.\\n\\n(VoR)                                                                                                                                                                                                                                                                                                                                                                                                                                                                                                                                                                                                                                                                                                                                                                                                                                                                                                                                                                                                                                                                                                                                                                                                                                                                                                                                                                                                                                                                                                                                                                                                                                                                                                                                                                                                                                                                                                                                                                                                                                                                                                                                                                                                                                                                                                                                             2018-02-02 01:19:41.756664  Russian F1 team Marussia fold making all staff redundant                 1     0                      0                0              0                  0              0            0                    0                            0            0                0                0               0             0             0            0             0                 1              0            0                      0                    0                     0                    0                       0                 0            0                      0               0               0                0                 0                  0                 0             0             0                 0                         0                 0             0            0                   0                      0                        0                           0                              0                              0                               0                          0                        0                               0                                0                   0                 0                                      0             0               0                0            0            0             0                   0               0               0                   0                    0                    0               0            0                  0                   0              0                 0                 0               0              0             0              0               0                      0                      0          0              0               0              0                      0                   0                  0                      0            0             0                              0                        0             0                        0                       0                     0            0                   0                   0            0               0                     0                        0              0                      0                            0                                 0                         0               0              0                      0                    0                 0                     0              0              0             0               0             0              0            0                 0                 0                  0              0                    0            0            0             0               0                       0                             0                                      0                             0                 0                 0                0               0                   0             0                 0                    0              0               0             0              0                0            0                     0                      0             0                     0                0               0                  0                    0                  0               0                       0               0                    0              0                   0              0                      0                0                           0           0              0                0                 0            0               0              0                 0            0                   0               0               0                  0               0              0               0                    0                    0                    0                  0                    0                        0                  0                         0                           0                 0                        0                          0                   0               0                           0                                0                              0                         0                         0                             0                            0                         0                                       0                          0                                       0                       0                                     0                                      0                                         0                                0                                        0                              0                          0                         0                     0                                    0                            0                        0                      0                     0                         0                         0                               0                                         0                        0                        0                         0                            0                              0                                             0                        0                     0                                0                         0                     0                     0                           0                            0                           0                        0                            0                               0                         0                     0                        0                      0                           0                   0                           0                             0                     0                               0                          0                           0                              0                   0                       0                        0                      0                            0                              0                       0                        0                        0                         0                     0                   0                           0                        0                        0                         0                    0                       0                         0                      0                       0                       0                          0                     0                         0                         0                         0                           0                        0                            0                          0                     0                                   0                                   0                          0                  0                          0                             0                               0                        0                         0                            1702435           0.00004\n",
       "                             The taxi-hailing app firm Uber has lost its appeal against a landmark UK ruling ordering it to treat its drivers as workers. Cases like this have sparked an upsurge in \"gig-economy workers\" seeking to unionize, a spokesperson for Independent Workers Union of Great Britain told Sputnik.\\n\\nThe much-lauded \"gig economy\" centered on apps such as Uber received a blow on November 10 with a judgement from the Employment Appeals Tribunal in the UK determining the drivers of the taxi app to be legally classed as \"workers,\" entitled to receive the minimum wage, holiday pay and paid rest breaks.\\n\\n© REUTERS/ Neil Hall A photo illustration shows the Uber app logo displayed on a mobile telephone, as it is held up for a posed photograph in central London, Britain August 17, 2016.\\n\\nEmiliano Mellino of the Independent Workers Union of Great Britain (IWGB) told Sputnik the judgement would make all employers, particularly Uber and others, think twice before denying such benefits to those working for them.\\n\\n\"It is the most high profile case and it is the one that's gone the furthest in the courts — the fight is not over. Each one of these victories is incredibly important in changing the narrative around the 'gig economy.' You never log in to the app and have a half-hour wait. That never happens because there's a bunch of guys circling the blocks desperately waiting for a job,\" Mr. Mellino told Sputnik.\\n\\nMr. Mellino added that the cases against employers such as Uber have sparked an upsurge in \"gig economy workers\" seeking to unionize.\\n\\n\"Members are joining like crazy! We just launched a branch in Birmingham a week or two ago. There are people desperately calling us up wanting to join. This makes employers in the gig-economy know that if they try to circumvent employment law in the UK, then they will face legal consequences.\"\\n\\n© REUTERS/ Toby Melville Uber Lodges Legal Appeal Against Ban on Operating in London\\n\\nThe drivers branch of IWGB, which was formed in June of 2017, supported the two claimants in the case — former Uber drivers Yaseen Aslam and James Farrar.\\n\\nAccording to UK employment law, \"worker\" is an intermediate category between a contractor and an employee who performs most of their duties on behalf of a single company. Unlike an employee, a worker is not entitled to sick pay.\\n\\nThe IWGB has also launched similar cases against Deliveroo, CitySpring and Addison Lee in which it has sought to argue that individuals working as \"contractors,\" in fact qualify as \"workers\" entitled to greater rights.\\n\\nUber has said it will appeal the decision before the High Court, with the case expected to be heard in early 2018.                                                                                                                                                                                                                                                                                                                                                                                                                                                                                                                                                                                                                                                                                                                                                                                                                                                                                                                                                                                                                                                                                                                                                                                                                                                                                                                                                                                                                                                                                                                                                                                                                                                                                                                                                                                                                                                                                                                                                                                                                                                                                                                                                                                                                                                                                                                                    2018-02-07 23:39:33.852696  'Members Joining Like Crazy!' Uber's Loss Driving British Union Numbers  1     0                      1                0              0                  0              0            0                    0                            0            0                0                0               0             0             0            0             0                 0              0            0                      0                    0                     0                    0                       0                 0            0                      0               0               0                0                 0                  0                 0             0             0                 0                         0                 0             0            0                   0                      0                        0                           0                              0                              0                               0                          0                        0                               0                                0                   0                 0                                      0             0               0                0            0            0             0                   0               0               0                   0                    0                    0               0            0                  0                   0              0                 0                 0               0              0             0              0               0                      1                      0          0              0               1              0                      0                   0                  0                      0            0             0                              0                        0             0                        0                       0                     0            0                   0                   0            0               0                     0                        0              0                      0                            0                                 0                         0               0              0                      0                    0                 0                     0              0              0             1               0             0              0            0                 0                 0                  0              0                    0            0            0             0               0                       0                             0                                      0                             0                 0                 0                0               0                   0             0                 0                    0              0               0             0              0                0            0                     0                      0             0                     0                0               0                  0                    0                  0               0                       0               0                    0              0                   0              0                      0                0                           0           0              0                0                 0            0               0              0                 0            0                   0               0               0                  0               0              0               0                    0                    0                    0                  0                    0                        0                  0                         0                           0                 0                        0                          0                   0               0                           0                                0                              0                         0                         0                             0                            0                         0                                       0                          0                                       0                       0                                     0                                      0                                         0                                0                                        0                              0                          0                         0                     0                                    0                            0                        0                      0                     0                         0                         0                               0                                         0                        0                        0                         0                            0                              0                                             0                        0                     0                                0                         0                     0                     0                           0                            0                           0                        0                            0                               0                         0                     0                        0                      0                           0                   0                           0                             0                     0                               0                          0                           0                              0                   0                       0                        0                      0                            0                              0                       0                        0                        0                         0                     0                   0                           0                        0                        0                         0                    0                       0                         0                      0                       0                       0                          0                     0                         0                         0                         0                           0                        0                            0                          0                     0                                   0                                   0                          0                  0                          0                             0                               0                        0                         0                            1702435           0.00004\n",
       "ahtribune.com    unreliable  150 Shares 92\\n\\n\\n\\n58\\n\\n0\\n\\n0\\n\\n\\n\\n\\n\\nLet me start off with a confession: I didn’t get it right when I speculated the Republican Party would not nominate Donald Trump for US president. I argued in an earlier column that if they did, the narcissistic Trump would most likely run as an independent candidate.\\n\\nI had posited, or hoped in such scenario Bernie Sanders would do the same and run against the Democratic Party establishment’s nominee. The Republican leadership however, chose Party unity over what was best for America. And Sanders folded under the Democratic Party for the obvious reasons.\\n\\nFour major candidates running for the final election could have signaled an end to the absolute two-party reign over US politics since 1792. The governing duopoly has made American election process lengthy, expensive and stale, unlike the shorter, less costly and the much more dynamic European elections.\\n\\nToday, American voters are left to choose between the lesser of two evils. The disapproval rating of Clinton and Trump hovers around 60%. Possibly for the first time in American history, the new White House resident will be the least disliked of the two party picks.\\n\\nIn 2000, electorates were faced with similar quandary. They had to choose between George W Bush/Dick Cheney or Al Gore/Joe Lieberman tickets. Else, cast their votes for the alternative that had little or no chance of winning.\\n\\nThree years later, it became very clear that “evils” flock together. To make the case for war, Bush’s greatest asset in US Senate was none other than Gore’s running mate, Lieberman. The Democratic vice presidential candidate who ran against the “evil” Republican, was the most faithful warrior in Bush’s loyal “evil” army in US Senate.\\n\\nHilary Clinton wasn’t far behind Lieberman. With her eyes on the White House, she proved to be an opportunist, voting to the sentiment of the majority of Americans who at the time supported the war. Leadership is front of the wagon, not behind it; Clinton failed her biggest leadership test.\\n\\nExperience aside, Clinton and Trump are not much different: She’s wicked in politics, he’s evil in business. She supported unjust wars. He exploited workers and bankrupted businesses.\\n\\nThat’s why in 2016, I refuse to vote for the lesser evil and have decided to cast my vote next November for the Jewish US presidential candidate.\\n\\nJill Stein refuses to sell her soul to “evil doers” and financiers of US elections. She speaks for millions of students who are overburdened by bank loans. Her Green Party platform advocates living wages for hard working Americans. She stood up to American Zionist financiers of the two-party system: Shedlon Adelson supporting Trump and Haim Saban backing Clinton.\\n\\nHeads or tails, Zionist financiers can always count on a winner in the White House.\\n\\nStein is the only candidate with the courage to tell Israeli leaders that US taxpayers’ money will be contingent on peace talk. Unlike current and previous presidents, Stein promised to withhold U.S. financial aid if Israeli continues flaunting American human rights values.\\n\\nIn an interview with the Israeli Newspaper Haartz, Stein warned Israel, “Home demolitions, occupation, assassination, apartheid…” against Palestinians wouldn’t be tolerated in her administration.\\n\\nDespite my dissatisfaction with Barak Obama’s presidency especially on the Palestine question. The truth to be said however, Obama broke the mold of the Party establishment candidate. He rattled the status quo and won. He had created more than 14 million jobs since February 2010 and 20 million new Americans have gained health insurance coverage under his Affordable Care Act.\\n\\nOn the International front, he ended most of Bush and the Zioncon’s wars. He ended America’s last cold war relic and established relationship with Cuba. And to a lesser extent, he stood up to the hubris Israeli rightwing prime minister and the powerful Israeli lobby in Washington. Even though, last week he cowered and agreed to grant Israel $$38 billion of US taxpayers’ money in next ten years, the largest set-aside entitlement foreign aid package ever.\\n\\nStill, optimistic as it maybe, but I’m hoping Obama will garner the audacity before he leaves office and proclaim an enforceable peace framework and to recognize Palestine.\\n\\nBack to US election, it could be rationally argued that if it wasn’t for eight miserable years under Bush, American voters might not have taken a chance on someone, like Obama from outside the Party establishment.\\n\\nThe worst that could happen in November is electing the less experienced evil. Unfortunately, Americans would most likely suffer as a result. But hopefully short pain, long term gain. The bigger the evil in the White House, the better the chance is for no evil next election’s round.\\n\\nAmerican should vote for the greater good, not the lesser evil.  2018-02-07 23:39:33.852696  Why I’ll vote for the Jewish candidate in US presidential election?      1     0                      0                0              0                  0              0            0                    0                            0            0                0                0               0             0             0            0             0                 0              0            0                      1                    0                     0                    1                       0                 0            0                      0               0               0                0                 0                  0                 0             0             0                 0                         0                 0             0            0                   1                      0                        0                           0                              0                              0                               0                          0                        0                               0                                0                   0                 0                                      0             0               0                0            0            0             0                   0               0               0                   0                    0                    0               0            0                  0                   0              0                 0                 0               0              0             0              0               0                      0                      0          0              0               0              0                      0                   0                  0                      0            0             0                              0                        0             0                        0                       0                     0            0                   0                   0            0               0                     0                        0              0                      0                            0                                 0                         0               0              0                      0                    0                 0                     0              0              0             0               0             0              0            0                 0                 0                  0              0                    0            0            0             0               0                       0                             0                                      0                             0                 0                 0                0               0                   0             0                 0                    0              0               0             0              0                0            0                     0                      0             0                     0                0               0                  0                    0                  0               0                       0               0                    0              0                   0              0                      0                0                           0           0              0                0                 0            0               0              0                 0            0                   0               0               0                  0               0              0               0                    0                    0                    0                  0                    0                        0                  0                         0                           0                 0                        0                          0                   0               0                           0                                0                              0                         0                         0                             0                            0                         0                                       0                          0                                       0                       0                                     0                                      0                                         0                                0                                        0                              0                          0                         0                     0                                    0                            0                        0                      0                     0                         0                         0                               0                                         0                        0                        0                         0                            0                              0                                             0                        0                     0                                0                         0                     0                     0                           0                            0                           0                        0                            0                               0                         0                     0                        0                      0                           0                   0                           0                             0                     0                               0                          0                           0                              0                   0                       0                        0                      0                            0                              0                       0                        0                        0                         0                     0                   0                           0                        0                        0                         0                    0                       0                         0                      0                       0                       0                          0                     0                         0                         0                         0                           0                        0                            0                          0                     0                                   0                                   0                          0                  0                          0                             0                               0                        0                         0                            1702435           0.00004\n",
       "Length: 4122, dtype: float64"
      ]
     },
     "execution_count": 57,
     "metadata": {},
     "output_type": "execute_result"
    }
   ],
   "source": [
    "tiny_balanced_sample.fake.value_counts(normalize=True)"
   ]
  },
  {
   "cell_type": "code",
   "execution_count": 58,
   "metadata": {},
   "outputs": [],
   "source": [
    "tiny_balanced_sample.to_csv(\"./data/news_bal_25k.csv\", index=False)"
   ]
  },
  {
   "cell_type": "code",
   "execution_count": 59,
   "metadata": {},
   "outputs": [],
   "source": [
    "tiny_data = filtered_data.sample(n=25_000, random_state=9034)"
   ]
  },
  {
   "cell_type": "code",
   "execution_count": 60,
   "metadata": {},
   "outputs": [],
   "source": [
    "tiny_data.to_csv(\"./data/news_simple_25k.csv\", columns=simple_cols, index=False)"
   ]
  },
  {
   "cell_type": "code",
   "execution_count": 61,
   "metadata": {},
   "outputs": [],
   "source": [
    "tiny_data.to_csv(\"./data/news_wkta_25k.csv\", index=False)"
   ]
  },
  {
   "cell_type": "code",
   "execution_count": 62,
   "metadata": {},
   "outputs": [],
   "source": [
    "smaller_balanced_sample = filtered_data.sample(n=50_000, weights = filtered_data[\"sample_weights\"], random_state=9034)"
   ]
  },
  {
   "cell_type": "code",
   "execution_count": 63,
   "metadata": {},
   "outputs": [],
   "source": [
    "smaller_balanced_sample.to_csv(\"./data/news_bal_50k.csv\", index=False)"
   ]
  },
  {
   "cell_type": "code",
   "execution_count": 64,
   "metadata": {},
   "outputs": [],
   "source": [
    "smaller_data = filtered_data.sample(n=50_000, random_state=9034)"
   ]
  },
  {
   "cell_type": "code",
   "execution_count": 65,
   "metadata": {},
   "outputs": [],
   "source": [
    "smaller_data.to_csv(\"./data/news_simple_50k.csv\", columns=simple_cols, index=False)"
   ]
  },
  {
   "cell_type": "code",
   "execution_count": 66,
   "metadata": {},
   "outputs": [],
   "source": [
    "smaller_data.to_csv(\"./data/news_wkta_50k.csv\", index=False)"
   ]
  },
  {
   "cell_type": "code",
   "execution_count": 67,
   "metadata": {},
   "outputs": [],
   "source": [
    "small_balanced_sample = filtered_data.sample(n=100_000, weights = filtered_data[\"sample_weights\"], random_state=9034)"
   ]
  },
  {
   "cell_type": "code",
   "execution_count": 68,
   "metadata": {},
   "outputs": [],
   "source": [
    "small_balanced_sample.to_csv(\"./data/news_bal_100k.csv\", index=False)"
   ]
  },
  {
   "cell_type": "code",
   "execution_count": 69,
   "metadata": {},
   "outputs": [],
   "source": [
    "small_data = filtered_data.sample(n=100_000, random_state=9034)"
   ]
  },
  {
   "cell_type": "code",
   "execution_count": 70,
   "metadata": {},
   "outputs": [],
   "source": [
    "small_data.to_csv(\"./data/news_simple_100k.csv\", columns=simple_cols, index=False)"
   ]
  },
  {
   "cell_type": "code",
   "execution_count": 71,
   "metadata": {},
   "outputs": [],
   "source": [
    "small_data.to_csv(\"./data/news_wkta_100k.csv\", index=False)"
   ]
  },
  {
   "cell_type": "code",
   "execution_count": 72,
   "metadata": {},
   "outputs": [],
   "source": [
    "import sys\n",
    "original_stdout = sys.stdout # Save a reference to the original standard output\n",
    "with open('./data/metadata_counts.txt', 'w') as f:\n",
    "    sys.stdout = f # Change the standard output to the file we created.\n",
    "    print(counts_keywords, counts_tags, counts_authors)\n",
    "    sys.stdout = original_stdout # Reset the standard output to its original value"
   ]
  },
  {
   "cell_type": "code",
   "execution_count": null,
   "metadata": {},
   "outputs": [],
   "source": []
  }
 ],
 "metadata": {
  "kernelspec": {
   "display_name": "Python 3",
   "language": "python",
   "name": "python3"
  },
  "language_info": {
   "codemirror_mode": {
    "name": "ipython",
    "version": 3
   },
   "file_extension": ".py",
   "mimetype": "text/x-python",
   "name": "python",
   "nbconvert_exporter": "python",
   "pygments_lexer": "ipython3",
   "version": "3.8.5"
  }
 },
 "nbformat": 4,
 "nbformat_minor": 4
}
